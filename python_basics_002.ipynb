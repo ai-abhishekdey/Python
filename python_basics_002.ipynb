{
 "cells": [
  {
   "cell_type": "markdown",
   "id": "d28c7b58",
   "metadata": {},
   "source": [
    "## Python Basics: 002"
   ]
  },
  {
   "cell_type": "markdown",
   "id": "276666c6",
   "metadata": {},
   "source": [
    "====================================\n",
    "\n",
    "Author : Abhishek Dey\n",
    "\n",
    "===================================="
   ]
  },
  {
   "cell_type": "markdown",
   "id": "3f4de5a6",
   "metadata": {},
   "source": [
    "### Contents:"
   ]
  },
  {
   "cell_type": "markdown",
   "id": "7105b6a6",
   "metadata": {},
   "source": [
    "* Upper / Lower / Title functions\n",
    "\n",
    "* Lists\n",
    "\n",
    "* Mutalble / Immutable\n",
    "\n",
    "* Tuples\n",
    "\n",
    "* Sets"
   ]
  },
  {
   "cell_type": "markdown",
   "id": "4e54d131",
   "metadata": {},
   "source": [
    "### Python : Upper / Lower / Title functions"
   ]
  },
  {
   "cell_type": "code",
   "execution_count": 1,
   "id": "c7f76bc2",
   "metadata": {},
   "outputs": [],
   "source": [
    "s1=\"hello world\"\n",
    "s2=\"HELLO WORLD\""
   ]
  },
  {
   "cell_type": "code",
   "execution_count": 3,
   "id": "36831e9b",
   "metadata": {},
   "outputs": [
    {
     "data": {
      "text/plain": [
       "'HELLO WORLD'"
      ]
     },
     "execution_count": 3,
     "metadata": {},
     "output_type": "execute_result"
    }
   ],
   "source": [
    "s1.upper()"
   ]
  },
  {
   "cell_type": "code",
   "execution_count": 4,
   "id": "bc61d173",
   "metadata": {},
   "outputs": [
    {
     "data": {
      "text/plain": [
       "'hello world'"
      ]
     },
     "execution_count": 4,
     "metadata": {},
     "output_type": "execute_result"
    }
   ],
   "source": [
    "s2.lower()"
   ]
  },
  {
   "cell_type": "code",
   "execution_count": 6,
   "id": "bae88a26",
   "metadata": {},
   "outputs": [
    {
     "data": {
      "text/plain": [
       "'Hello World'"
      ]
     },
     "execution_count": 6,
     "metadata": {},
     "output_type": "execute_result"
    }
   ],
   "source": [
    "s1.title()"
   ]
  },
  {
   "cell_type": "code",
   "execution_count": 7,
   "id": "2d5e4922",
   "metadata": {},
   "outputs": [
    {
     "data": {
      "text/plain": [
       "'Hello World'"
      ]
     },
     "execution_count": 7,
     "metadata": {},
     "output_type": "execute_result"
    }
   ],
   "source": [
    "s2.title()"
   ]
  },
  {
   "cell_type": "markdown",
   "id": "74fd459d",
   "metadata": {},
   "source": [
    "### Python : Lists - [  ] bracket"
   ]
  },
  {
   "cell_type": "markdown",
   "id": "646caaf9",
   "metadata": {},
   "source": [
    "List data type can store integers, floating point numbers, strings, complex numbers, Boolean etc together"
   ]
  },
  {
   "cell_type": "code",
   "execution_count": 22,
   "id": "34afea53",
   "metadata": {},
   "outputs": [],
   "source": [
    "a=[1, 5.5, \"hello world\", 6+2j, True]"
   ]
  },
  {
   "cell_type": "code",
   "execution_count": 23,
   "id": "011a65fc",
   "metadata": {},
   "outputs": [
    {
     "data": {
      "text/plain": [
       "list"
      ]
     },
     "execution_count": 23,
     "metadata": {},
     "output_type": "execute_result"
    }
   ],
   "source": [
    "type(a)"
   ]
  },
  {
   "cell_type": "code",
   "execution_count": 25,
   "id": "e71e2a38",
   "metadata": {},
   "outputs": [
    {
     "data": {
      "text/plain": [
       "(int, float, str, complex, bool)"
      ]
     },
     "execution_count": 25,
     "metadata": {},
     "output_type": "execute_result"
    }
   ],
   "source": [
    "type(a[0]),type(a[1]), type(a[2]) , type(a[3]), type(a[4])"
   ]
  },
  {
   "cell_type": "markdown",
   "id": "02e6cf6f",
   "metadata": {},
   "source": [
    "### Slicing in list"
   ]
  },
  {
   "cell_type": "code",
   "execution_count": 26,
   "id": "14fadd50",
   "metadata": {},
   "outputs": [
    {
     "data": {
      "text/plain": [
       "[1, 5.5, 'hello world']"
      ]
     },
     "execution_count": 26,
     "metadata": {},
     "output_type": "execute_result"
    }
   ],
   "source": [
    "a[:3]"
   ]
  },
  {
   "cell_type": "code",
   "execution_count": 27,
   "id": "7ac199a8",
   "metadata": {},
   "outputs": [
    {
     "data": {
      "text/plain": [
       "[5.5, 'hello world']"
      ]
     },
     "execution_count": 27,
     "metadata": {},
     "output_type": "execute_result"
    }
   ],
   "source": [
    "a[1:3]"
   ]
  },
  {
   "cell_type": "code",
   "execution_count": 28,
   "id": "993d65e4",
   "metadata": {},
   "outputs": [
    {
     "data": {
      "text/plain": [
       "(6+2j)"
      ]
     },
     "execution_count": 28,
     "metadata": {},
     "output_type": "execute_result"
    }
   ],
   "source": [
    "a[-2]"
   ]
  },
  {
   "cell_type": "code",
   "execution_count": 29,
   "id": "4eba490d",
   "metadata": {},
   "outputs": [
    {
     "data": {
      "text/plain": [
       "[True, (6+2j), 'hello world', 5.5, 1]"
      ]
     },
     "execution_count": 29,
     "metadata": {},
     "output_type": "execute_result"
    }
   ],
   "source": [
    "a[::-1]"
   ]
  },
  {
   "cell_type": "code",
   "execution_count": 30,
   "id": "ebde9f22",
   "metadata": {},
   "outputs": [
    {
     "data": {
      "text/plain": [
       "[True, 'hello world', 1]"
      ]
     },
     "execution_count": 30,
     "metadata": {},
     "output_type": "execute_result"
    }
   ],
   "source": [
    "a[::-2]"
   ]
  },
  {
   "cell_type": "markdown",
   "id": "8dadcb1a",
   "metadata": {},
   "source": [
    "### Extract \"hel\" from the list"
   ]
  },
  {
   "cell_type": "code",
   "execution_count": 31,
   "id": "6b3ae2a6",
   "metadata": {},
   "outputs": [
    {
     "data": {
      "text/plain": [
       "'hel'"
      ]
     },
     "execution_count": 31,
     "metadata": {},
     "output_type": "execute_result"
    }
   ],
   "source": [
    "a[2][:3]"
   ]
  },
  {
   "cell_type": "markdown",
   "id": "a5f9ca21",
   "metadata": {},
   "source": [
    "### Concatenation of two lists using \"+\""
   ]
  },
  {
   "cell_type": "code",
   "execution_count": 32,
   "id": "284d9578",
   "metadata": {},
   "outputs": [],
   "source": [
    "list1=[\"a\",\"b\",\"c\", 1 , 2, 3]\n",
    "list2=[True, False, 6+7j, 76.7]"
   ]
  },
  {
   "cell_type": "code",
   "execution_count": 33,
   "id": "056d9803",
   "metadata": {},
   "outputs": [
    {
     "data": {
      "text/plain": [
       "['a', 'b', 'c', 1, 2, 3, True, False, (6+7j), 76.7]"
      ]
     },
     "execution_count": 33,
     "metadata": {},
     "output_type": "execute_result"
    }
   ],
   "source": [
    "list1 + list2"
   ]
  },
  {
   "cell_type": "code",
   "execution_count": 34,
   "id": "e5d258af",
   "metadata": {},
   "outputs": [
    {
     "data": {
      "text/plain": [
       "[True, False, (6+7j), 76.7, 'a', 'b', 'c', 1, 2, 3]"
      ]
     },
     "execution_count": 34,
     "metadata": {},
     "output_type": "execute_result"
    }
   ],
   "source": [
    "list2 + list1"
   ]
  },
  {
   "cell_type": "code",
   "execution_count": 35,
   "id": "ff1d5e1c",
   "metadata": {},
   "outputs": [
    {
     "data": {
      "text/plain": [
       "[3, 2, 1, 'c', 'b', 'a', 76.7, (6+7j), False, True]"
      ]
     },
     "execution_count": 35,
     "metadata": {},
     "output_type": "execute_result"
    }
   ],
   "source": [
    "list1[::-1] + list2[::-1]"
   ]
  },
  {
   "cell_type": "markdown",
   "id": "0ca7ce42",
   "metadata": {},
   "source": [
    "### Repeat a list multiple times using \" * \""
   ]
  },
  {
   "cell_type": "code",
   "execution_count": 36,
   "id": "29bc5923",
   "metadata": {},
   "outputs": [
    {
     "data": {
      "text/plain": [
       "['a', 'b', 'c', 1, 2, 3, 'a', 'b', 'c', 1, 2, 3, 'a', 'b', 'c', 1, 2, 3]"
      ]
     },
     "execution_count": 36,
     "metadata": {},
     "output_type": "execute_result"
    }
   ],
   "source": [
    "list1 * 3"
   ]
  },
  {
   "cell_type": "code",
   "execution_count": 37,
   "id": "d3c69e42",
   "metadata": {},
   "outputs": [
    {
     "data": {
      "text/plain": [
       "[True, False, (6+7j), 76.7, True, False, (6+7j), 76.7]"
      ]
     },
     "execution_count": 37,
     "metadata": {},
     "output_type": "execute_result"
    }
   ],
   "source": [
    "list2 * 2"
   ]
  },
  {
   "cell_type": "markdown",
   "id": "56f3769d",
   "metadata": {},
   "source": [
    "### Python: Append list function"
   ]
  },
  {
   "cell_type": "code",
   "execution_count": 38,
   "id": "5e45519e",
   "metadata": {},
   "outputs": [],
   "source": [
    "s=\"hello world\"\n",
    "list1=[\"a\",\"b\",\"c\", 1 , 2, 3]"
   ]
  },
  {
   "cell_type": "code",
   "execution_count": 39,
   "id": "42aa0f7d",
   "metadata": {},
   "outputs": [],
   "source": [
    "list1.append(s)"
   ]
  },
  {
   "cell_type": "code",
   "execution_count": 40,
   "id": "b5774666",
   "metadata": {},
   "outputs": [
    {
     "data": {
      "text/plain": [
       "['a', 'b', 'c', 1, 2, 3, 'hello world']"
      ]
     },
     "execution_count": 40,
     "metadata": {},
     "output_type": "execute_result"
    }
   ],
   "source": [
    "list1"
   ]
  },
  {
   "cell_type": "markdown",
   "id": "a9810c96",
   "metadata": {},
   "source": [
    "### Append a list to another list"
   ]
  },
  {
   "cell_type": "code",
   "execution_count": 41,
   "id": "4f11706b",
   "metadata": {},
   "outputs": [],
   "source": [
    "list1=[\"a\",\"b\",\"c\", 1 , 2, 3]\n",
    "list2=[True, False, 6+7j, 76.7]"
   ]
  },
  {
   "cell_type": "code",
   "execution_count": 42,
   "id": "14c56f05",
   "metadata": {},
   "outputs": [],
   "source": [
    "list1.append(list2)"
   ]
  },
  {
   "cell_type": "code",
   "execution_count": 43,
   "id": "5d143dd8",
   "metadata": {},
   "outputs": [
    {
     "data": {
      "text/plain": [
       "['a', 'b', 'c', 1, 2, 3, [True, False, (6+7j), 76.7]]"
      ]
     },
     "execution_count": 43,
     "metadata": {},
     "output_type": "execute_result"
    }
   ],
   "source": [
    "list1"
   ]
  },
  {
   "cell_type": "markdown",
   "id": "5da1259e",
   "metadata": {},
   "source": [
    "### Python : Extend List function"
   ]
  },
  {
   "cell_type": "code",
   "execution_count": 44,
   "id": "1c508a62",
   "metadata": {},
   "outputs": [],
   "source": [
    "list1=[\"a\",\"b\",\"c\", 1 , 2, 3]"
   ]
  },
  {
   "cell_type": "code",
   "execution_count": 45,
   "id": "3f97a7aa",
   "metadata": {},
   "outputs": [],
   "source": [
    "list1.extend(list2)"
   ]
  },
  {
   "cell_type": "code",
   "execution_count": 46,
   "id": "808d3187",
   "metadata": {},
   "outputs": [
    {
     "data": {
      "text/plain": [
       "['a', 'b', 'c', 1, 2, 3, True, False, (6+7j), 76.7]"
      ]
     },
     "execution_count": 46,
     "metadata": {},
     "output_type": "execute_result"
    }
   ],
   "source": [
    "list1"
   ]
  },
  {
   "cell_type": "markdown",
   "id": "cdeb3536",
   "metadata": {},
   "source": [
    "NOTE: Append tries to add the data as it is and extend first breaks and the adds"
   ]
  },
  {
   "cell_type": "markdown",
   "id": "68ea942c",
   "metadata": {},
   "source": [
    "### Python: Insert function"
   ]
  },
  {
   "cell_type": "code",
   "execution_count": 47,
   "id": "719dbf36",
   "metadata": {},
   "outputs": [],
   "source": [
    "list1=[\"a\",\"b\",\"c\", 1 , 2, 3]"
   ]
  },
  {
   "cell_type": "code",
   "execution_count": 48,
   "id": "d094a301",
   "metadata": {},
   "outputs": [],
   "source": [
    "list1.insert(0,\"hello world\")"
   ]
  },
  {
   "cell_type": "code",
   "execution_count": 49,
   "id": "ce22c3a0",
   "metadata": {},
   "outputs": [
    {
     "data": {
      "text/plain": [
       "['hello world', 'a', 'b', 'c', 1, 2, 3]"
      ]
     },
     "execution_count": 49,
     "metadata": {},
     "output_type": "execute_result"
    }
   ],
   "source": [
    "list1"
   ]
  },
  {
   "cell_type": "code",
   "execution_count": 51,
   "id": "59e215e1",
   "metadata": {},
   "outputs": [],
   "source": [
    "list1.insert(4,\"hi\")"
   ]
  },
  {
   "cell_type": "code",
   "execution_count": 52,
   "id": "becc9390",
   "metadata": {},
   "outputs": [
    {
     "data": {
      "text/plain": [
       "['hello world', 'a', 'b', 'c', 'hi', 1, 2, 3]"
      ]
     },
     "execution_count": 52,
     "metadata": {},
     "output_type": "execute_result"
    }
   ],
   "source": [
    "list1"
   ]
  },
  {
   "cell_type": "code",
   "execution_count": 55,
   "id": "e1d93290",
   "metadata": {},
   "outputs": [],
   "source": [
    "list1.insert(2,45)"
   ]
  },
  {
   "cell_type": "code",
   "execution_count": 56,
   "id": "a844710d",
   "metadata": {},
   "outputs": [
    {
     "data": {
      "text/plain": [
       "['hello world', 'a', 45, 'b', 'c', 'hi', 1, 2, 3]"
      ]
     },
     "execution_count": 56,
     "metadata": {},
     "output_type": "execute_result"
    }
   ],
   "source": [
    "list1"
   ]
  },
  {
   "cell_type": "code",
   "execution_count": 57,
   "id": "efceb8f0",
   "metadata": {},
   "outputs": [],
   "source": [
    "list1.insert(5,87.8)"
   ]
  },
  {
   "cell_type": "code",
   "execution_count": 58,
   "id": "e003c15d",
   "metadata": {},
   "outputs": [
    {
     "data": {
      "text/plain": [
       "['hello world', 'a', 45, 'b', 'c', 87.8, 'hi', 1, 2, 3]"
      ]
     },
     "execution_count": 58,
     "metadata": {},
     "output_type": "execute_result"
    }
   ],
   "source": [
    "list1"
   ]
  },
  {
   "cell_type": "code",
   "execution_count": 62,
   "id": "3378bf29",
   "metadata": {},
   "outputs": [],
   "source": [
    "list1.insert(-1,1000)"
   ]
  },
  {
   "cell_type": "code",
   "execution_count": 63,
   "id": "48873418",
   "metadata": {},
   "outputs": [
    {
     "data": {
      "text/plain": [
       "['hello world', 'a', 45, 'b', 'c', 87.8, 'hi', 1, 2, 1000, 3]"
      ]
     },
     "execution_count": 63,
     "metadata": {},
     "output_type": "execute_result"
    }
   ],
   "source": [
    "list1"
   ]
  },
  {
   "cell_type": "code",
   "execution_count": 64,
   "id": "40a2b51e",
   "metadata": {},
   "outputs": [],
   "source": [
    "list1.insert(-3,2000)"
   ]
  },
  {
   "cell_type": "code",
   "execution_count": 65,
   "id": "b307d6e9",
   "metadata": {},
   "outputs": [
    {
     "data": {
      "text/plain": [
       "['hello world', 'a', 45, 'b', 'c', 87.8, 'hi', 1, 2000, 2, 1000, 3]"
      ]
     },
     "execution_count": 65,
     "metadata": {},
     "output_type": "execute_result"
    }
   ],
   "source": [
    "list1"
   ]
  },
  {
   "cell_type": "markdown",
   "id": "6c20eb6a",
   "metadata": {},
   "source": [
    "### Python : pop function"
   ]
  },
  {
   "cell_type": "markdown",
   "id": "b8afb333",
   "metadata": {},
   "source": [
    "pop :removes data from index. Default index = -1"
   ]
  },
  {
   "cell_type": "code",
   "execution_count": 66,
   "id": "32b15be7",
   "metadata": {},
   "outputs": [
    {
     "data": {
      "text/plain": [
       "['hello world', 'a', 45, 'b', 'c', 87.8, 'hi', 1, 2000, 2, 1000, 3]"
      ]
     },
     "execution_count": 66,
     "metadata": {},
     "output_type": "execute_result"
    }
   ],
   "source": [
    "list1"
   ]
  },
  {
   "cell_type": "code",
   "execution_count": 68,
   "id": "67f02c25",
   "metadata": {},
   "outputs": [
    {
     "data": {
      "text/plain": [
       "3"
      ]
     },
     "execution_count": 68,
     "metadata": {},
     "output_type": "execute_result"
    }
   ],
   "source": [
    "list1.pop()"
   ]
  },
  {
   "cell_type": "code",
   "execution_count": 69,
   "id": "cb35fe79",
   "metadata": {},
   "outputs": [
    {
     "data": {
      "text/plain": [
       "['hello world', 'a', 45, 'b', 'c', 87.8, 'hi', 1, 2000, 2, 1000]"
      ]
     },
     "execution_count": 69,
     "metadata": {},
     "output_type": "execute_result"
    }
   ],
   "source": [
    "list1"
   ]
  },
  {
   "cell_type": "code",
   "execution_count": 70,
   "id": "8547a943",
   "metadata": {},
   "outputs": [
    {
     "data": {
      "text/plain": [
       "'hello world'"
      ]
     },
     "execution_count": 70,
     "metadata": {},
     "output_type": "execute_result"
    }
   ],
   "source": [
    "list1.pop(0)"
   ]
  },
  {
   "cell_type": "code",
   "execution_count": 71,
   "id": "0edf2f32",
   "metadata": {},
   "outputs": [
    {
     "data": {
      "text/plain": [
       "['a', 45, 'b', 'c', 87.8, 'hi', 1, 2000, 2, 1000]"
      ]
     },
     "execution_count": 71,
     "metadata": {},
     "output_type": "execute_result"
    }
   ],
   "source": [
    "list1"
   ]
  },
  {
   "cell_type": "code",
   "execution_count": 72,
   "id": "0b44f5da",
   "metadata": {},
   "outputs": [
    {
     "data": {
      "text/plain": [
       "'c'"
      ]
     },
     "execution_count": 72,
     "metadata": {},
     "output_type": "execute_result"
    }
   ],
   "source": [
    "list1.pop(3)"
   ]
  },
  {
   "cell_type": "code",
   "execution_count": 73,
   "id": "bff9a129",
   "metadata": {},
   "outputs": [
    {
     "data": {
      "text/plain": [
       "['a', 45, 'b', 87.8, 'hi', 1, 2000, 2, 1000]"
      ]
     },
     "execution_count": 73,
     "metadata": {},
     "output_type": "execute_result"
    }
   ],
   "source": [
    "list1"
   ]
  },
  {
   "cell_type": "code",
   "execution_count": 74,
   "id": "95972687",
   "metadata": {},
   "outputs": [
    {
     "data": {
      "text/plain": [
       "2"
      ]
     },
     "execution_count": 74,
     "metadata": {},
     "output_type": "execute_result"
    }
   ],
   "source": [
    "list1.pop(-2)"
   ]
  },
  {
   "cell_type": "code",
   "execution_count": 75,
   "id": "38c169f2",
   "metadata": {},
   "outputs": [
    {
     "data": {
      "text/plain": [
       "['a', 45, 'b', 87.8, 'hi', 1, 2000, 1000]"
      ]
     },
     "execution_count": 75,
     "metadata": {},
     "output_type": "execute_result"
    }
   ],
   "source": [
    "list1"
   ]
  },
  {
   "cell_type": "code",
   "execution_count": 76,
   "id": "2f3ded2c",
   "metadata": {},
   "outputs": [
    {
     "data": {
      "text/plain": [
       "'hi'"
      ]
     },
     "execution_count": 76,
     "metadata": {},
     "output_type": "execute_result"
    }
   ],
   "source": [
    "list1.pop(-4)"
   ]
  },
  {
   "cell_type": "code",
   "execution_count": 77,
   "id": "484f61d7",
   "metadata": {},
   "outputs": [
    {
     "data": {
      "text/plain": [
       "['a', 45, 'b', 87.8, 1, 2000, 1000]"
      ]
     },
     "execution_count": 77,
     "metadata": {},
     "output_type": "execute_result"
    }
   ],
   "source": [
    "list1"
   ]
  },
  {
   "cell_type": "markdown",
   "id": "ca29603d",
   "metadata": {},
   "source": [
    "### Python : Remove function"
   ]
  },
  {
   "cell_type": "markdown",
   "id": "caf8adda",
   "metadata": {},
   "source": [
    "remove function removes first occurance of the data"
   ]
  },
  {
   "cell_type": "code",
   "execution_count": 78,
   "id": "ec2d56c3",
   "metadata": {},
   "outputs": [],
   "source": [
    "list1=[1,3,5,635,2,3,6,5]"
   ]
  },
  {
   "cell_type": "code",
   "execution_count": 79,
   "id": "e434a8c5",
   "metadata": {},
   "outputs": [],
   "source": [
    "list1.remove(1)"
   ]
  },
  {
   "cell_type": "code",
   "execution_count": 80,
   "id": "6ab25899",
   "metadata": {},
   "outputs": [
    {
     "data": {
      "text/plain": [
       "[3, 5, 635, 2, 3, 6, 5]"
      ]
     },
     "execution_count": 80,
     "metadata": {},
     "output_type": "execute_result"
    }
   ],
   "source": [
    "list1"
   ]
  },
  {
   "cell_type": "code",
   "execution_count": 81,
   "id": "f12e7b00",
   "metadata": {},
   "outputs": [],
   "source": [
    "list1.remove(3)"
   ]
  },
  {
   "cell_type": "code",
   "execution_count": 82,
   "id": "7e7cdb04",
   "metadata": {},
   "outputs": [
    {
     "data": {
      "text/plain": [
       "[5, 635, 2, 3, 6, 5]"
      ]
     },
     "execution_count": 82,
     "metadata": {},
     "output_type": "execute_result"
    }
   ],
   "source": [
    "list1"
   ]
  },
  {
   "cell_type": "code",
   "execution_count": 83,
   "id": "5257b728",
   "metadata": {},
   "outputs": [],
   "source": [
    "list1.remove(5)"
   ]
  },
  {
   "cell_type": "code",
   "execution_count": 84,
   "id": "351c6de0",
   "metadata": {},
   "outputs": [
    {
     "data": {
      "text/plain": [
       "[635, 2, 3, 6, 5]"
      ]
     },
     "execution_count": 84,
     "metadata": {},
     "output_type": "execute_result"
    }
   ],
   "source": [
    "list1"
   ]
  },
  {
   "cell_type": "code",
   "execution_count": 85,
   "id": "47b55e86",
   "metadata": {},
   "outputs": [],
   "source": [
    "list1.remove(6)"
   ]
  },
  {
   "cell_type": "code",
   "execution_count": 86,
   "id": "06ac8392",
   "metadata": {},
   "outputs": [
    {
     "data": {
      "text/plain": [
       "[635, 2, 3, 5]"
      ]
     },
     "execution_count": 86,
     "metadata": {},
     "output_type": "execute_result"
    }
   ],
   "source": [
    "list1"
   ]
  },
  {
   "cell_type": "code",
   "execution_count": 87,
   "id": "54b5bb98",
   "metadata": {},
   "outputs": [
    {
     "ename": "ValueError",
     "evalue": "list.remove(x): x not in list",
     "output_type": "error",
     "traceback": [
      "\u001b[0;31m---------------------------------------------------------------------------\u001b[0m",
      "\u001b[0;31mValueError\u001b[0m                                Traceback (most recent call last)",
      "Cell \u001b[0;32mIn[87], line 1\u001b[0m\n\u001b[0;32m----> 1\u001b[0m \u001b[43mlist1\u001b[49m\u001b[38;5;241;43m.\u001b[39;49m\u001b[43mremove\u001b[49m\u001b[43m(\u001b[49m\u001b[38;5;241;43m1000\u001b[39;49m\u001b[43m)\u001b[49m\n",
      "\u001b[0;31mValueError\u001b[0m: list.remove(x): x not in list"
     ]
    }
   ],
   "source": [
    "list1.remove(1000)"
   ]
  },
  {
   "cell_type": "markdown",
   "id": "e5a2f383",
   "metadata": {},
   "source": [
    "**NOTE :** **pop** operates on index but **remove** operates on the data"
   ]
  },
  {
   "cell_type": "markdown",
   "id": "6b0ae41c",
   "metadata": {},
   "source": [
    "### Python : Reverse function"
   ]
  },
  {
   "cell_type": "markdown",
   "id": "3b302764",
   "metadata": {},
   "source": [
    "reverse: permanently reverses the list variable"
   ]
  },
  {
   "cell_type": "code",
   "execution_count": 88,
   "id": "7b5b742e",
   "metadata": {},
   "outputs": [],
   "source": [
    "list1=[1,3,5,635,2,3,6,5]\n",
    "\n",
    "list1.reverse()"
   ]
  },
  {
   "cell_type": "code",
   "execution_count": 89,
   "id": "1d510dbc",
   "metadata": {},
   "outputs": [
    {
     "data": {
      "text/plain": [
       "[5, 6, 3, 2, 635, 5, 3, 1]"
      ]
     },
     "execution_count": 89,
     "metadata": {},
     "output_type": "execute_result"
    }
   ],
   "source": [
    "list1"
   ]
  },
  {
   "cell_type": "markdown",
   "id": "37a7afe9",
   "metadata": {},
   "source": [
    "### Python : Sort function (ascending to decending)"
   ]
  },
  {
   "cell_type": "code",
   "execution_count": 91,
   "id": "265b5e9c",
   "metadata": {},
   "outputs": [],
   "source": [
    "list1=[1,87,3,43,55,32,45,2]"
   ]
  },
  {
   "cell_type": "code",
   "execution_count": 92,
   "id": "4f05c1bb",
   "metadata": {},
   "outputs": [],
   "source": [
    "list1.sort()"
   ]
  },
  {
   "cell_type": "code",
   "execution_count": 93,
   "id": "d547c1e6",
   "metadata": {},
   "outputs": [
    {
     "data": {
      "text/plain": [
       "[1, 2, 3, 32, 43, 45, 55, 87]"
      ]
     },
     "execution_count": 93,
     "metadata": {},
     "output_type": "execute_result"
    }
   ],
   "source": [
    "list1"
   ]
  },
  {
   "cell_type": "code",
   "execution_count": 102,
   "id": "d9af96ef",
   "metadata": {},
   "outputs": [],
   "source": [
    "list2=[\"hi\", \"ml students\", \"hello\", \"world\", ]"
   ]
  },
  {
   "cell_type": "code",
   "execution_count": 103,
   "id": "08907173",
   "metadata": {},
   "outputs": [],
   "source": [
    "list2.sort()"
   ]
  },
  {
   "cell_type": "code",
   "execution_count": 104,
   "id": "92de044a",
   "metadata": {},
   "outputs": [
    {
     "data": {
      "text/plain": [
       "['hello', 'hi', 'ml students', 'world']"
      ]
     },
     "execution_count": 104,
     "metadata": {},
     "output_type": "execute_result"
    }
   ],
   "source": [
    "list2"
   ]
  },
  {
   "cell_type": "markdown",
   "id": "d31fda0b",
   "metadata": {},
   "source": [
    "### Reverse sort (Decending to ascending)"
   ]
  },
  {
   "cell_type": "code",
   "execution_count": 96,
   "id": "fd38227b",
   "metadata": {},
   "outputs": [],
   "source": [
    "list1=[1,87,3,43,55,32,45,2]"
   ]
  },
  {
   "cell_type": "code",
   "execution_count": 97,
   "id": "64fc4bd7",
   "metadata": {},
   "outputs": [],
   "source": [
    "list1.sort(reverse=True)"
   ]
  },
  {
   "cell_type": "code",
   "execution_count": 98,
   "id": "10cb5b5d",
   "metadata": {},
   "outputs": [
    {
     "data": {
      "text/plain": [
       "[87, 55, 45, 43, 32, 3, 2, 1]"
      ]
     },
     "execution_count": 98,
     "metadata": {},
     "output_type": "execute_result"
    }
   ],
   "source": [
    "list1"
   ]
  },
  {
   "cell_type": "code",
   "execution_count": 105,
   "id": "92be4ebf",
   "metadata": {},
   "outputs": [],
   "source": [
    "list2=[\"hi\", \"ml students\", \"hello\", \"world\", ]"
   ]
  },
  {
   "cell_type": "code",
   "execution_count": 106,
   "id": "a088f2dc",
   "metadata": {},
   "outputs": [],
   "source": [
    "list2.sort(reverse=True)"
   ]
  },
  {
   "cell_type": "code",
   "execution_count": 107,
   "id": "9bb106ef",
   "metadata": {},
   "outputs": [
    {
     "data": {
      "text/plain": [
       "['world', 'ml students', 'hi', 'hello']"
      ]
     },
     "execution_count": 107,
     "metadata": {},
     "output_type": "execute_result"
    }
   ],
   "source": [
    "list2"
   ]
  },
  {
   "cell_type": "code",
   "execution_count": null,
   "id": "7c009b60",
   "metadata": {},
   "outputs": [],
   "source": [
    "## Python  : Reverse"
   ]
  },
  {
   "cell_type": "markdown",
   "id": "f350fb6a",
   "metadata": {},
   "source": [
    "### Mutable and immutable"
   ]
  },
  {
   "cell_type": "markdown",
   "id": "1a50b7e6",
   "metadata": {},
   "source": [
    "**mutable** means the values of the elements **can** changed. **Write-permision** is granted\n",
    "\n",
    "**immutable** means the values of the elements **cannot** changed. **Write-permision** is granted\n",
    "\n",
    "lists are **mutable**\n",
    "\n",
    "string are **immutable**\n",
    "\n",
    "tupples are **immutable**\n",
    "\n",
    "\n",
    "Note: if the value in an index can be replace by another value then it is called mutable else it is called immutable\n"
   ]
  },
  {
   "cell_type": "code",
   "execution_count": 8,
   "id": "88c6d5e6",
   "metadata": {},
   "outputs": [],
   "source": [
    "l=[1,2,3,343,43,523]"
   ]
  },
  {
   "cell_type": "code",
   "execution_count": 12,
   "id": "e7507a44",
   "metadata": {},
   "outputs": [],
   "source": [
    "# value of index 0 is replaced by 1000 \n",
    "\n",
    "\n",
    "l[0]=10000"
   ]
  },
  {
   "cell_type": "code",
   "execution_count": 13,
   "id": "407840bc",
   "metadata": {},
   "outputs": [
    {
     "data": {
      "text/plain": [
       "[10000, 2, 3, 343, 43, 523]"
      ]
     },
     "execution_count": 13,
     "metadata": {},
     "output_type": "execute_result"
    }
   ],
   "source": [
    "l"
   ]
  },
  {
   "cell_type": "markdown",
   "id": "be4e29ff",
   "metadata": {},
   "source": [
    "### Immutable Strings"
   ]
  },
  {
   "cell_type": "code",
   "execution_count": 2,
   "id": "cf81e9ca",
   "metadata": {},
   "outputs": [],
   "source": [
    "s=\"hello\""
   ]
  },
  {
   "cell_type": "code",
   "execution_count": 112,
   "id": "20b9c906",
   "metadata": {},
   "outputs": [
    {
     "data": {
      "text/plain": [
       "'h'"
      ]
     },
     "execution_count": 112,
     "metadata": {},
     "output_type": "execute_result"
    }
   ],
   "source": [
    "s[0]"
   ]
  },
  {
   "cell_type": "code",
   "execution_count": 113,
   "id": "b14d983d",
   "metadata": {},
   "outputs": [
    {
     "ename": "TypeError",
     "evalue": "'str' object does not support item assignment",
     "output_type": "error",
     "traceback": [
      "\u001b[0;31m---------------------------------------------------------------------------\u001b[0m",
      "\u001b[0;31mTypeError\u001b[0m                                 Traceback (most recent call last)",
      "Cell \u001b[0;32mIn[113], line 1\u001b[0m\n\u001b[0;32m----> 1\u001b[0m \u001b[43ms\u001b[49m\u001b[43m[\u001b[49m\u001b[38;5;241;43m0\u001b[39;49m\u001b[43m]\u001b[49m\u001b[38;5;241m=\u001b[39m\u001b[38;5;124m'\u001b[39m\u001b[38;5;124mk\u001b[39m\u001b[38;5;124m'\u001b[39m\n",
      "\u001b[0;31mTypeError\u001b[0m: 'str' object does not support item assignment"
     ]
    }
   ],
   "source": [
    "s[0]='k'"
   ]
  },
  {
   "cell_type": "code",
   "execution_count": 5,
   "id": "b149b25d",
   "metadata": {},
   "outputs": [],
   "source": [
    "s1=s.replace('h','k')"
   ]
  },
  {
   "cell_type": "code",
   "execution_count": 6,
   "id": "e857104d",
   "metadata": {},
   "outputs": [
    {
     "data": {
      "text/plain": [
       "'kello'"
      ]
     },
     "execution_count": 6,
     "metadata": {},
     "output_type": "execute_result"
    }
   ],
   "source": [
    "s1"
   ]
  },
  {
   "cell_type": "code",
   "execution_count": 7,
   "id": "4d98f127",
   "metadata": {},
   "outputs": [
    {
     "data": {
      "text/plain": [
       "'hello'"
      ]
     },
     "execution_count": 7,
     "metadata": {},
     "output_type": "execute_result"
    }
   ],
   "source": [
    "s"
   ]
  },
  {
   "cell_type": "markdown",
   "id": "b3c68a1c",
   "metadata": {},
   "source": [
    "### Mutable List"
   ]
  },
  {
   "cell_type": "code",
   "execution_count": 114,
   "id": "d5bf631e",
   "metadata": {},
   "outputs": [],
   "source": [
    "l=[1,3,5,6]"
   ]
  },
  {
   "cell_type": "code",
   "execution_count": 115,
   "id": "26fce818",
   "metadata": {},
   "outputs": [],
   "source": [
    "l[3]=100"
   ]
  },
  {
   "cell_type": "code",
   "execution_count": 116,
   "id": "68947a30",
   "metadata": {},
   "outputs": [
    {
     "data": {
      "text/plain": [
       "[1, 3, 5, 100]"
      ]
     },
     "execution_count": 116,
     "metadata": {},
     "output_type": "execute_result"
    }
   ],
   "source": [
    "l"
   ]
  },
  {
   "cell_type": "markdown",
   "id": "112a9ba9",
   "metadata": {},
   "source": [
    "### Python : Tuples - ( ) bracket\n",
    "\n",
    "* collection of data\n",
    "\n",
    "* immutable\n",
    "\n",
    "* tuples has only two in-functions : count and index \n",
    "\n",
    "* it's useful where data modification is not expected like passwords"
   ]
  },
  {
   "cell_type": "code",
   "execution_count": 20,
   "id": "58cc53f6",
   "metadata": {},
   "outputs": [],
   "source": [
    "t=(1,4,5.5,[3,4,-1],\"hello world\",True, 5+9j)"
   ]
  },
  {
   "cell_type": "code",
   "execution_count": 21,
   "id": "5f05b3bb",
   "metadata": {},
   "outputs": [
    {
     "data": {
      "text/plain": [
       "tuple"
      ]
     },
     "execution_count": 21,
     "metadata": {},
     "output_type": "execute_result"
    }
   ],
   "source": [
    "type(t)"
   ]
  },
  {
   "cell_type": "code",
   "execution_count": 22,
   "id": "2558827f",
   "metadata": {},
   "outputs": [
    {
     "data": {
      "text/plain": [
       "7"
      ]
     },
     "execution_count": 22,
     "metadata": {},
     "output_type": "execute_result"
    }
   ],
   "source": [
    "len(t)"
   ]
  },
  {
   "cell_type": "markdown",
   "id": "3a7c3656",
   "metadata": {},
   "source": [
    "### indexing in tuples"
   ]
  },
  {
   "cell_type": "code",
   "execution_count": 25,
   "id": "6e9b4256",
   "metadata": {},
   "outputs": [
    {
     "data": {
      "text/plain": [
       "[3, 4, -1]"
      ]
     },
     "execution_count": 25,
     "metadata": {},
     "output_type": "execute_result"
    }
   ],
   "source": [
    "t[3]"
   ]
  },
  {
   "cell_type": "markdown",
   "id": "20a43ed9",
   "metadata": {},
   "source": [
    "### slicing in tuples"
   ]
  },
  {
   "cell_type": "code",
   "execution_count": 26,
   "id": "2f486422",
   "metadata": {},
   "outputs": [
    {
     "data": {
      "text/plain": [
       "(1, 4, 5.5, [3, 4, -1], 'hello world')"
      ]
     },
     "execution_count": 26,
     "metadata": {},
     "output_type": "execute_result"
    }
   ],
   "source": [
    "t[0:5:1]"
   ]
  },
  {
   "cell_type": "code",
   "execution_count": 31,
   "id": "b0cc582a",
   "metadata": {},
   "outputs": [
    {
     "data": {
      "text/plain": [
       "(True, 'hello world')"
      ]
     },
     "execution_count": 31,
     "metadata": {},
     "output_type": "execute_result"
    }
   ],
   "source": [
    "t[5:3:-1]"
   ]
  },
  {
   "cell_type": "code",
   "execution_count": 32,
   "id": "36562ee1",
   "metadata": {},
   "outputs": [
    {
     "data": {
      "text/plain": [
       "((5+9j), True, 'hello world', [3, 4, -1], 5.5, 4)"
      ]
     },
     "execution_count": 32,
     "metadata": {},
     "output_type": "execute_result"
    }
   ],
   "source": [
    "t[-1:0:-1]"
   ]
  },
  {
   "cell_type": "markdown",
   "id": "c64805e5",
   "metadata": {},
   "source": [
    "### Tuple concatenation"
   ]
  },
  {
   "cell_type": "code",
   "execution_count": 1,
   "id": "5fa556ea",
   "metadata": {},
   "outputs": [],
   "source": [
    "t1=(1,2,3,4)\n",
    "t2=(5,6,7,8)"
   ]
  },
  {
   "cell_type": "code",
   "execution_count": 2,
   "id": "f82777b4",
   "metadata": {},
   "outputs": [],
   "source": [
    "t3=t1+t2"
   ]
  },
  {
   "cell_type": "code",
   "execution_count": 3,
   "id": "54bcce29",
   "metadata": {},
   "outputs": [
    {
     "data": {
      "text/plain": [
       "(1, 2, 3, 4, 5, 6, 7, 8)"
      ]
     },
     "execution_count": 3,
     "metadata": {},
     "output_type": "execute_result"
    }
   ],
   "source": [
    "t3"
   ]
  },
  {
   "cell_type": "markdown",
   "id": "3c219d31",
   "metadata": {},
   "source": [
    "### Tuple repeatition"
   ]
  },
  {
   "cell_type": "code",
   "execution_count": 4,
   "id": "e503c16e",
   "metadata": {},
   "outputs": [],
   "source": [
    "t=(1,2,3)"
   ]
  },
  {
   "cell_type": "code",
   "execution_count": 5,
   "id": "b62d0860",
   "metadata": {},
   "outputs": [
    {
     "data": {
      "text/plain": [
       "(1, 2, 3, 1, 2, 3, 1, 2, 3)"
      ]
     },
     "execution_count": 5,
     "metadata": {},
     "output_type": "execute_result"
    }
   ],
   "source": [
    "t*3"
   ]
  },
  {
   "cell_type": "code",
   "execution_count": 6,
   "id": "033b1007",
   "metadata": {},
   "outputs": [
    {
     "data": {
      "text/plain": [
       "(1, 2, 3, 1, 2, 3, 1, 2, 3, 1, 2, 3)"
      ]
     },
     "execution_count": 6,
     "metadata": {},
     "output_type": "execute_result"
    }
   ],
   "source": [
    "t*4"
   ]
  },
  {
   "cell_type": "markdown",
   "id": "827710d4",
   "metadata": {},
   "source": [
    "### count function in tuples"
   ]
  },
  {
   "cell_type": "code",
   "execution_count": 33,
   "id": "b0f3ff74",
   "metadata": {},
   "outputs": [
    {
     "data": {
      "text/plain": [
       "1"
      ]
     },
     "execution_count": 33,
     "metadata": {},
     "output_type": "execute_result"
    }
   ],
   "source": [
    "t.count(4)"
   ]
  },
  {
   "cell_type": "markdown",
   "id": "c2d460df",
   "metadata": {},
   "source": [
    "### index function in tuples"
   ]
  },
  {
   "cell_type": "code",
   "execution_count": 35,
   "id": "ebbf0f90",
   "metadata": {},
   "outputs": [
    {
     "data": {
      "text/plain": [
       "1"
      ]
     },
     "execution_count": 35,
     "metadata": {},
     "output_type": "execute_result"
    }
   ],
   "source": [
    "t.index(4)"
   ]
  },
  {
   "cell_type": "markdown",
   "id": "f5a26740",
   "metadata": {},
   "source": [
    "### Python : Set - { }\n",
    "\n",
    "* collection of primitive elements and immutable collection like tuple is allowed\n",
    "\n",
    "* list inside set is not allowed\n",
    "\n",
    "* used store unique values\n",
    "\n",
    "* duplicate entries not allowed\n",
    "\n",
    "* immutable\n",
    "\n",
    "* indexing and slicing not allowed"
   ]
  },
  {
   "cell_type": "code",
   "execution_count": 36,
   "id": "63a4a236",
   "metadata": {},
   "outputs": [],
   "source": [
    "s={}"
   ]
  },
  {
   "cell_type": "code",
   "execution_count": 37,
   "id": "b3ee1aab",
   "metadata": {},
   "outputs": [
    {
     "data": {
      "text/plain": [
       "dict"
      ]
     },
     "execution_count": 37,
     "metadata": {},
     "output_type": "execute_result"
    }
   ],
   "source": [
    "type(s)"
   ]
  },
  {
   "cell_type": "code",
   "execution_count": 38,
   "id": "ee91ca8a",
   "metadata": {},
   "outputs": [],
   "source": [
    "s1={1,2,3}"
   ]
  },
  {
   "cell_type": "code",
   "execution_count": 39,
   "id": "cb5a2804",
   "metadata": {},
   "outputs": [
    {
     "data": {
      "text/plain": [
       "{1, 2, 3}"
      ]
     },
     "execution_count": 39,
     "metadata": {},
     "output_type": "execute_result"
    }
   ],
   "source": [
    "s1"
   ]
  },
  {
   "cell_type": "code",
   "execution_count": 40,
   "id": "efe6ffcf",
   "metadata": {},
   "outputs": [
    {
     "data": {
      "text/plain": [
       "set"
      ]
     },
     "execution_count": 40,
     "metadata": {},
     "output_type": "execute_result"
    }
   ],
   "source": [
    "type(s1)"
   ]
  },
  {
   "cell_type": "markdown",
   "id": "1e3f07e4",
   "metadata": {},
   "source": [
    "### Note: Type of empty set is dict and type of non-empty set is set"
   ]
  },
  {
   "cell_type": "code",
   "execution_count": 41,
   "id": "6e76c873",
   "metadata": {},
   "outputs": [],
   "source": [
    "s2={1,2,3,3,3,3,3,3,3,4}"
   ]
  },
  {
   "cell_type": "code",
   "execution_count": 42,
   "id": "bd78ef0b",
   "metadata": {},
   "outputs": [
    {
     "data": {
      "text/plain": [
       "{1, 2, 3, 4}"
      ]
     },
     "execution_count": 42,
     "metadata": {},
     "output_type": "execute_result"
    }
   ],
   "source": [
    "s2"
   ]
  },
  {
   "cell_type": "code",
   "execution_count": 48,
   "id": "0baaf07d",
   "metadata": {},
   "outputs": [],
   "source": [
    "s3={1,'a',True}"
   ]
  },
  {
   "cell_type": "code",
   "execution_count": 49,
   "id": "8a798694",
   "metadata": {},
   "outputs": [
    {
     "data": {
      "text/plain": [
       "{1, 'a'}"
      ]
     },
     "execution_count": 49,
     "metadata": {},
     "output_type": "execute_result"
    }
   ],
   "source": [
    "s3"
   ]
  },
  {
   "cell_type": "markdown",
   "id": "7ba3258f",
   "metadata": {},
   "source": [
    "### since 1 and True(1) are duplicates so True is removed"
   ]
  },
  {
   "cell_type": "markdown",
   "id": "90e24780",
   "metadata": {},
   "source": [
    "### Duplicate entries are removed"
   ]
  },
  {
   "cell_type": "code",
   "execution_count": 50,
   "id": "04cdf93a",
   "metadata": {},
   "outputs": [],
   "source": [
    "s4={1,'a',False}"
   ]
  },
  {
   "cell_type": "code",
   "execution_count": 51,
   "id": "9ea1a5a0",
   "metadata": {},
   "outputs": [
    {
     "data": {
      "text/plain": [
       "{1, False, 'a'}"
      ]
     },
     "execution_count": 51,
     "metadata": {},
     "output_type": "execute_result"
    }
   ],
   "source": [
    "s4"
   ]
  },
  {
   "cell_type": "markdown",
   "id": "b85ce2f6",
   "metadata": {},
   "source": [
    "### Lists are not allowed inside set"
   ]
  },
  {
   "cell_type": "code",
   "execution_count": 52,
   "id": "9905e591",
   "metadata": {},
   "outputs": [
    {
     "ename": "TypeError",
     "evalue": "unhashable type: 'list'",
     "output_type": "error",
     "traceback": [
      "\u001b[0;31m---------------------------------------------------------------------------\u001b[0m",
      "\u001b[0;31mTypeError\u001b[0m                                 Traceback (most recent call last)",
      "Cell \u001b[0;32mIn[52], line 1\u001b[0m\n\u001b[0;32m----> 1\u001b[0m s5\u001b[38;5;241m=\u001b[39m{\u001b[38;5;241m1\u001b[39m,\u001b[38;5;124m'\u001b[39m\u001b[38;5;124ma\u001b[39m\u001b[38;5;124m'\u001b[39m,[\u001b[38;5;241m3\u001b[39m,\u001b[38;5;241m5\u001b[39m,\u001b[38;5;241m3\u001b[39m]}\n",
      "\u001b[0;31mTypeError\u001b[0m: unhashable type: 'list'"
     ]
    }
   ],
   "source": [
    "s5={1,'a',[3,5,3]}"
   ]
  },
  {
   "cell_type": "markdown",
   "id": "b4a86c78",
   "metadata": {},
   "source": [
    "### Tuples are allowed inside set"
   ]
  },
  {
   "cell_type": "code",
   "execution_count": 53,
   "id": "de2b9430",
   "metadata": {},
   "outputs": [],
   "source": [
    "s6={1,'a',(3,5,3)}"
   ]
  },
  {
   "cell_type": "code",
   "execution_count": 54,
   "id": "268b386d",
   "metadata": {},
   "outputs": [
    {
     "data": {
      "text/plain": [
       "{(3, 5, 3), 1, 'a'}"
      ]
     },
     "execution_count": 54,
     "metadata": {},
     "output_type": "execute_result"
    }
   ],
   "source": [
    "s6"
   ]
  },
  {
   "cell_type": "markdown",
   "id": "73a9de22",
   "metadata": {},
   "source": [
    "### add function in set"
   ]
  },
  {
   "cell_type": "code",
   "execution_count": 55,
   "id": "1f3de8a8",
   "metadata": {},
   "outputs": [],
   "source": [
    "s6.add(1000)"
   ]
  },
  {
   "cell_type": "code",
   "execution_count": 56,
   "id": "05a34829",
   "metadata": {},
   "outputs": [
    {
     "data": {
      "text/plain": [
       "{(3, 5, 3), 1, 1000, 'a'}"
      ]
     },
     "execution_count": 56,
     "metadata": {},
     "output_type": "execute_result"
    }
   ],
   "source": [
    "s6"
   ]
  },
  {
   "cell_type": "markdown",
   "id": "bcbd8ea8",
   "metadata": {},
   "source": [
    "### pop method in set - Randomly removes an element from the set"
   ]
  },
  {
   "cell_type": "code",
   "execution_count": 58,
   "id": "e198e670",
   "metadata": {},
   "outputs": [
    {
     "data": {
      "text/plain": [
       "1000"
      ]
     },
     "execution_count": 58,
     "metadata": {},
     "output_type": "execute_result"
    }
   ],
   "source": [
    "s6.pop()"
   ]
  },
  {
   "cell_type": "code",
   "execution_count": 59,
   "id": "a909c7ba",
   "metadata": {},
   "outputs": [
    {
     "data": {
      "text/plain": [
       "{(3, 5, 3), 1, 'a'}"
      ]
     },
     "execution_count": 59,
     "metadata": {},
     "output_type": "execute_result"
    }
   ],
   "source": [
    "s6"
   ]
  },
  {
   "cell_type": "code",
   "execution_count": 60,
   "id": "6b083d82",
   "metadata": {},
   "outputs": [
    {
     "data": {
      "text/plain": [
       "1"
      ]
     },
     "execution_count": 60,
     "metadata": {},
     "output_type": "execute_result"
    }
   ],
   "source": [
    "s6.pop()"
   ]
  },
  {
   "cell_type": "code",
   "execution_count": 61,
   "id": "dd726466",
   "metadata": {},
   "outputs": [
    {
     "data": {
      "text/plain": [
       "{(3, 5, 3), 'a'}"
      ]
     },
     "execution_count": 61,
     "metadata": {},
     "output_type": "execute_result"
    }
   ],
   "source": [
    "s6"
   ]
  },
  {
   "cell_type": "markdown",
   "id": "a75e60b5",
   "metadata": {},
   "source": [
    "### Union method in set"
   ]
  },
  {
   "cell_type": "code",
   "execution_count": 62,
   "id": "32cb0958",
   "metadata": {},
   "outputs": [],
   "source": [
    "s1={1,2,3}\n",
    "s2={'a','b','c'}\n",
    "\n",
    "s3=s1.union(s2)"
   ]
  },
  {
   "cell_type": "code",
   "execution_count": 63,
   "id": "44ef762c",
   "metadata": {},
   "outputs": [
    {
     "data": {
      "text/plain": [
       "{1, 2, 3, 'a', 'b', 'c'}"
      ]
     },
     "execution_count": 63,
     "metadata": {},
     "output_type": "execute_result"
    }
   ],
   "source": [
    "s3"
   ]
  },
  {
   "cell_type": "markdown",
   "id": "81811f6a",
   "metadata": {},
   "source": [
    "### Update method in set - updates s1 set with elements of s2 set"
   ]
  },
  {
   "cell_type": "code",
   "execution_count": 64,
   "id": "949f540f",
   "metadata": {},
   "outputs": [],
   "source": [
    "s1={1,2,3}\n",
    "s2={'a','b','c'}\n",
    "\n",
    "s1.update(s2)"
   ]
  },
  {
   "cell_type": "code",
   "execution_count": 65,
   "id": "3a89cf97",
   "metadata": {},
   "outputs": [
    {
     "data": {
      "text/plain": [
       "{1, 2, 3, 'a', 'b', 'c'}"
      ]
     },
     "execution_count": 65,
     "metadata": {},
     "output_type": "execute_result"
    }
   ],
   "source": [
    "s1"
   ]
  },
  {
   "cell_type": "markdown",
   "id": "c7836b63",
   "metadata": {},
   "source": [
    "### Comparision between List, Tuple and Set"
   ]
  },
  {
   "cell_type": "markdown",
   "id": "45f1fff3",
   "metadata": {},
   "source": [
    "![image](python-list-tuple-set.png)"
   ]
  },
  {
   "cell_type": "code",
   "execution_count": null,
   "id": "34688d83",
   "metadata": {},
   "outputs": [],
   "source": []
  }
 ],
 "metadata": {
  "kernelspec": {
   "display_name": "Python 3 (ipykernel)",
   "language": "python",
   "name": "python3"
  },
  "language_info": {
   "codemirror_mode": {
    "name": "ipython",
    "version": 3
   },
   "file_extension": ".py",
   "mimetype": "text/x-python",
   "name": "python",
   "nbconvert_exporter": "python",
   "pygments_lexer": "ipython3",
   "version": "3.10.6"
  }
 },
 "nbformat": 4,
 "nbformat_minor": 5
}
