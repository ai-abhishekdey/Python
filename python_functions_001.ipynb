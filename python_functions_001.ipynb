{
 "cells": [
  {
   "cell_type": "markdown",
   "id": "158768db",
   "metadata": {},
   "source": [
    "## Python Functions: 001"
   ]
  },
  {
   "cell_type": "markdown",
   "id": "8be63407",
   "metadata": {},
   "source": [
    "=====================================\n",
    "\n",
    "**Author: Abhishek Dey**\n",
    "\n",
    "====================================="
   ]
  },
  {
   "cell_type": "markdown",
   "id": "968f1bd5",
   "metadata": {},
   "source": [
    "### Contents:\n",
    "\n",
    "* Python function examples with and without arguments \n",
    "\n",
    "* Dynamic N arguments (*args)\n",
    "\n",
    "* Dynamic N Keyword pair arguments (**kwargs)"
   ]
  },
  {
   "cell_type": "markdown",
   "id": "5a1e9c32",
   "metadata": {},
   "source": [
    "### Example 1:"
   ]
  },
  {
   "cell_type": "code",
   "execution_count": 1,
   "id": "d3b66da8",
   "metadata": {},
   "outputs": [],
   "source": [
    "def test1():\n",
    "    print(\"hello world\")"
   ]
  },
  {
   "cell_type": "code",
   "execution_count": 3,
   "id": "9a63c376",
   "metadata": {},
   "outputs": [
    {
     "name": "stdout",
     "output_type": "stream",
     "text": [
      "hello world\n"
     ]
    }
   ],
   "source": [
    "test1()"
   ]
  },
  {
   "cell_type": "code",
   "execution_count": 4,
   "id": "869c8288",
   "metadata": {},
   "outputs": [
    {
     "data": {
      "text/plain": [
       "function"
      ]
     },
     "execution_count": 4,
     "metadata": {},
     "output_type": "execute_result"
    }
   ],
   "source": [
    "type(test1)"
   ]
  },
  {
   "cell_type": "markdown",
   "id": "a3d7c81c",
   "metadata": {},
   "source": [
    "### Example 2:"
   ]
  },
  {
   "cell_type": "code",
   "execution_count": 5,
   "id": "fa403d0d",
   "metadata": {},
   "outputs": [],
   "source": [
    "def test2():\n",
    "    \n",
    "    return \"My name is :\""
   ]
  },
  {
   "cell_type": "code",
   "execution_count": 6,
   "id": "029cf89b",
   "metadata": {},
   "outputs": [
    {
     "data": {
      "text/plain": [
       "'My name is :'"
      ]
     },
     "execution_count": 6,
     "metadata": {},
     "output_type": "execute_result"
    }
   ],
   "source": [
    "test2()\n"
   ]
  },
  {
   "cell_type": "code",
   "execution_count": 7,
   "id": "e9a0f682",
   "metadata": {},
   "outputs": [
    {
     "data": {
      "text/plain": [
       "'My name is :Bob'"
      ]
     },
     "execution_count": 7,
     "metadata": {},
     "output_type": "execute_result"
    }
   ],
   "source": [
    "test2() + \"Bob\""
   ]
  },
  {
   "cell_type": "markdown",
   "id": "2ee9731a",
   "metadata": {},
   "source": [
    "### Example 3:"
   ]
  },
  {
   "cell_type": "code",
   "execution_count": 9,
   "id": "f63ac397",
   "metadata": {},
   "outputs": [],
   "source": [
    "def test3():\n",
    "    \n",
    "    return \"hello\", 100, 34.5, True, [4,34,7]"
   ]
  },
  {
   "cell_type": "code",
   "execution_count": 10,
   "id": "07968ae0",
   "metadata": {},
   "outputs": [
    {
     "data": {
      "text/plain": [
       "('hello', 100, 34.5, True, [4, 34, 7])"
      ]
     },
     "execution_count": 10,
     "metadata": {},
     "output_type": "execute_result"
    }
   ],
   "source": [
    "test3()"
   ]
  },
  {
   "cell_type": "code",
   "execution_count": 11,
   "id": "f97ac78d",
   "metadata": {},
   "outputs": [],
   "source": [
    "a,b,c,d,e = test3()"
   ]
  },
  {
   "cell_type": "code",
   "execution_count": 12,
   "id": "60f1e829",
   "metadata": {},
   "outputs": [
    {
     "data": {
      "text/plain": [
       "'hello'"
      ]
     },
     "execution_count": 12,
     "metadata": {},
     "output_type": "execute_result"
    }
   ],
   "source": [
    "a"
   ]
  },
  {
   "cell_type": "code",
   "execution_count": 13,
   "id": "173256ba",
   "metadata": {},
   "outputs": [
    {
     "data": {
      "text/plain": [
       "100"
      ]
     },
     "execution_count": 13,
     "metadata": {},
     "output_type": "execute_result"
    }
   ],
   "source": [
    "b"
   ]
  },
  {
   "cell_type": "code",
   "execution_count": 14,
   "id": "2971dad2",
   "metadata": {},
   "outputs": [
    {
     "data": {
      "text/plain": [
       "34.5"
      ]
     },
     "execution_count": 14,
     "metadata": {},
     "output_type": "execute_result"
    }
   ],
   "source": [
    "c"
   ]
  },
  {
   "cell_type": "code",
   "execution_count": 15,
   "id": "aadb39d2",
   "metadata": {},
   "outputs": [
    {
     "data": {
      "text/plain": [
       "True"
      ]
     },
     "execution_count": 15,
     "metadata": {},
     "output_type": "execute_result"
    }
   ],
   "source": [
    "d"
   ]
  },
  {
   "cell_type": "code",
   "execution_count": 16,
   "id": "9a3e0e10",
   "metadata": {},
   "outputs": [
    {
     "data": {
      "text/plain": [
       "[4, 34, 7]"
      ]
     },
     "execution_count": 16,
     "metadata": {},
     "output_type": "execute_result"
    }
   ],
   "source": [
    "e"
   ]
  },
  {
   "cell_type": "markdown",
   "id": "246d3817",
   "metadata": {},
   "source": [
    "### Example 4:"
   ]
  },
  {
   "cell_type": "code",
   "execution_count": 17,
   "id": "f7017aaa",
   "metadata": {},
   "outputs": [],
   "source": [
    "def test4(a,b,c):\n",
    "    \n",
    "    d=a+b-c\n",
    "    \n",
    "    return d"
   ]
  },
  {
   "cell_type": "code",
   "execution_count": 19,
   "id": "1f87499a",
   "metadata": {},
   "outputs": [],
   "source": [
    "result=test4(3,5,2)"
   ]
  },
  {
   "cell_type": "code",
   "execution_count": 20,
   "id": "eeae863b",
   "metadata": {},
   "outputs": [
    {
     "data": {
      "text/plain": [
       "6"
      ]
     },
     "execution_count": 20,
     "metadata": {},
     "output_type": "execute_result"
    }
   ],
   "source": [
    "result"
   ]
  },
  {
   "cell_type": "markdown",
   "id": "bddd0612",
   "metadata": {},
   "source": [
    "### Example 5:"
   ]
  },
  {
   "cell_type": "code",
   "execution_count": 21,
   "id": "b6922e95",
   "metadata": {},
   "outputs": [],
   "source": [
    "def test5(a,b):\n",
    "    \n",
    "    c=a+b\n",
    "    \n",
    "    return c"
   ]
  },
  {
   "cell_type": "code",
   "execution_count": 25,
   "id": "9f128208",
   "metadata": {},
   "outputs": [
    {
     "name": "stdout",
     "output_type": "stream",
     "text": [
      "30\n"
     ]
    }
   ],
   "source": [
    "result=test5(10,20)\n",
    "\n",
    "print(result)"
   ]
  },
  {
   "cell_type": "code",
   "execution_count": 26,
   "id": "57e19ccd",
   "metadata": {},
   "outputs": [
    {
     "name": "stdout",
     "output_type": "stream",
     "text": [
      "31.3\n"
     ]
    }
   ],
   "source": [
    "result=test5(10.5,20.8)\n",
    "\n",
    "print(result)"
   ]
  },
  {
   "cell_type": "code",
   "execution_count": 27,
   "id": "7e447535",
   "metadata": {},
   "outputs": [
    {
     "name": "stdout",
     "output_type": "stream",
     "text": [
      "helloworld\n"
     ]
    }
   ],
   "source": [
    "result=test5(\"hello\",\"world\")\n",
    "\n",
    "print(result)"
   ]
  },
  {
   "cell_type": "markdown",
   "id": "9ca9969f",
   "metadata": {},
   "source": [
    "### Dynamic arguments in function: (*args)\n",
    "\n",
    "* using (*args) user can put 'N' number of arguments he wants to pass"
   ]
  },
  {
   "cell_type": "code",
   "execution_count": 29,
   "id": "f4b23291",
   "metadata": {},
   "outputs": [],
   "source": [
    "def test6(*args):\n",
    "\n",
    "    l=[]\n",
    "    \n",
    "    for i in args:\n",
    "    \n",
    "        l.append(i**2)\n",
    "        \n",
    "    return(l)"
   ]
  },
  {
   "cell_type": "code",
   "execution_count": 30,
   "id": "bab24eee",
   "metadata": {},
   "outputs": [
    {
     "name": "stdout",
     "output_type": "stream",
     "text": [
      "[1, 4]\n"
     ]
    }
   ],
   "source": [
    "result=test6(1,2)\n",
    "\n",
    "print(result)"
   ]
  },
  {
   "cell_type": "code",
   "execution_count": 31,
   "id": "0dd1a971",
   "metadata": {},
   "outputs": [
    {
     "name": "stdout",
     "output_type": "stream",
     "text": [
      "[1, 4, 9, 16, 25, 36, 49, 64, 81, 100]\n"
     ]
    }
   ],
   "source": [
    "result=test6(1,2,3,4,5,6,7,8,9,10)\n",
    "\n",
    "print(result)"
   ]
  },
  {
   "cell_type": "markdown",
   "id": "325382fa",
   "metadata": {},
   "source": [
    "### Dynamic Key Word pair arguments : (**kwargs):\n",
    "\n",
    "* It takes 'N' number of key-value pair dictionary arguments"
   ]
  },
  {
   "cell_type": "code",
   "execution_count": 37,
   "id": "498fd519",
   "metadata": {},
   "outputs": [],
   "source": [
    "def test7(**kwargs):\n",
    "        \n",
    "    return kwargs"
   ]
  },
  {
   "cell_type": "code",
   "execution_count": 38,
   "id": "f7e3b5b6",
   "metadata": {},
   "outputs": [
    {
     "data": {
      "text/plain": [
       "{'a': 1, 'b': 32}"
      ]
     },
     "execution_count": 38,
     "metadata": {},
     "output_type": "execute_result"
    }
   ],
   "source": [
    "test7(a=1, b=32)"
   ]
  },
  {
   "cell_type": "code",
   "execution_count": 40,
   "id": "def480d6",
   "metadata": {},
   "outputs": [],
   "source": [
    "def test8(**kwargs):\n",
    "    \n",
    "    for i,j in kwargs.items():\n",
    "        \n",
    "        print(i,j)\n",
    "        \n",
    "    return"
   ]
  },
  {
   "cell_type": "code",
   "execution_count": 41,
   "id": "060c0eb5",
   "metadata": {},
   "outputs": [
    {
     "name": "stdout",
     "output_type": "stream",
     "text": [
      "a 1\n",
      "b 32\n"
     ]
    }
   ],
   "source": [
    "test8(a=1, b=32)"
   ]
  },
  {
   "cell_type": "code",
   "execution_count": null,
   "id": "a6b046b1",
   "metadata": {},
   "outputs": [],
   "source": []
  }
 ],
 "metadata": {
  "kernelspec": {
   "display_name": "Python 3 (ipykernel)",
   "language": "python",
   "name": "python3"
  },
  "language_info": {
   "codemirror_mode": {
    "name": "ipython",
    "version": 3
   },
   "file_extension": ".py",
   "mimetype": "text/x-python",
   "name": "python",
   "nbconvert_exporter": "python",
   "pygments_lexer": "ipython3",
   "version": "3.10.6"
  }
 },
 "nbformat": 4,
 "nbformat_minor": 5
}
