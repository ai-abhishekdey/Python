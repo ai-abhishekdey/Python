{
 "cells": [
  {
   "cell_type": "markdown",
   "id": "d7c90e6b",
   "metadata": {},
   "source": [
    "## Python Basics: 005 "
   ]
  },
  {
   "cell_type": "markdown",
   "id": "cb183235",
   "metadata": {},
   "source": [
    "====================================\n",
    "\n",
    "**Author: Abhishek Dey**\n",
    "\n",
    "===================================="
   ]
  },
  {
   "cell_type": "markdown",
   "id": "af28b57b",
   "metadata": {},
   "source": [
    "## Contents:"
   ]
  },
  {
   "cell_type": "markdown",
   "id": "48d511ab",
   "metadata": {},
   "source": [
    "* while loop\n",
    "\n",
    "* while / else condition \n",
    "\n",
    "* comprehension"
   ]
  },
  {
   "cell_type": "markdown",
   "id": "6ca60ff8",
   "metadata": {},
   "source": [
    "### Python: while loop"
   ]
  },
  {
   "cell_type": "code",
   "execution_count": null,
   "id": "e626489f",
   "metadata": {},
   "outputs": [],
   "source": [
    "a=1\n",
    "\n",
    "while a<=10:\n",
    "    print(a)\n",
    "    a+=1"
   ]
  },
  {
   "cell_type": "markdown",
   "id": "a75cb960",
   "metadata": {},
   "source": [
    "### Example: Sum of the number till some point (n) having user input:"
   ]
  },
  {
   "cell_type": "code",
   "execution_count": 4,
   "id": "b1d7b5dd",
   "metadata": {},
   "outputs": [
    {
     "name": "stdout",
     "output_type": "stream",
     "text": [
      "Enter your limit :5\n",
      "Sum =  15\n"
     ]
    }
   ],
   "source": [
    "n=int(input(\"Enter your limit :\"))\n",
    "      \n",
    "i=0\n",
    "\n",
    "sum=0\n",
    "      \n",
    "while i<=n:\n",
    "\n",
    "    sum=sum+i\n",
    "   \n",
    "    i=i+1\n",
    "\n",
    "    \n",
    "\n",
    "print(\"Sum = \",sum)"
   ]
  },
  {
   "cell_type": "markdown",
   "id": "e1a422ca",
   "metadata": {},
   "source": [
    "### Example: Factorial of a number : 5! = 5x4x3x2x1 = 120"
   ]
  },
  {
   "cell_type": "code",
   "execution_count": 18,
   "id": "37fa091d",
   "metadata": {},
   "outputs": [
    {
     "name": "stdout",
     "output_type": "stream",
     "text": [
      "Enter your number :5\n",
      "Factorial of 5 is : 120\n"
     ]
    }
   ],
   "source": [
    "num=int(input(\"Enter your number :\"))\n",
    "\n",
    "fact=1\n",
    "\n",
    "while num>0:\n",
    "    \n",
    "    fact=fact * num\n",
    "    \n",
    "    num = num -1\n",
    "    \n",
    "    \n",
    "print(\"Factorial of {} is : {}\".format(n,fact))"
   ]
  },
  {
   "cell_type": "markdown",
   "id": "4fe77023",
   "metadata": {},
   "source": [
    "### Example : Fibonacci Series : 0,1,1,2,3,5,8,13,21 .."
   ]
  },
  {
   "cell_type": "code",
   "execution_count": 31,
   "id": "207a8367",
   "metadata": {},
   "outputs": [
    {
     "name": "stdout",
     "output_type": "stream",
     "text": [
      "Enter number of elements for fibonacci series :10\n",
      "Fibonacci series of 10 elements is : [0, 1, 1, 2, 3, 5, 8, 13, 21, 34]\n"
     ]
    }
   ],
   "source": [
    "num=int(input(\"Enter number of elements for fibonacci series :\"))\n",
    "\n",
    "a, b = 0, 1\n",
    "\n",
    "counter=0\n",
    "\n",
    "f=[a,b]\n",
    "\n",
    "while counter < (num-2):\n",
    "    \n",
    "    c = a+b\n",
    "    \n",
    "    a=b\n",
    "    b=c\n",
    "    \n",
    "    counter+=1\n",
    "    \n",
    "    f.append(c)\n",
    "\n",
    "print(\"Fibonacci series of {} elements is : {}\".format(num,f))"
   ]
  },
  {
   "cell_type": "markdown",
   "id": "21840dd0",
   "metadata": {},
   "source": [
    "### Example: Reverse a string using while loop"
   ]
  },
  {
   "cell_type": "code",
   "execution_count": 37,
   "id": "10c0ba6d",
   "metadata": {},
   "outputs": [
    {
     "name": "stdout",
     "output_type": "stream",
     "text": [
      "Enter forward string : hello world\n",
      "Reveresed string is :  dlrow olleh\n"
     ]
    }
   ],
   "source": [
    "forward_string=input(\"Enter forward string : \")\n",
    "\n",
    "reversed_string=\"\"\n",
    "\n",
    "length=len(forward_string)\n",
    "\n",
    "while length>0:\n",
    "\n",
    "    reversed_string = reversed_string + forward_string[length-1]\n",
    "    length=length-1\n",
    "\n",
    "print(\"Reveresed string is : \", reversed_string)"
   ]
  },
  {
   "cell_type": "markdown",
   "id": "9ce6406f",
   "metadata": {},
   "source": [
    "### Example: Table of a number using while loop"
   ]
  },
  {
   "cell_type": "code",
   "execution_count": 43,
   "id": "1357a74e",
   "metadata": {},
   "outputs": [
    {
     "name": "stdout",
     "output_type": "stream",
     "text": [
      "Enter number :5\n",
      "\n",
      "Table of 5 is as follows :\n",
      "\n",
      "5 x 1 = 5\n",
      "5 x 2 = 10\n",
      "5 x 3 = 15\n",
      "5 x 4 = 20\n",
      "5 x 5 = 25\n",
      "5 x 6 = 30\n",
      "5 x 7 = 35\n",
      "5 x 8 = 40\n",
      "5 x 9 = 45\n",
      "5 x 10 = 50\n"
     ]
    }
   ],
   "source": [
    "i=int(input(\"Enter number :\"))\n",
    "\n",
    "print(\"\\nTable of {} is as follows :\\n\".format(str(i)))\n",
    "\n",
    "j=1\n",
    "\n",
    "while j<=10:\n",
    "\n",
    "    print(\"{} x {} = {}\".format(i,j,i*j))\n",
    "    \n",
    "    j=j+1"
   ]
  },
  {
   "cell_type": "markdown",
   "id": "b414eecf",
   "metadata": {},
   "source": [
    "### Python : While / else condition"
   ]
  },
  {
   "cell_type": "code",
   "execution_count": 45,
   "id": "c9f92735",
   "metadata": {},
   "outputs": [
    {
     "name": "stdout",
     "output_type": "stream",
     "text": [
      "0\n",
      "1\n",
      "2\n",
      "3\n",
      "4\n",
      "Else condition executed\n"
     ]
    }
   ],
   "source": [
    "n=5\n",
    "i=0\n",
    "\n",
    "while i<5:\n",
    "\n",
    "    print(i)\n",
    "    i=i+1\n",
    "    \n",
    "else:\n",
    "    \n",
    "    print(\"Else condition executed\")"
   ]
  },
  {
   "cell_type": "markdown",
   "id": "e0dd1cf6",
   "metadata": {},
   "source": [
    "### While / else condition with break "
   ]
  },
  {
   "cell_type": "code",
   "execution_count": 46,
   "id": "9fb8b9f8",
   "metadata": {},
   "outputs": [
    {
     "name": "stdout",
     "output_type": "stream",
     "text": [
      "0\n",
      "1\n",
      "2\n",
      "3\n"
     ]
    }
   ],
   "source": [
    "n=5\n",
    "i=0\n",
    "\n",
    "while i<5:\n",
    "\n",
    "    print(i)\n",
    "    \n",
    "    if i==3:\n",
    "        break\n",
    "        \n",
    "    i=i+1\n",
    "    \n",
    "else:\n",
    "    \n",
    "    print(\"Else condition executed\")"
   ]
  },
  {
   "cell_type": "markdown",
   "id": "25c00d02",
   "metadata": {},
   "source": [
    "### Python Comprehension: short form of loop"
   ]
  },
  {
   "cell_type": "markdown",
   "id": "d5897ac4",
   "metadata": {},
   "source": [
    "### List comprehension"
   ]
  },
  {
   "cell_type": "markdown",
   "id": "b8ee574a",
   "metadata": {},
   "source": [
    "### Format:\n",
    "\n",
    "\n",
    "**[ (expected_output)  (for loop)  (if condition inside loop)]**\n",
    "\n"
   ]
  },
  {
   "cell_type": "markdown",
   "id": "f1a08c1d",
   "metadata": {},
   "source": [
    "### Example: Display square of elements in a list using comprehension"
   ]
  },
  {
   "cell_type": "code",
   "execution_count": 49,
   "id": "f258c611",
   "metadata": {},
   "outputs": [],
   "source": [
    "l=[1,4,6,8,10]"
   ]
  },
  {
   "cell_type": "markdown",
   "id": "a0689dfe",
   "metadata": {},
   "source": [
    "### Using for loop"
   ]
  },
  {
   "cell_type": "code",
   "execution_count": 50,
   "id": "2f40a5a4",
   "metadata": {},
   "outputs": [
    {
     "name": "stdout",
     "output_type": "stream",
     "text": [
      "[1, 16, 36, 64, 100]\n"
     ]
    }
   ],
   "source": [
    "l1=[]\n",
    "\n",
    "for i in l:\n",
    "\n",
    "    l1.append(i**2)\n",
    "\n",
    "print(l1)"
   ]
  },
  {
   "cell_type": "markdown",
   "id": "cabbf626",
   "metadata": {},
   "source": [
    "### Using comprehension"
   ]
  },
  {
   "cell_type": "code",
   "execution_count": 51,
   "id": "5e92b415",
   "metadata": {},
   "outputs": [
    {
     "data": {
      "text/plain": [
       "[1, 16, 36, 64, 100]"
      ]
     },
     "execution_count": 51,
     "metadata": {},
     "output_type": "execute_result"
    }
   ],
   "source": [
    "[i**2 for i in l]"
   ]
  },
  {
   "cell_type": "markdown",
   "id": "0d13b102",
   "metadata": {},
   "source": [
    "### Example: Display even numbers in a list"
   ]
  },
  {
   "cell_type": "code",
   "execution_count": 52,
   "id": "ec54a48b",
   "metadata": {},
   "outputs": [],
   "source": [
    "l=[1,4,6,8,10]"
   ]
  },
  {
   "cell_type": "markdown",
   "id": "74d10d87",
   "metadata": {},
   "source": [
    "### Using for loop"
   ]
  },
  {
   "cell_type": "code",
   "execution_count": 53,
   "id": "4de62757",
   "metadata": {},
   "outputs": [
    {
     "name": "stdout",
     "output_type": "stream",
     "text": [
      "[4, 6, 8, 10]\n"
     ]
    }
   ],
   "source": [
    "l1=[]\n",
    "\n",
    "for i in l:\n",
    "    \n",
    "    if i%2==0:\n",
    "        \n",
    "        l1.append(i)\n",
    "        \n",
    "print(l1)\n",
    "    \n",
    "    \n"
   ]
  },
  {
   "cell_type": "markdown",
   "id": "fb43972e",
   "metadata": {},
   "source": [
    "### Using comprehension"
   ]
  },
  {
   "cell_type": "code",
   "execution_count": 57,
   "id": "47a182fc",
   "metadata": {},
   "outputs": [
    {
     "data": {
      "text/plain": [
       "[4, 6, 8, 10]"
      ]
     },
     "execution_count": 57,
     "metadata": {},
     "output_type": "execute_result"
    }
   ],
   "source": [
    "[i for i in l if i%2==0]"
   ]
  },
  {
   "cell_type": "markdown",
   "id": "2fc919ec",
   "metadata": {},
   "source": [
    "### Example: Convert list of string to upper case\n"
   ]
  },
  {
   "cell_type": "code",
   "execution_count": 58,
   "id": "75cc7c89",
   "metadata": {},
   "outputs": [],
   "source": [
    "l=[\"hello\",\"world\",\"how\",\"are\",\"you\"]"
   ]
  },
  {
   "cell_type": "markdown",
   "id": "b28bfd57",
   "metadata": {},
   "source": [
    "### Using for loop"
   ]
  },
  {
   "cell_type": "code",
   "execution_count": 59,
   "id": "6e090e41",
   "metadata": {},
   "outputs": [
    {
     "name": "stdout",
     "output_type": "stream",
     "text": [
      "['HELLO', 'WORLD', 'HOW', 'ARE', 'YOU']\n"
     ]
    }
   ],
   "source": [
    "l1=[]\n",
    "\n",
    "for i in l:\n",
    "    \n",
    "    l1.append(i.upper())\n",
    "    \n",
    "print(l1)"
   ]
  },
  {
   "cell_type": "markdown",
   "id": "f4a88e00",
   "metadata": {},
   "source": [
    "### Using comprehension"
   ]
  },
  {
   "cell_type": "code",
   "execution_count": 60,
   "id": "f966f30b",
   "metadata": {},
   "outputs": [
    {
     "data": {
      "text/plain": [
       "['HELLO', 'WORLD', 'HOW', 'ARE', 'YOU']"
      ]
     },
     "execution_count": 60,
     "metadata": {},
     "output_type": "execute_result"
    }
   ],
   "source": [
    "[i.upper() for i in l]"
   ]
  },
  {
   "cell_type": "markdown",
   "id": "1cf6d83a",
   "metadata": {},
   "source": [
    "### Tuple Comprehension"
   ]
  },
  {
   "cell_type": "code",
   "execution_count": 62,
   "id": "603690e8",
   "metadata": {},
   "outputs": [],
   "source": [
    "t=(1,2,4,6)"
   ]
  },
  {
   "cell_type": "markdown",
   "id": "ca65169d",
   "metadata": {},
   "source": [
    "### Find the square of the elements in tuple t"
   ]
  },
  {
   "cell_type": "code",
   "execution_count": 63,
   "id": "6f7f22ca",
   "metadata": {},
   "outputs": [
    {
     "data": {
      "text/plain": [
       "<generator object <genexpr> at 0x7f38f46ec200>"
      ]
     },
     "execution_count": 63,
     "metadata": {},
     "output_type": "execute_result"
    }
   ],
   "source": [
    "(i**2 for i in t)"
   ]
  },
  {
   "cell_type": "code",
   "execution_count": 64,
   "id": "6bd9b65f",
   "metadata": {},
   "outputs": [
    {
     "data": {
      "text/plain": [
       "[1, 4, 16, 36]"
      ]
     },
     "execution_count": 64,
     "metadata": {},
     "output_type": "execute_result"
    }
   ],
   "source": [
    "list(i**2 for i in t)"
   ]
  },
  {
   "cell_type": "markdown",
   "id": "78da0a15",
   "metadata": {},
   "source": [
    "### Dictionary comprehension"
   ]
  },
  {
   "cell_type": "code",
   "execution_count": 65,
   "id": "c96dc4d0",
   "metadata": {},
   "outputs": [],
   "source": [
    "d={\"hello\":1, \"world\":2, \"how\":3, \"are\":4, \"you\":5}"
   ]
  },
  {
   "cell_type": "markdown",
   "id": "c77b7f31",
   "metadata": {},
   "source": [
    "### Find the square of the key values"
   ]
  },
  {
   "cell_type": "code",
   "execution_count": 71,
   "id": "dd8eca06",
   "metadata": {},
   "outputs": [
    {
     "data": {
      "text/plain": [
       "[1, 4, 9, 16, 25]"
      ]
     },
     "execution_count": 71,
     "metadata": {},
     "output_type": "execute_result"
    }
   ],
   "source": [
    "[i**2 for i in d.values()]"
   ]
  },
  {
   "cell_type": "code",
   "execution_count": 72,
   "id": "23a39b22",
   "metadata": {},
   "outputs": [
    {
     "data": {
      "text/plain": [
       "{'hello': 1, 'world': 4, 'how': 9, 'are': 16, 'you': 25}"
      ]
     },
     "execution_count": 72,
     "metadata": {},
     "output_type": "execute_result"
    }
   ],
   "source": [
    "{k:v**2 for k,v in d.items()}"
   ]
  },
  {
   "cell_type": "code",
   "execution_count": null,
   "id": "9d63068f",
   "metadata": {},
   "outputs": [],
   "source": []
  }
 ],
 "metadata": {
  "kernelspec": {
   "display_name": "Python 3 (ipykernel)",
   "language": "python",
   "name": "python3"
  },
  "language_info": {
   "codemirror_mode": {
    "name": "ipython",
    "version": 3
   },
   "file_extension": ".py",
   "mimetype": "text/x-python",
   "name": "python",
   "nbconvert_exporter": "python",
   "pygments_lexer": "ipython3",
   "version": "3.10.6"
  }
 },
 "nbformat": 4,
 "nbformat_minor": 5
}
