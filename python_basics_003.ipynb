{
 "cells": [
  {
   "cell_type": "markdown",
   "id": "8629a68c",
   "metadata": {},
   "source": [
    "## Python Basics: 003"
   ]
  },
  {
   "cell_type": "markdown",
   "id": "a04c9e74",
   "metadata": {},
   "source": [
    "====================================\n",
    "\n",
    "Author: Abhishek Dey\n",
    "\n",
    "===================================="
   ]
  },
  {
   "cell_type": "markdown",
   "id": "cf1cad46",
   "metadata": {},
   "source": [
    "## Contents:"
   ]
  },
  {
   "cell_type": "markdown",
   "id": "bfbd5753",
   "metadata": {},
   "source": [
    "* Dictionary\n",
    "\n",
    "* pop()\n",
    "\n",
    "* popitem()\n",
    "\n",
    "* if/else conditional statements\n",
    "\n",
    "* For loop"
   ]
  },
  {
   "cell_type": "markdown",
   "id": "0cb81417",
   "metadata": {},
   "source": [
    "### Python : Dictionary"
   ]
  },
  {
   "cell_type": "markdown",
   "id": "db36eb3d",
   "metadata": {},
   "source": [
    "dict = {\"key\":value}"
   ]
  },
  {
   "cell_type": "code",
   "execution_count": 1,
   "id": "45c79207",
   "metadata": {},
   "outputs": [],
   "source": [
    "d={}"
   ]
  },
  {
   "cell_type": "code",
   "execution_count": 2,
   "id": "22069837",
   "metadata": {},
   "outputs": [
    {
     "data": {
      "text/plain": [
       "dict"
      ]
     },
     "execution_count": 2,
     "metadata": {},
     "output_type": "execute_result"
    }
   ],
   "source": [
    "type(d)"
   ]
  },
  {
   "cell_type": "code",
   "execution_count": 4,
   "id": "8c60cc2c",
   "metadata": {},
   "outputs": [],
   "source": [
    "d1={\"name\" : \"Bob\", \"email\":\"bob@gmail.com\",\"phone\":9898487653}"
   ]
  },
  {
   "cell_type": "code",
   "execution_count": 5,
   "id": "1bed9ee3",
   "metadata": {},
   "outputs": [
    {
     "data": {
      "text/plain": [
       "{'name': 'Bob', 'email': 'bob@gmail.com', 'phone': 9898487653}"
      ]
     },
     "execution_count": 5,
     "metadata": {},
     "output_type": "execute_result"
    }
   ],
   "source": [
    "d1"
   ]
  },
  {
   "cell_type": "code",
   "execution_count": 7,
   "id": "5eb52c99",
   "metadata": {},
   "outputs": [],
   "source": [
    "d2={1:\"hello\", 2:\"world\"}"
   ]
  },
  {
   "cell_type": "code",
   "execution_count": 8,
   "id": "8e4d7dc9",
   "metadata": {},
   "outputs": [
    {
     "data": {
      "text/plain": [
       "{1: 'hello', 2: 'world'}"
      ]
     },
     "execution_count": 8,
     "metadata": {},
     "output_type": "execute_result"
    }
   ],
   "source": [
    "d2"
   ]
  },
  {
   "cell_type": "code",
   "execution_count": 14,
   "id": "abcdcc4f",
   "metadata": {},
   "outputs": [
    {
     "ename": "SyntaxError",
     "evalue": "invalid syntax (3564092572.py, line 3)",
     "output_type": "error",
     "traceback": [
      "\u001b[0;36m  Cell \u001b[0;32mIn[14], line 3\u001b[0;36m\u001b[0m\n\u001b[0;31m    d3={@:343,_:4}\u001b[0m\n\u001b[0m        ^\u001b[0m\n\u001b[0;31mSyntaxError\u001b[0m\u001b[0;31m:\u001b[0m invalid syntax\n"
     ]
    }
   ],
   "source": [
    "# Special character as key is not allowed\n",
    "\n",
    "d3={@:343,_:4}"
   ]
  },
  {
   "cell_type": "code",
   "execution_count": 13,
   "id": "73b87ddc",
   "metadata": {},
   "outputs": [],
   "source": [
    "# Boolean as key is allowed\n",
    "\n",
    "d4={True:4, False:\"hello world\"}"
   ]
  },
  {
   "cell_type": "code",
   "execution_count": 12,
   "id": "86e5dd18",
   "metadata": {},
   "outputs": [
    {
     "data": {
      "text/plain": [
       "{True: 4, False: 'hello world'}"
      ]
     },
     "execution_count": 12,
     "metadata": {},
     "output_type": "execute_result"
    }
   ],
   "source": [
    "d4"
   ]
  },
  {
   "cell_type": "markdown",
   "id": "9fd54631",
   "metadata": {},
   "source": [
    "### Extract values from dictionary using key"
   ]
  },
  {
   "cell_type": "code",
   "execution_count": 15,
   "id": "7ada4724",
   "metadata": {},
   "outputs": [],
   "source": [
    "d1={\"name\" : \"Bob\", \"email\":\"bob@gmail.com\",\"phone\":9898487653}"
   ]
  },
  {
   "cell_type": "code",
   "execution_count": 16,
   "id": "5ad2b741",
   "metadata": {},
   "outputs": [
    {
     "data": {
      "text/plain": [
       "'Bob'"
      ]
     },
     "execution_count": 16,
     "metadata": {},
     "output_type": "execute_result"
    }
   ],
   "source": [
    "d1[\"name\"]"
   ]
  },
  {
   "cell_type": "code",
   "execution_count": 18,
   "id": "1f9f400c",
   "metadata": {},
   "outputs": [
    {
     "data": {
      "text/plain": [
       "'bob@gmail.com'"
      ]
     },
     "execution_count": 18,
     "metadata": {},
     "output_type": "execute_result"
    }
   ],
   "source": [
    "d1[\"email\"]"
   ]
  },
  {
   "cell_type": "code",
   "execution_count": 19,
   "id": "4b634d97",
   "metadata": {},
   "outputs": [
    {
     "data": {
      "text/plain": [
       "9898487653"
      ]
     },
     "execution_count": 19,
     "metadata": {},
     "output_type": "execute_result"
    }
   ],
   "source": [
    "d1[\"phone\"]"
   ]
  },
  {
   "cell_type": "markdown",
   "id": "d20ce41c",
   "metadata": {},
   "source": [
    "### Key overwite example"
   ]
  },
  {
   "cell_type": "markdown",
   "id": "1f2a5716",
   "metadata": {},
   "source": [
    "key should be unique. if we have duplicate keys then last key value will be updated"
   ]
  },
  {
   "cell_type": "code",
   "execution_count": 24,
   "id": "2161872d",
   "metadata": {},
   "outputs": [],
   "source": [
    "d1={\"name\" : \"Bob\", \"email\":\"bob@gmail.com\",\"phone\":9898487653}"
   ]
  },
  {
   "cell_type": "code",
   "execution_count": 26,
   "id": "867c665f",
   "metadata": {},
   "outputs": [
    {
     "data": {
      "text/plain": [
       "'Bob'"
      ]
     },
     "execution_count": 26,
     "metadata": {},
     "output_type": "execute_result"
    }
   ],
   "source": [
    "d1[\"name\"]"
   ]
  },
  {
   "cell_type": "code",
   "execution_count": 27,
   "id": "92bfd285",
   "metadata": {},
   "outputs": [],
   "source": [
    "d1={\"name\" : \"Bob\", \"email\":\"bob@gmail.com\", \"name\":\"billy\", \"phone\":9898487653}"
   ]
  },
  {
   "cell_type": "code",
   "execution_count": 28,
   "id": "773b074c",
   "metadata": {},
   "outputs": [
    {
     "data": {
      "text/plain": [
       "'billy'"
      ]
     },
     "execution_count": 28,
     "metadata": {},
     "output_type": "execute_result"
    }
   ],
   "source": [
    "d1[\"name\"]"
   ]
  },
  {
   "cell_type": "markdown",
   "id": "7fca5394",
   "metadata": {},
   "source": [
    "### List as a value in a dictionary"
   ]
  },
  {
   "cell_type": "code",
   "execution_count": 29,
   "id": "c6ebc485",
   "metadata": {},
   "outputs": [],
   "source": [
    "d2={\"a\":1, \"b\":[2,4,5]}"
   ]
  },
  {
   "cell_type": "code",
   "execution_count": 30,
   "id": "3086e572",
   "metadata": {},
   "outputs": [
    {
     "data": {
      "text/plain": [
       "{'a': 1, 'b': [2, 4, 5]}"
      ]
     },
     "execution_count": 30,
     "metadata": {},
     "output_type": "execute_result"
    }
   ],
   "source": [
    "d2"
   ]
  },
  {
   "cell_type": "code",
   "execution_count": 31,
   "id": "72288485",
   "metadata": {},
   "outputs": [
    {
     "data": {
      "text/plain": [
       "[2, 4, 5]"
      ]
     },
     "execution_count": 31,
     "metadata": {},
     "output_type": "execute_result"
    }
   ],
   "source": [
    "d2[\"b\"]"
   ]
  },
  {
   "cell_type": "markdown",
   "id": "1e9d1f88",
   "metadata": {},
   "source": [
    "### Tuple as a value in a dictionary"
   ]
  },
  {
   "cell_type": "code",
   "execution_count": 32,
   "id": "d59adcd2",
   "metadata": {},
   "outputs": [],
   "source": [
    "d3={\"a\":1, \"b\":(2,4,5)}"
   ]
  },
  {
   "cell_type": "code",
   "execution_count": 33,
   "id": "93bcb71c",
   "metadata": {},
   "outputs": [
    {
     "data": {
      "text/plain": [
       "{'a': 1, 'b': (2, 4, 5)}"
      ]
     },
     "execution_count": 33,
     "metadata": {},
     "output_type": "execute_result"
    }
   ],
   "source": [
    "d3"
   ]
  },
  {
   "cell_type": "code",
   "execution_count": 34,
   "id": "99466444",
   "metadata": {},
   "outputs": [
    {
     "data": {
      "text/plain": [
       "(2, 4, 5)"
      ]
     },
     "execution_count": 34,
     "metadata": {},
     "output_type": "execute_result"
    }
   ],
   "source": [
    "d3[\"b\"]"
   ]
  },
  {
   "cell_type": "markdown",
   "id": "c2269218",
   "metadata": {},
   "source": [
    "### Set as a value in a dictionary"
   ]
  },
  {
   "cell_type": "code",
   "execution_count": 35,
   "id": "19ffa72f",
   "metadata": {},
   "outputs": [],
   "source": [
    "d4={\"a\":1, \"b\":{2,4,5}}"
   ]
  },
  {
   "cell_type": "code",
   "execution_count": 36,
   "id": "04cfd8fd",
   "metadata": {},
   "outputs": [
    {
     "data": {
      "text/plain": [
       "{'a': 1, 'b': {2, 4, 5}}"
      ]
     },
     "execution_count": 36,
     "metadata": {},
     "output_type": "execute_result"
    }
   ],
   "source": [
    "d4"
   ]
  },
  {
   "cell_type": "code",
   "execution_count": 37,
   "id": "02e35a1d",
   "metadata": {},
   "outputs": [
    {
     "data": {
      "text/plain": [
       "{2, 4, 5}"
      ]
     },
     "execution_count": 37,
     "metadata": {},
     "output_type": "execute_result"
    }
   ],
   "source": [
    "d4[\"b\"]"
   ]
  },
  {
   "cell_type": "markdown",
   "id": "4e25689c",
   "metadata": {},
   "source": [
    "### Dictionary as a value in a dictionary"
   ]
  },
  {
   "cell_type": "code",
   "execution_count": 38,
   "id": "91b48394",
   "metadata": {},
   "outputs": [],
   "source": [
    "d5={\"a\":1, \"b\":{ \"c\":\"4\", \"d\":5 }}"
   ]
  },
  {
   "cell_type": "code",
   "execution_count": 39,
   "id": "3f84d016",
   "metadata": {},
   "outputs": [
    {
     "data": {
      "text/plain": [
       "{'a': 1, 'b': {'c': '4', 'd': 5}}"
      ]
     },
     "execution_count": 39,
     "metadata": {},
     "output_type": "execute_result"
    }
   ],
   "source": [
    "d5"
   ]
  },
  {
   "cell_type": "code",
   "execution_count": 40,
   "id": "952fea76",
   "metadata": {},
   "outputs": [
    {
     "data": {
      "text/plain": [
       "{'c': '4', 'd': 5}"
      ]
     },
     "execution_count": 40,
     "metadata": {},
     "output_type": "execute_result"
    }
   ],
   "source": [
    "d5[\"b\"]"
   ]
  },
  {
   "cell_type": "code",
   "execution_count": 41,
   "id": "ea3ba0a9",
   "metadata": {},
   "outputs": [
    {
     "data": {
      "text/plain": [
       "'4'"
      ]
     },
     "execution_count": 41,
     "metadata": {},
     "output_type": "execute_result"
    }
   ],
   "source": [
    "d5[\"b\"][\"c\"]"
   ]
  },
  {
   "cell_type": "markdown",
   "id": "ce0f0a23",
   "metadata": {},
   "source": [
    "### Adding key-value pair in a dictionary"
   ]
  },
  {
   "cell_type": "code",
   "execution_count": 42,
   "id": "db19a93e",
   "metadata": {},
   "outputs": [],
   "source": [
    "d1={\"name\" : \"Bob\", \"email\":\"bob@gmail.com\",\"phone\":9898487653}"
   ]
  },
  {
   "cell_type": "code",
   "execution_count": 43,
   "id": "6f9c2e5f",
   "metadata": {},
   "outputs": [],
   "source": [
    "d1[\"surname\"]=\"williamson\""
   ]
  },
  {
   "cell_type": "code",
   "execution_count": 44,
   "id": "edb0b27b",
   "metadata": {},
   "outputs": [
    {
     "data": {
      "text/plain": [
       "{'name': 'Bob',\n",
       " 'email': 'bob@gmail.com',\n",
       " 'phone': 9898487653,\n",
       " 'surname': 'williamson'}"
      ]
     },
     "execution_count": 44,
     "metadata": {},
     "output_type": "execute_result"
    }
   ],
   "source": [
    "d1"
   ]
  },
  {
   "cell_type": "markdown",
   "id": "c85282dc",
   "metadata": {},
   "source": [
    "### List of keys and values in a dictionary"
   ]
  },
  {
   "cell_type": "code",
   "execution_count": 45,
   "id": "b26e7de1",
   "metadata": {},
   "outputs": [
    {
     "data": {
      "text/plain": [
       "{'name': 'Bob',\n",
       " 'email': 'bob@gmail.com',\n",
       " 'phone': 9898487653,\n",
       " 'surname': 'williamson'}"
      ]
     },
     "execution_count": 45,
     "metadata": {},
     "output_type": "execute_result"
    }
   ],
   "source": [
    "d1"
   ]
  },
  {
   "cell_type": "code",
   "execution_count": 49,
   "id": "eca0b7ba",
   "metadata": {},
   "outputs": [
    {
     "data": {
      "text/plain": [
       "dict_keys(['name', 'email', 'phone', 'surname'])"
      ]
     },
     "execution_count": 49,
     "metadata": {},
     "output_type": "execute_result"
    }
   ],
   "source": [
    "d1.keys()"
   ]
  },
  {
   "cell_type": "code",
   "execution_count": 52,
   "id": "e38d685a",
   "metadata": {},
   "outputs": [
    {
     "data": {
      "text/plain": [
       "['name', 'email', 'phone', 'surname']"
      ]
     },
     "execution_count": 52,
     "metadata": {},
     "output_type": "execute_result"
    }
   ],
   "source": [
    "list(d1.keys())"
   ]
  },
  {
   "cell_type": "code",
   "execution_count": 51,
   "id": "ac4fdb6f",
   "metadata": {},
   "outputs": [
    {
     "data": {
      "text/plain": [
       "dict_values(['Bob', 'bob@gmail.com', 9898487653, 'williamson'])"
      ]
     },
     "execution_count": 51,
     "metadata": {},
     "output_type": "execute_result"
    }
   ],
   "source": [
    "d1.values()"
   ]
  },
  {
   "cell_type": "code",
   "execution_count": 53,
   "id": "cd45ba26",
   "metadata": {},
   "outputs": [
    {
     "data": {
      "text/plain": [
       "['Bob', 'bob@gmail.com', 9898487653, 'williamson']"
      ]
     },
     "execution_count": 53,
     "metadata": {},
     "output_type": "execute_result"
    }
   ],
   "source": [
    "list(d1.values())"
   ]
  },
  {
   "cell_type": "markdown",
   "id": "61225611",
   "metadata": {},
   "source": [
    "### Key-Value pairs in a dictionary"
   ]
  },
  {
   "cell_type": "code",
   "execution_count": 54,
   "id": "f371d78b",
   "metadata": {},
   "outputs": [
    {
     "data": {
      "text/plain": [
       "{'name': 'Bob',\n",
       " 'email': 'bob@gmail.com',\n",
       " 'phone': 9898487653,\n",
       " 'surname': 'williamson'}"
      ]
     },
     "execution_count": 54,
     "metadata": {},
     "output_type": "execute_result"
    }
   ],
   "source": [
    "d1"
   ]
  },
  {
   "cell_type": "code",
   "execution_count": 55,
   "id": "eca5959a",
   "metadata": {},
   "outputs": [
    {
     "data": {
      "text/plain": [
       "dict_items([('name', 'Bob'), ('email', 'bob@gmail.com'), ('phone', 9898487653), ('surname', 'williamson')])"
      ]
     },
     "execution_count": 55,
     "metadata": {},
     "output_type": "execute_result"
    }
   ],
   "source": [
    "d1.items()"
   ]
  },
  {
   "cell_type": "code",
   "execution_count": 56,
   "id": "b880b3ed",
   "metadata": {},
   "outputs": [
    {
     "data": {
      "text/plain": [
       "[('name', 'Bob'),\n",
       " ('email', 'bob@gmail.com'),\n",
       " ('phone', 9898487653),\n",
       " ('surname', 'williamson')]"
      ]
     },
     "execution_count": 56,
     "metadata": {},
     "output_type": "execute_result"
    }
   ],
   "source": [
    "list(d1.items())"
   ]
  },
  {
   "cell_type": "markdown",
   "id": "93e850eb",
   "metadata": {},
   "source": [
    "### pop() and popitem() function in dictionary"
   ]
  },
  {
   "cell_type": "code",
   "execution_count": 57,
   "id": "ad03368b",
   "metadata": {},
   "outputs": [
    {
     "data": {
      "text/plain": [
       "{'name': 'Bob',\n",
       " 'email': 'bob@gmail.com',\n",
       " 'phone': 9898487653,\n",
       " 'surname': 'williamson'}"
      ]
     },
     "execution_count": 57,
     "metadata": {},
     "output_type": "execute_result"
    }
   ],
   "source": [
    "d1"
   ]
  },
  {
   "cell_type": "code",
   "execution_count": 58,
   "id": "87c8d4a7",
   "metadata": {},
   "outputs": [
    {
     "data": {
      "text/plain": [
       "'williamson'"
      ]
     },
     "execution_count": 58,
     "metadata": {},
     "output_type": "execute_result"
    }
   ],
   "source": [
    "d1.pop(\"surname\")"
   ]
  },
  {
   "cell_type": "code",
   "execution_count": 59,
   "id": "df45c421",
   "metadata": {},
   "outputs": [
    {
     "data": {
      "text/plain": [
       "{'name': 'Bob', 'email': 'bob@gmail.com', 'phone': 9898487653}"
      ]
     },
     "execution_count": 59,
     "metadata": {},
     "output_type": "execute_result"
    }
   ],
   "source": [
    "d1"
   ]
  },
  {
   "cell_type": "code",
   "execution_count": 61,
   "id": "998590d7",
   "metadata": {},
   "outputs": [
    {
     "data": {
      "text/plain": [
       "('phone', 9898487653)"
      ]
     },
     "execution_count": 61,
     "metadata": {},
     "output_type": "execute_result"
    }
   ],
   "source": [
    "d1.popitem()"
   ]
  },
  {
   "cell_type": "code",
   "execution_count": 62,
   "id": "6c4fba9a",
   "metadata": {},
   "outputs": [
    {
     "data": {
      "text/plain": [
       "{'name': 'Bob', 'email': 'bob@gmail.com'}"
      ]
     },
     "execution_count": 62,
     "metadata": {},
     "output_type": "execute_result"
    }
   ],
   "source": [
    "d1"
   ]
  },
  {
   "cell_type": "markdown",
   "id": "e8f30c1a",
   "metadata": {},
   "source": [
    "### Python: If / Else statement"
   ]
  },
  {
   "cell_type": "markdown",
   "id": "6f351ab0",
   "metadata": {},
   "source": [
    "### Example 1:"
   ]
  },
  {
   "cell_type": "code",
   "execution_count": 72,
   "id": "351c8940",
   "metadata": {},
   "outputs": [
    {
     "name": "stdout",
     "output_type": "stream",
     "text": [
      "Enter your marks :45.49\n",
      "A2 Batch\n"
     ]
    }
   ],
   "source": [
    "# marks taken as user input\n",
    "\n",
    "marks=float(input(\"Enter your marks :\"))\n",
    "\n",
    "if marks>=80:\n",
    "    \n",
    "    print(\"A0 Batch\")\n",
    "\n",
    "elif marks>=60 and marks<80:\n",
    "\n",
    "    print(\"A1 Batch\")\n",
    "    \n",
    "elif marks>=40 and marks<60:\n",
    "    \n",
    "    print(\"A2 Batch\")\n",
    "    \n",
    "else:\n",
    "    \n",
    "    print(\"A3 Batch\")"
   ]
  },
  {
   "cell_type": "markdown",
   "id": "8cb49409",
   "metadata": {},
   "source": [
    "### Example 2:"
   ]
  },
  {
   "cell_type": "code",
   "execution_count": 86,
   "id": "b4a2b797",
   "metadata": {},
   "outputs": [
    {
     "name": "stdout",
     "output_type": "stream",
     "text": [
      "Enter price of mobile:120000\n",
      "I won't purchase the mobile phone\n",
      "This is too much expensive\n",
      "How can i get that much money?\n",
      "I have to sell my kidney then\n"
     ]
    }
   ],
   "source": [
    "price=int(input(\"Enter price of mobile:\"))\n",
    "\n",
    "if price>10000:\n",
    "    \n",
    "    print(\"I won't purchase the mobile phone\")\n",
    "    \n",
    "    if price>50000:\n",
    "        \n",
    "        print(\"This is too much expensive\")\n",
    "        \n",
    "        if price>70000:\n",
    "            \n",
    "            print(\"How can i get that much money?\")\n",
    "            \n",
    "            if price>100000:\n",
    "                \n",
    "                print(\"I have to sell my kidney then\")\n",
    "\n",
    "else:\n",
    "\n",
    "    print(\"I will purchase the mobile phone\")"
   ]
  },
  {
   "cell_type": "markdown",
   "id": "946e0fe2",
   "metadata": {},
   "source": [
    "### Python : For Loop"
   ]
  },
  {
   "cell_type": "code",
   "execution_count": 87,
   "id": "071a05ea",
   "metadata": {},
   "outputs": [],
   "source": [
    "L=[1,2,65,34,65,2]"
   ]
  },
  {
   "cell_type": "code",
   "execution_count": 91,
   "id": "ea2438ba",
   "metadata": {},
   "outputs": [
    {
     "name": "stdout",
     "output_type": "stream",
     "text": [
      "1\n",
      "2\n",
      "65\n",
      "34\n",
      "65\n",
      "2\n"
     ]
    }
   ],
   "source": [
    "for i in L:\n",
    "    \n",
    "    print(i)"
   ]
  },
  {
   "cell_type": "code",
   "execution_count": 90,
   "id": "09ce08cd",
   "metadata": {},
   "outputs": [
    {
     "name": "stdout",
     "output_type": "stream",
     "text": [
      "11\n",
      "12\n",
      "75\n",
      "44\n",
      "75\n",
      "12\n"
     ]
    }
   ],
   "source": [
    "for i in L:\n",
    "    \n",
    "    print(i+10)"
   ]
  },
  {
   "cell_type": "code",
   "execution_count": 92,
   "id": "bef40f4e",
   "metadata": {},
   "outputs": [
    {
     "name": "stdout",
     "output_type": "stream",
     "text": [
      "1 5\n",
      "1 6\n",
      "1 7\n",
      "2 5\n",
      "2 6\n",
      "2 7\n",
      "3 5\n",
      "3 6\n",
      "3 7\n"
     ]
    }
   ],
   "source": [
    "L1=[1,2,3]\n",
    "L2=[5,6,7]\n",
    "\n",
    "for i in L1:\n",
    "    \n",
    "    for j in L2:\n",
    "        \n",
    "        print(i,j)"
   ]
  },
  {
   "cell_type": "markdown",
   "id": "8f4e22ac",
   "metadata": {},
   "source": [
    "### Example: multiply 10 to every elements in the list"
   ]
  },
  {
   "cell_type": "code",
   "execution_count": 93,
   "id": "6b6c7daa",
   "metadata": {},
   "outputs": [],
   "source": [
    "L1=[1,2,3]\n",
    "\n",
    "L2=[]\n",
    "\n",
    "for i in L1:\n",
    "    \n",
    "    L2.append(i*10)"
   ]
  },
  {
   "cell_type": "code",
   "execution_count": 94,
   "id": "aae9cb77",
   "metadata": {},
   "outputs": [
    {
     "data": {
      "text/plain": [
       "[10, 20, 30]"
      ]
     },
     "execution_count": 94,
     "metadata": {},
     "output_type": "execute_result"
    }
   ],
   "source": [
    "L2"
   ]
  },
  {
   "cell_type": "markdown",
   "id": "172e7f54",
   "metadata": {},
   "source": [
    "### Example: Convert lower case to upper case "
   ]
  },
  {
   "cell_type": "code",
   "execution_count": 98,
   "id": "459d83a4",
   "metadata": {},
   "outputs": [],
   "source": [
    "L1 = [\"hello\", \"world\", \"how\", \"are\", \"you\", \"?\"]\n",
    "\n",
    "L2=[]\n",
    "\n",
    "for i in L1:\n",
    "    \n",
    "    L2.append(i.upper())"
   ]
  },
  {
   "cell_type": "code",
   "execution_count": 99,
   "id": "f10e3d99",
   "metadata": {},
   "outputs": [
    {
     "data": {
      "text/plain": [
       "['HELLO', 'WORLD', 'HOW', 'ARE', 'YOU', '?']"
      ]
     },
     "execution_count": 99,
     "metadata": {},
     "output_type": "execute_result"
    }
   ],
   "source": [
    "L2"
   ]
  },
  {
   "cell_type": "markdown",
   "id": "4b3374e5",
   "metadata": {},
   "source": [
    "### Example : Separate out numeric and stings in two different lists"
   ]
  },
  {
   "cell_type": "code",
   "execution_count": 103,
   "id": "ad44b4c3",
   "metadata": {},
   "outputs": [],
   "source": [
    "L1 = [1,2,3,4.4,\"hello\",5,3,6,\"world\",9.5,8]\n",
    "\n",
    "L2 = []\n",
    "\n",
    "L3 = []\n",
    "\n",
    "for i in L1:\n",
    "    \n",
    "    if type(i)==int or type(i)==float:\n",
    "        \n",
    "        L2.append(i)\n",
    "        \n",
    "    if type(i)==str:\n",
    "        \n",
    "        L3.append(i)"
   ]
  },
  {
   "cell_type": "code",
   "execution_count": 104,
   "id": "54fac823",
   "metadata": {},
   "outputs": [
    {
     "data": {
      "text/plain": [
       "[1, 2, 3, 4.4, 5, 3, 6, 9.5, 8]"
      ]
     },
     "execution_count": 104,
     "metadata": {},
     "output_type": "execute_result"
    }
   ],
   "source": [
    "L2"
   ]
  },
  {
   "cell_type": "code",
   "execution_count": 105,
   "id": "a101eb61",
   "metadata": {},
   "outputs": [
    {
     "data": {
      "text/plain": [
       "['hello', 'world']"
      ]
     },
     "execution_count": 105,
     "metadata": {},
     "output_type": "execute_result"
    }
   ],
   "source": [
    "L3"
   ]
  },
  {
   "cell_type": "code",
   "execution_count": null,
   "id": "7c08cbcd",
   "metadata": {},
   "outputs": [],
   "source": []
  }
 ],
 "metadata": {
  "kernelspec": {
   "display_name": "Python 3 (ipykernel)",
   "language": "python",
   "name": "python3"
  },
  "language_info": {
   "codemirror_mode": {
    "name": "ipython",
    "version": 3
   },
   "file_extension": ".py",
   "mimetype": "text/x-python",
   "name": "python",
   "nbconvert_exporter": "python",
   "pygments_lexer": "ipython3",
   "version": "3.10.6"
  }
 },
 "nbformat": 4,
 "nbformat_minor": 5
}
