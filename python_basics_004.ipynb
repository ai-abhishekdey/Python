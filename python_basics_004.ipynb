{
 "cells": [
  {
   "cell_type": "markdown",
   "id": "6cb7e026",
   "metadata": {},
   "source": [
    "## Python Basics: 004"
   ]
  },
  {
   "cell_type": "markdown",
   "id": "116ea0af",
   "metadata": {},
   "source": [
    "================================\n",
    "\n",
    "**Author: Abhishek Dey**\n",
    "\n",
    "================================"
   ]
  },
  {
   "cell_type": "markdown",
   "id": "8684b968",
   "metadata": {},
   "source": [
    "## Contents:"
   ]
  },
  {
   "cell_type": "markdown",
   "id": "04f5ac09",
   "metadata": {},
   "source": [
    "* for / else condition\n",
    "\n",
    "* break statement\n",
    "\n",
    "* continue statement\n",
    "\n",
    "* range"
   ]
  },
  {
   "cell_type": "markdown",
   "id": "38b87eb7",
   "metadata": {},
   "source": [
    "### Python: for / else condition:"
   ]
  },
  {
   "cell_type": "markdown",
   "id": "4c0f7bbd",
   "metadata": {},
   "source": [
    "**Note:** **else condition**  is executed only when **for condition** completes it's iteration for the entire cycle"
   ]
  },
  {
   "cell_type": "code",
   "execution_count": 59,
   "id": "106c4cd8",
   "metadata": {},
   "outputs": [
    {
     "name": "stdout",
     "output_type": "stream",
     "text": [
      "Hello\n",
      "world\n",
      "how\n",
      "are\n",
      "you\n",
      "for loop is executed completely and jumped to else condition\n"
     ]
    }
   ],
   "source": [
    "l1=[\"Hello\", \"world\", \"how\", \"are\", \"you\"]\n",
    "\n",
    "for i in l1:\n",
    "    \n",
    "    print(i)\n",
    "    \n",
    "else:\n",
    "    \n",
    "    print(\"for loop is executed completely and jumped to else condition\")"
   ]
  },
  {
   "cell_type": "markdown",
   "id": "2537aeed",
   "metadata": {},
   "source": [
    "### Python : break statement"
   ]
  },
  {
   "cell_type": "markdown",
   "id": "6bef86fa",
   "metadata": {},
   "source": [
    "**Note:** **break statement** gives a break to the loop condition and jumps out of the loop"
   ]
  },
  {
   "cell_type": "code",
   "execution_count": 60,
   "id": "3e042b10",
   "metadata": {},
   "outputs": [
    {
     "name": "stdout",
     "output_type": "stream",
     "text": [
      "Hello\n",
      "world\n"
     ]
    }
   ],
   "source": [
    "l1=[\"Hello\", \"world\", \"how\", \"are\", \"you\"]\n",
    "\n",
    "for i in l1:\n",
    "    \n",
    "    \n",
    "    if (i==\"how\"):\n",
    "        break\n",
    "    \n",
    "    print(i)\n",
    "    \n",
    "else:\n",
    "    \n",
    "    print(\"for loop is executed completely and jumped to else condition\")"
   ]
  },
  {
   "cell_type": "markdown",
   "id": "79113fe1",
   "metadata": {},
   "source": [
    "**Note that since the for loop condition is not executed completely due to break statement, the else condition is not executed**"
   ]
  },
  {
   "cell_type": "markdown",
   "id": "b9ad4a39",
   "metadata": {},
   "source": [
    "### Python: continue statement"
   ]
  },
  {
   "cell_type": "code",
   "execution_count": 62,
   "id": "45239bf9",
   "metadata": {},
   "outputs": [
    {
     "name": "stdout",
     "output_type": "stream",
     "text": [
      "Hello\n",
      "world\n",
      "are\n",
      "you\n",
      "for loop is executed completely and jumped to else condition\n"
     ]
    }
   ],
   "source": [
    "l1=[\"Hello\", \"world\", \"how\", \"are\", \"you\"]\n",
    "\n",
    "for i in l1:\n",
    "    \n",
    "    \n",
    "    if (i==\"how\"):\n",
    "        \n",
    "        continue\n",
    "    \n",
    "    print(i)\n",
    "\n",
    "else:\n",
    "    \n",
    "    print(\"for loop is executed completely and jumped to else condition\")"
   ]
  },
  {
   "cell_type": "markdown",
   "id": "cc100012",
   "metadata": {},
   "source": [
    "**Note that since the for loop condition is not broken due to break statement, the else condition is  executed**"
   ]
  },
  {
   "cell_type": "markdown",
   "id": "097f15b6",
   "metadata": {},
   "source": [
    "### Python: range"
   ]
  },
  {
   "cell_type": "code",
   "execution_count": 63,
   "id": "5da66b65",
   "metadata": {},
   "outputs": [
    {
     "name": "stdout",
     "output_type": "stream",
     "text": [
      "0\n",
      "1\n",
      "2\n",
      "3\n",
      "4\n"
     ]
    }
   ],
   "source": [
    "for i in range(5):\n",
    "    print(i)"
   ]
  },
  {
   "cell_type": "code",
   "execution_count": 64,
   "id": "0975dd4d",
   "metadata": {},
   "outputs": [
    {
     "name": "stdout",
     "output_type": "stream",
     "text": [
      "0\n",
      "1\n",
      "2\n",
      "3\n",
      "4\n"
     ]
    }
   ],
   "source": [
    "for i in range(0,5):\n",
    "    print(i)"
   ]
  },
  {
   "cell_type": "code",
   "execution_count": 65,
   "id": "d51a53db",
   "metadata": {},
   "outputs": [
    {
     "name": "stdout",
     "output_type": "stream",
     "text": [
      "0\n",
      "1\n",
      "2\n",
      "3\n",
      "4\n"
     ]
    }
   ],
   "source": [
    "for i in range(0,5,1):\n",
    "    print(i)"
   ]
  },
  {
   "cell_type": "code",
   "execution_count": 66,
   "id": "97f41d1a",
   "metadata": {},
   "outputs": [
    {
     "name": "stdout",
     "output_type": "stream",
     "text": [
      "1\n",
      "3\n",
      "5\n",
      "7\n",
      "9\n"
     ]
    }
   ],
   "source": [
    "for i in range(1,10,2):\n",
    "    print(i)"
   ]
  },
  {
   "cell_type": "markdown",
   "id": "c2311ef3",
   "metadata": {},
   "source": [
    "### Example: Generate even numbers below 20 using range"
   ]
  },
  {
   "cell_type": "code",
   "execution_count": 68,
   "id": "68d25604",
   "metadata": {},
   "outputs": [
    {
     "name": "stdout",
     "output_type": "stream",
     "text": [
      "0\n",
      "2\n",
      "4\n",
      "6\n",
      "8\n",
      "10\n",
      "12\n",
      "14\n",
      "16\n",
      "18\n",
      "20\n"
     ]
    }
   ],
   "source": [
    "for i in range(0,21,2):\n",
    "    print(i)"
   ]
  },
  {
   "cell_type": "markdown",
   "id": "145d1989",
   "metadata": {},
   "source": [
    "### Example: Generate odd numbers below 20 using range"
   ]
  },
  {
   "cell_type": "code",
   "execution_count": 69,
   "id": "bda6361b",
   "metadata": {},
   "outputs": [
    {
     "name": "stdout",
     "output_type": "stream",
     "text": [
      "1\n",
      "3\n",
      "5\n",
      "7\n",
      "9\n",
      "11\n",
      "13\n",
      "15\n",
      "17\n",
      "19\n"
     ]
    }
   ],
   "source": [
    "for i in range(1,20,2):\n",
    "    print(i)"
   ]
  },
  {
   "cell_type": "markdown",
   "id": "d0f1cc34",
   "metadata": {},
   "source": [
    "### Example: Generate even numbers between 30 and 15 using range"
   ]
  },
  {
   "cell_type": "code",
   "execution_count": 71,
   "id": "5c432094",
   "metadata": {},
   "outputs": [
    {
     "name": "stdout",
     "output_type": "stream",
     "text": [
      "30\n",
      "28\n",
      "26\n",
      "24\n",
      "22\n",
      "20\n",
      "18\n",
      "16\n"
     ]
    }
   ],
   "source": [
    "for i in range(30,15,-2):\n",
    "    print(i)"
   ]
  },
  {
   "cell_type": "code",
   "execution_count": null,
   "id": "a32fe856",
   "metadata": {},
   "outputs": [],
   "source": []
  }
 ],
 "metadata": {
  "kernelspec": {
   "display_name": "Python 3 (ipykernel)",
   "language": "python",
   "name": "python3"
  },
  "language_info": {
   "codemirror_mode": {
    "name": "ipython",
    "version": 3
   },
   "file_extension": ".py",
   "mimetype": "text/x-python",
   "name": "python",
   "nbconvert_exporter": "python",
   "pygments_lexer": "ipython3",
   "version": "3.10.6"
  }
 },
 "nbformat": 4,
 "nbformat_minor": 5
}
