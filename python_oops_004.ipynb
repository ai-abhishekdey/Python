{
 "cells": [
  {
   "cell_type": "markdown",
   "id": "d62c6550",
   "metadata": {},
   "source": [
    "## Python OOPS: 004"
   ]
  },
  {
   "cell_type": "markdown",
   "id": "422f7bfc",
   "metadata": {},
   "source": [
    "======================================\n",
    "\n",
    "**Author: Abhishek Dey**\n",
    "\n",
    "======================================"
   ]
  },
  {
   "cell_type": "markdown",
   "id": "0ca7645e",
   "metadata": {},
   "source": [
    "## Contents:"
   ]
  },
  {
   "cell_type": "markdown",
   "id": "ef259f00",
   "metadata": {},
   "source": [
    "* Encapsulation\n",
    "\n",
    "* Access Modifiers in python:\n",
    "    \n",
    "    * public member\n",
    "    \n",
    "    * protected member\n",
    "    \n",
    "    * private member\n",
    "    \n",
    "* super()"
   ]
  },
  {
   "cell_type": "markdown",
   "id": "6c98f3f6",
   "metadata": {},
   "source": [
    "## Encapsulation:"
   ]
  },
  {
   "cell_type": "markdown",
   "id": "081822df",
   "metadata": {},
   "source": [
    "* Encapsulation in Python describes the concept of bundling data and methods within a single unit.\n",
    "\n",
    "* A class is an example of encapsulation as it binds all the data members (instance variables) and methods into a single unit.\n",
    "\n",
    "* Encapsulation can be achieved by declaring the data members and methods of a class either as **private or protected.**"
   ]
  },
  {
   "cell_type": "markdown",
   "id": "b892c0c9",
   "metadata": {},
   "source": [
    "![encapsulation](images/encapsulation.png)"
   ]
  },
  {
   "cell_type": "markdown",
   "id": "9feb7794",
   "metadata": {},
   "source": [
    "## Access Modifiers in python:"
   ]
  },
  {
   "cell_type": "markdown",
   "id": "6bcd2427",
   "metadata": {},
   "source": [
    "* **Public Member:** Accessible anywhere from outside oclass.\n",
    "\n",
    "* **Protected Member:** Accessible within the class and its sub-classes\n",
    "\n",
    "* **Private Member:** Accessible within the class"
   ]
  },
  {
   "cell_type": "markdown",
   "id": "009e057a",
   "metadata": {},
   "source": [
    "![access_modifiers](images/access_modifiers.png)"
   ]
  },
  {
   "cell_type": "markdown",
   "id": "7aae170c",
   "metadata": {},
   "source": [
    "## Public member:"
   ]
  },
  {
   "cell_type": "code",
   "execution_count": 29,
   "id": "94d407f7",
   "metadata": {},
   "outputs": [],
   "source": [
    "class Employee1:\n",
    "    \n",
    "    def __init__(self,name,project,salary):\n",
    "        \n",
    "        \n",
    "        # public data menbers\n",
    "        \n",
    "        self.name=name\n",
    "        self.project=project\n",
    "        self.salary=salary\n",
    "        \n",
    "    def display1(self):\n",
    "        print(\"Employee Name : \",self.name)\n",
    "        print(\"Project Name : \",self.project)\n",
    "        print(\"Salary : \",self.salary)"
   ]
  },
  {
   "cell_type": "code",
   "execution_count": 30,
   "id": "b635f168",
   "metadata": {},
   "outputs": [],
   "source": [
    "emp1=Employee1(\"Ritesh\",\"NLP\",50000)"
   ]
  },
  {
   "cell_type": "code",
   "execution_count": 31,
   "id": "e74b9518",
   "metadata": {},
   "outputs": [
    {
     "data": {
      "text/plain": [
       "['__class__',\n",
       " '__delattr__',\n",
       " '__dict__',\n",
       " '__dir__',\n",
       " '__doc__',\n",
       " '__eq__',\n",
       " '__format__',\n",
       " '__ge__',\n",
       " '__getattribute__',\n",
       " '__gt__',\n",
       " '__hash__',\n",
       " '__init__',\n",
       " '__init_subclass__',\n",
       " '__le__',\n",
       " '__lt__',\n",
       " '__module__',\n",
       " '__ne__',\n",
       " '__new__',\n",
       " '__reduce__',\n",
       " '__reduce_ex__',\n",
       " '__repr__',\n",
       " '__setattr__',\n",
       " '__sizeof__',\n",
       " '__str__',\n",
       " '__subclasshook__',\n",
       " '__weakref__',\n",
       " 'display1',\n",
       " 'name',\n",
       " 'project',\n",
       " 'salary']"
      ]
     },
     "execution_count": 31,
     "metadata": {},
     "output_type": "execute_result"
    }
   ],
   "source": [
    "dir(emp1)"
   ]
  },
  {
   "cell_type": "code",
   "execution_count": 32,
   "id": "4c4d6d44",
   "metadata": {},
   "outputs": [
    {
     "data": {
      "text/plain": [
       "50000"
      ]
     },
     "execution_count": 32,
     "metadata": {},
     "output_type": "execute_result"
    }
   ],
   "source": [
    "emp1.salary"
   ]
  },
  {
   "cell_type": "code",
   "execution_count": 33,
   "id": "8bbe95eb",
   "metadata": {},
   "outputs": [
    {
     "data": {
      "text/plain": [
       "'Ritesh'"
      ]
     },
     "execution_count": 33,
     "metadata": {},
     "output_type": "execute_result"
    }
   ],
   "source": [
    "emp1.name"
   ]
  },
  {
   "cell_type": "code",
   "execution_count": 34,
   "id": "971520eb",
   "metadata": {},
   "outputs": [
    {
     "data": {
      "text/plain": [
       "'NLP'"
      ]
     },
     "execution_count": 34,
     "metadata": {},
     "output_type": "execute_result"
    }
   ],
   "source": [
    "emp1.project"
   ]
  },
  {
   "cell_type": "code",
   "execution_count": 35,
   "id": "d1f16dc7",
   "metadata": {},
   "outputs": [
    {
     "name": "stdout",
     "output_type": "stream",
     "text": [
      "Employee Name :  Ritesh\n",
      "Project Name :  NLP\n",
      "Salary :  50000\n"
     ]
    }
   ],
   "source": [
    "emp1.display1()"
   ]
  },
  {
   "cell_type": "markdown",
   "id": "a604e206",
   "metadata": {},
   "source": [
    "### Over ridding public variable"
   ]
  },
  {
   "cell_type": "code",
   "execution_count": 36,
   "id": "c38a956f",
   "metadata": {},
   "outputs": [],
   "source": [
    "emp1.salary=75000"
   ]
  },
  {
   "cell_type": "code",
   "execution_count": 37,
   "id": "24a85d92",
   "metadata": {},
   "outputs": [
    {
     "name": "stdout",
     "output_type": "stream",
     "text": [
      "Employee Name :  Ritesh\n",
      "Project Name :  NLP\n",
      "Salary :  75000\n"
     ]
    }
   ],
   "source": [
    "emp1.display1()"
   ]
  },
  {
   "cell_type": "markdown",
   "id": "f2168b1b",
   "metadata": {},
   "source": [
    "## Protected member: (single underscore) "
   ]
  },
  {
   "cell_type": "code",
   "execution_count": 38,
   "id": "cedf2842",
   "metadata": {},
   "outputs": [],
   "source": [
    "class Employee2:\n",
    "    \n",
    "    def __init__(self,name,project,salary):\n",
    "        \n",
    "        # protected data members\n",
    "        \n",
    "        self._name=name\n",
    "        self._project=project\n",
    "        self._salary=salary\n",
    "        \n",
    "    def display1(self):\n",
    "        \n",
    "        print(\"Employee Name : \",self._name)\n",
    "        print(\"Project Name : \",self._project)\n",
    "        print(\"Salary : \",self._salary)\n",
    "    \n",
    "class Details(Employee2):\n",
    "    \n",
    "    def __init__(self,name,project,salary,age,designation):\n",
    "        \n",
    "        super().__init__(name,project,salary)\n",
    "        self._age=age\n",
    "        self._designation=designation\n",
    "    \n",
    "    \n",
    "    def display2(self):\n",
    "        \n",
    "        super().display1()\n",
    "        print(\"Age : \",self._age)\n",
    "        print(\"Designation : \",self._designation)\n",
    "        "
   ]
  },
  {
   "cell_type": "markdown",
   "id": "42fbc0d4",
   "metadata": {},
   "source": [
    "### Creating object for the parent class"
   ]
  },
  {
   "cell_type": "code",
   "execution_count": 39,
   "id": "0f45b461",
   "metadata": {},
   "outputs": [],
   "source": [
    "emp2=Employee2(\"Ravi\",\"Data collection\",40000)"
   ]
  },
  {
   "cell_type": "code",
   "execution_count": 40,
   "id": "048ef060",
   "metadata": {},
   "outputs": [
    {
     "data": {
      "text/plain": [
       "['__class__',\n",
       " '__delattr__',\n",
       " '__dict__',\n",
       " '__dir__',\n",
       " '__doc__',\n",
       " '__eq__',\n",
       " '__format__',\n",
       " '__ge__',\n",
       " '__getattribute__',\n",
       " '__gt__',\n",
       " '__hash__',\n",
       " '__init__',\n",
       " '__init_subclass__',\n",
       " '__le__',\n",
       " '__lt__',\n",
       " '__module__',\n",
       " '__ne__',\n",
       " '__new__',\n",
       " '__reduce__',\n",
       " '__reduce_ex__',\n",
       " '__repr__',\n",
       " '__setattr__',\n",
       " '__sizeof__',\n",
       " '__str__',\n",
       " '__subclasshook__',\n",
       " '__weakref__',\n",
       " '_name',\n",
       " '_project',\n",
       " '_salary',\n",
       " 'display1']"
      ]
     },
     "execution_count": 40,
     "metadata": {},
     "output_type": "execute_result"
    }
   ],
   "source": [
    "dir(emp2)"
   ]
  },
  {
   "cell_type": "code",
   "execution_count": 17,
   "id": "8439b7b8",
   "metadata": {},
   "outputs": [
    {
     "data": {
      "text/plain": [
       "'Ravi'"
      ]
     },
     "execution_count": 17,
     "metadata": {},
     "output_type": "execute_result"
    }
   ],
   "source": [
    "emp2._name"
   ]
  },
  {
   "cell_type": "code",
   "execution_count": 18,
   "id": "ad329afb",
   "metadata": {},
   "outputs": [
    {
     "data": {
      "text/plain": [
       "'Data collection'"
      ]
     },
     "execution_count": 18,
     "metadata": {},
     "output_type": "execute_result"
    }
   ],
   "source": [
    "emp2._project"
   ]
  },
  {
   "cell_type": "code",
   "execution_count": 19,
   "id": "6468bfb7",
   "metadata": {},
   "outputs": [
    {
     "data": {
      "text/plain": [
       "40000"
      ]
     },
     "execution_count": 19,
     "metadata": {},
     "output_type": "execute_result"
    }
   ],
   "source": [
    "emp2._salary"
   ]
  },
  {
   "cell_type": "code",
   "execution_count": 20,
   "id": "0a97678a",
   "metadata": {},
   "outputs": [
    {
     "name": "stdout",
     "output_type": "stream",
     "text": [
      "Employee Name :  Ravi\n",
      "Project Name :  Data collection\n",
      "Salary :  40000\n"
     ]
    }
   ],
   "source": [
    "emp2.display1()"
   ]
  },
  {
   "cell_type": "markdown",
   "id": "e780d76d",
   "metadata": {},
   "source": [
    "### Over ridding protected variable from parant class"
   ]
  },
  {
   "cell_type": "code",
   "execution_count": 41,
   "id": "6f7bb877",
   "metadata": {},
   "outputs": [],
   "source": [
    "emp2._project=\"Computer Vision\""
   ]
  },
  {
   "cell_type": "code",
   "execution_count": 42,
   "id": "98c83294",
   "metadata": {},
   "outputs": [
    {
     "name": "stdout",
     "output_type": "stream",
     "text": [
      "Employee Name :  Ravi\n",
      "Project Name :  Computer Vision\n",
      "Salary :  40000\n"
     ]
    }
   ],
   "source": [
    "emp2.display1()"
   ]
  },
  {
   "cell_type": "markdown",
   "id": "6ddf0ddf",
   "metadata": {},
   "source": [
    "### Creating object from the child class"
   ]
  },
  {
   "cell_type": "code",
   "execution_count": 23,
   "id": "13a72e2e",
   "metadata": {},
   "outputs": [],
   "source": [
    "emp3=Details(\"Sunil\",\"NLP\",93802,32,\"NLP Engineer\")"
   ]
  },
  {
   "cell_type": "code",
   "execution_count": 24,
   "id": "9ba5259d",
   "metadata": {},
   "outputs": [
    {
     "data": {
      "text/plain": [
       "['__class__',\n",
       " '__delattr__',\n",
       " '__dict__',\n",
       " '__dir__',\n",
       " '__doc__',\n",
       " '__eq__',\n",
       " '__format__',\n",
       " '__ge__',\n",
       " '__getattribute__',\n",
       " '__gt__',\n",
       " '__hash__',\n",
       " '__init__',\n",
       " '__init_subclass__',\n",
       " '__le__',\n",
       " '__lt__',\n",
       " '__module__',\n",
       " '__ne__',\n",
       " '__new__',\n",
       " '__reduce__',\n",
       " '__reduce_ex__',\n",
       " '__repr__',\n",
       " '__setattr__',\n",
       " '__sizeof__',\n",
       " '__str__',\n",
       " '__subclasshook__',\n",
       " '__weakref__',\n",
       " '_age',\n",
       " '_designation',\n",
       " '_name',\n",
       " '_project',\n",
       " '_salary',\n",
       " 'display1',\n",
       " 'display2']"
      ]
     },
     "execution_count": 24,
     "metadata": {},
     "output_type": "execute_result"
    }
   ],
   "source": [
    "dir(emp3)"
   ]
  },
  {
   "cell_type": "code",
   "execution_count": 13,
   "id": "83fe67fa",
   "metadata": {},
   "outputs": [
    {
     "name": "stdout",
     "output_type": "stream",
     "text": [
      "Employee Name :  Sunil\n",
      "Project Name :  NLP\n",
      "Salary :  93802\n",
      "Age :  32\n",
      "Designation :  NLP Engineer\n"
     ]
    }
   ],
   "source": [
    "emp3.display2()"
   ]
  },
  {
   "cell_type": "code",
   "execution_count": 14,
   "id": "0530786d",
   "metadata": {},
   "outputs": [
    {
     "name": "stdout",
     "output_type": "stream",
     "text": [
      "Employee Name :  Sunil\n",
      "Project Name :  NLP\n",
      "Salary :  93802\n"
     ]
    }
   ],
   "source": [
    "emp3.display1()"
   ]
  },
  {
   "cell_type": "markdown",
   "id": "87877a67",
   "metadata": {},
   "source": [
    "### Over ridding from the child class"
   ]
  },
  {
   "cell_type": "code",
   "execution_count": 26,
   "id": "9b50aff4",
   "metadata": {},
   "outputs": [],
   "source": [
    "emp3._salary=19293"
   ]
  },
  {
   "cell_type": "code",
   "execution_count": 27,
   "id": "6b3c9801",
   "metadata": {},
   "outputs": [
    {
     "name": "stdout",
     "output_type": "stream",
     "text": [
      "Employee Name :  Sunil\n",
      "Project Name :  NLP\n",
      "Salary :  19293\n"
     ]
    }
   ],
   "source": [
    "emp3.display1()"
   ]
  },
  {
   "cell_type": "code",
   "execution_count": 28,
   "id": "e77b6d1d",
   "metadata": {},
   "outputs": [
    {
     "name": "stdout",
     "output_type": "stream",
     "text": [
      "Employee Name :  Sunil\n",
      "Project Name :  NLP\n",
      "Salary :  19293\n",
      "Age :  32\n",
      "Designation :  NLP Engineer\n"
     ]
    }
   ],
   "source": [
    "emp3.display2()"
   ]
  },
  {
   "cell_type": "markdown",
   "id": "a7256040",
   "metadata": {},
   "source": [
    "## Super() function provides us the facility to refer to the parent class explicitly. "
   ]
  },
  {
   "cell_type": "markdown",
   "id": "bb139f5f",
   "metadata": {},
   "source": [
    "## Private Member: (Double underscore)"
   ]
  },
  {
   "cell_type": "code",
   "execution_count": 45,
   "id": "09859bc0",
   "metadata": {},
   "outputs": [],
   "source": [
    "class Employee3:\n",
    "    \n",
    "    def __init__(self,name,project,salary):\n",
    "        \n",
    "        self.__name=name\n",
    "        self.__project=project\n",
    "        self.__salary=salary\n",
    "        \n",
    "    def display3(self):\n",
    "        \n",
    "        print(\"Employee name : \",self.__name)\n",
    "        print(\"Project name : \",self.__project)\n",
    "        print(\"Salary name : \",self.__salary)"
   ]
  },
  {
   "cell_type": "code",
   "execution_count": 47,
   "id": "d3c53980",
   "metadata": {},
   "outputs": [],
   "source": [
    "emp4=Employee3(\"Sagar\",\"Data Analysis\",45000)"
   ]
  },
  {
   "cell_type": "code",
   "execution_count": 48,
   "id": "6fa704c5",
   "metadata": {},
   "outputs": [
    {
     "data": {
      "text/plain": [
       "['_Employee3__name',\n",
       " '_Employee3__project',\n",
       " '_Employee3__salary',\n",
       " '__class__',\n",
       " '__delattr__',\n",
       " '__dict__',\n",
       " '__dir__',\n",
       " '__doc__',\n",
       " '__eq__',\n",
       " '__format__',\n",
       " '__ge__',\n",
       " '__getattribute__',\n",
       " '__gt__',\n",
       " '__hash__',\n",
       " '__init__',\n",
       " '__init_subclass__',\n",
       " '__le__',\n",
       " '__lt__',\n",
       " '__module__',\n",
       " '__ne__',\n",
       " '__new__',\n",
       " '__reduce__',\n",
       " '__reduce_ex__',\n",
       " '__repr__',\n",
       " '__setattr__',\n",
       " '__sizeof__',\n",
       " '__str__',\n",
       " '__subclasshook__',\n",
       " '__weakref__',\n",
       " 'display3']"
      ]
     },
     "execution_count": 48,
     "metadata": {},
     "output_type": "execute_result"
    }
   ],
   "source": [
    "dir(emp4)"
   ]
  },
  {
   "cell_type": "code",
   "execution_count": 51,
   "id": "cb8003c6",
   "metadata": {},
   "outputs": [
    {
     "data": {
      "text/plain": [
       "'Sagar'"
      ]
     },
     "execution_count": 51,
     "metadata": {},
     "output_type": "execute_result"
    }
   ],
   "source": [
    "emp4._Employee3__name"
   ]
  },
  {
   "cell_type": "code",
   "execution_count": 52,
   "id": "2b3a6a7b",
   "metadata": {},
   "outputs": [
    {
     "data": {
      "text/plain": [
       "'Data Analysis'"
      ]
     },
     "execution_count": 52,
     "metadata": {},
     "output_type": "execute_result"
    }
   ],
   "source": [
    "emp4._Employee3__project"
   ]
  },
  {
   "cell_type": "code",
   "execution_count": 55,
   "id": "61c5b133",
   "metadata": {},
   "outputs": [
    {
     "data": {
      "text/plain": [
       "45000"
      ]
     },
     "execution_count": 55,
     "metadata": {},
     "output_type": "execute_result"
    }
   ],
   "source": [
    "emp4._Employee3__salary"
   ]
  },
  {
   "cell_type": "code",
   "execution_count": 57,
   "id": "41d0cde7",
   "metadata": {},
   "outputs": [
    {
     "name": "stdout",
     "output_type": "stream",
     "text": [
      "Employee name :  Sagar\n",
      "Project name :  Data Analysis\n",
      "Salary name :  45000\n"
     ]
    }
   ],
   "source": [
    "emp4.display3()"
   ]
  },
  {
   "cell_type": "markdown",
   "id": "758c5432",
   "metadata": {},
   "source": [
    "### Over ridding private data variable"
   ]
  },
  {
   "cell_type": "code",
   "execution_count": 60,
   "id": "1dbe001f",
   "metadata": {},
   "outputs": [],
   "source": [
    "emp4._Employee3__salary=93094"
   ]
  },
  {
   "cell_type": "code",
   "execution_count": 61,
   "id": "24d92cc9",
   "metadata": {},
   "outputs": [
    {
     "name": "stdout",
     "output_type": "stream",
     "text": [
      "Employee name :  Sagar\n",
      "Project name :  Data Analysis\n",
      "Salary name :  93094\n"
     ]
    }
   ],
   "source": [
    "emp4.display3()"
   ]
  },
  {
   "cell_type": "code",
   "execution_count": null,
   "id": "16e04e4d",
   "metadata": {},
   "outputs": [],
   "source": []
  }
 ],
 "metadata": {
  "kernelspec": {
   "display_name": "Python 3 (ipykernel)",
   "language": "python",
   "name": "python3"
  },
  "language_info": {
   "codemirror_mode": {
    "name": "ipython",
    "version": 3
   },
   "file_extension": ".py",
   "mimetype": "text/x-python",
   "name": "python",
   "nbconvert_exporter": "python",
   "pygments_lexer": "ipython3",
   "version": "3.10.6"
  }
 },
 "nbformat": 4,
 "nbformat_minor": 5
}
