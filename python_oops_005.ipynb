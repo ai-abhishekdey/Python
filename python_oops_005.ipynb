{
 "cells": [
  {
   "cell_type": "markdown",
   "id": "f913123d",
   "metadata": {},
   "source": [
    "## Python OOPS: 005"
   ]
  },
  {
   "cell_type": "markdown",
   "id": "949ba8af",
   "metadata": {},
   "source": [
    "=====================================\n",
    "\n",
    "**Author: Abhishek Dey**\n",
    "\n",
    "====================================="
   ]
  },
  {
   "cell_type": "markdown",
   "id": "a4d5a9c1",
   "metadata": {},
   "source": [
    "## Contents:"
   ]
  },
  {
   "cell_type": "markdown",
   "id": "b017f0d8",
   "metadata": {},
   "source": [
    "* Getter and setter methods"
   ]
  },
  {
   "cell_type": "markdown",
   "id": "7d81268b",
   "metadata": {},
   "source": [
    "## Getters and Setters in python:"
   ]
  },
  {
   "cell_type": "markdown",
   "id": "ce38dad7",
   "metadata": {},
   "source": [
    "* The main purpose of using getters and setters in object-oriented programs is to ensure data encapsulation\n",
    "\n",
    "* Getter method allows a user to get the value of a private variable\n",
    "\n",
    "* Setter method allows a user to set the value of a private variable\n",
    "\n",
    "* It adds a layer for the end user to get or set variables without directly allowing to modify the private variable"
   ]
  },
  {
   "cell_type": "markdown",
   "id": "ea34cd5f",
   "metadata": {},
   "source": [
    "## Example of getter method:"
   ]
  },
  {
   "cell_type": "code",
   "execution_count": 8,
   "id": "bbc7f56e",
   "metadata": {},
   "outputs": [],
   "source": [
    "class bankdetails:\n",
    "    \n",
    "    def __init__(self,name,account_num,balance):\n",
    "    \n",
    "        self.__name=name\n",
    "        self.__account_num=account_num\n",
    "        self.__balance=balance\n",
    "        \n",
    "    def deposit(self,amount):\n",
    "        \n",
    "        self.__balance = self.__balance + amount\n",
    "        \n",
    "    def withdrawal(self,amount):\n",
    "        \n",
    "        # check if withdrawal amount is greater or less than withdrawal amount\n",
    "        \n",
    "        if amount < self.__balance:\n",
    "        \n",
    "            self.__balance = self.__balance - amount\n",
    "        \n",
    "        else:\n",
    "            \n",
    "            print(\"Insufficient Balance for withdrawal\")\n",
    "    \n",
    "    # getter method\n",
    "    \n",
    "    def get_account_details(self):\n",
    "        \n",
    "        print(\"Account Holder : \",self.__name)\n",
    "        print(\"Account Number : \",self.__account_num)\n",
    "        print(\"Balance amount : Rs. \",self.__balance)\n",
    "    "
   ]
  },
  {
   "cell_type": "code",
   "execution_count": 9,
   "id": "e622e08f",
   "metadata": {},
   "outputs": [],
   "source": [
    "acc=bankdetails(\"Rishi\",879437549,10000)"
   ]
  },
  {
   "cell_type": "code",
   "execution_count": 10,
   "id": "ddbe1560",
   "metadata": {},
   "outputs": [
    {
     "name": "stdout",
     "output_type": "stream",
     "text": [
      "Account Holder :  Rishi\n",
      "Account Number :  879437549\n",
      "Balance amount : Rs.  10000\n"
     ]
    }
   ],
   "source": [
    "acc.get_account_details()"
   ]
  },
  {
   "cell_type": "code",
   "execution_count": 11,
   "id": "9b911dae",
   "metadata": {},
   "outputs": [],
   "source": [
    "acc.deposit(5000)"
   ]
  },
  {
   "cell_type": "code",
   "execution_count": 12,
   "id": "739c8d8f",
   "metadata": {},
   "outputs": [
    {
     "name": "stdout",
     "output_type": "stream",
     "text": [
      "Account Holder :  Rishi\n",
      "Account Number :  879437549\n",
      "Balance amount : Rs.  15000\n"
     ]
    }
   ],
   "source": [
    "acc.get_account_details()"
   ]
  },
  {
   "cell_type": "code",
   "execution_count": 13,
   "id": "9e63c568",
   "metadata": {},
   "outputs": [
    {
     "name": "stdout",
     "output_type": "stream",
     "text": [
      "Insufficient Balance for withdrawal\n"
     ]
    }
   ],
   "source": [
    "acc.withdrawal(20000)"
   ]
  },
  {
   "cell_type": "code",
   "execution_count": 14,
   "id": "05fc1502",
   "metadata": {},
   "outputs": [
    {
     "name": "stdout",
     "output_type": "stream",
     "text": [
      "Account Holder :  Rishi\n",
      "Account Number :  879437549\n",
      "Balance amount : Rs.  15000\n"
     ]
    }
   ],
   "source": [
    "acc.get_account_details()"
   ]
  },
  {
   "cell_type": "code",
   "execution_count": 15,
   "id": "d9997246",
   "metadata": {},
   "outputs": [],
   "source": [
    "acc.withdrawal(8000)"
   ]
  },
  {
   "cell_type": "code",
   "execution_count": 16,
   "id": "190c1d87",
   "metadata": {},
   "outputs": [
    {
     "name": "stdout",
     "output_type": "stream",
     "text": [
      "Account Holder :  Rishi\n",
      "Account Number :  879437549\n",
      "Balance amount : Rs.  7000\n"
     ]
    }
   ],
   "source": [
    "acc.get_account_details()"
   ]
  },
  {
   "cell_type": "markdown",
   "id": "2e1a11ee",
   "metadata": {},
   "source": [
    "## Example of setter method:"
   ]
  },
  {
   "cell_type": "code",
   "execution_count": 18,
   "id": "019c3975",
   "metadata": {},
   "outputs": [],
   "source": [
    "class car:\n",
    "    \n",
    "    def __init__(self,maker,model,price):\n",
    "        \n",
    "        self.__maker=maker\n",
    "        self.__model=model\n",
    "        self.__price=price\n",
    "        \n",
    "    ## Setter method\n",
    "    \n",
    "    \n",
    "    def set_price(self,price):\n",
    "        \n",
    "        self.__price=price\n",
    "        \n",
    "        \n",
    "    ## Getter method\n",
    "    \n",
    "    \n",
    "    def get_details(self):\n",
    "        \n",
    "        print(\"Maker : \",self.__maker)\n",
    "        print(\"Model : \",self.__model)\n",
    "        print(\"Price : \",self.__price)"
   ]
  },
  {
   "cell_type": "code",
   "execution_count": 19,
   "id": "6f12199a",
   "metadata": {},
   "outputs": [],
   "source": [
    "car1 = car(\"Tata\", \"Tiago\", 750000)"
   ]
  },
  {
   "cell_type": "code",
   "execution_count": 20,
   "id": "72b9e48c",
   "metadata": {},
   "outputs": [
    {
     "name": "stdout",
     "output_type": "stream",
     "text": [
      "Maker :  Tata\n",
      "Model :  Tiago\n",
      "Price :  750000\n"
     ]
    }
   ],
   "source": [
    "car1.get_details()"
   ]
  },
  {
   "cell_type": "code",
   "execution_count": 21,
   "id": "bc65d9fa",
   "metadata": {},
   "outputs": [],
   "source": [
    "car1.set_price(800000)"
   ]
  },
  {
   "cell_type": "code",
   "execution_count": 22,
   "id": "69509d02",
   "metadata": {},
   "outputs": [
    {
     "name": "stdout",
     "output_type": "stream",
     "text": [
      "Maker :  Tata\n",
      "Model :  Tiago\n",
      "Price :  800000\n"
     ]
    }
   ],
   "source": [
    "car1.get_details()"
   ]
  },
  {
   "cell_type": "code",
   "execution_count": null,
   "id": "193f74d7",
   "metadata": {},
   "outputs": [],
   "source": []
  }
 ],
 "metadata": {
  "kernelspec": {
   "display_name": "Python 3 (ipykernel)",
   "language": "python",
   "name": "python3"
  },
  "language_info": {
   "codemirror_mode": {
    "name": "ipython",
    "version": 3
   },
   "file_extension": ".py",
   "mimetype": "text/x-python",
   "name": "python",
   "nbconvert_exporter": "python",
   "pygments_lexer": "ipython3",
   "version": "3.10.6"
  }
 },
 "nbformat": 4,
 "nbformat_minor": 5
}
