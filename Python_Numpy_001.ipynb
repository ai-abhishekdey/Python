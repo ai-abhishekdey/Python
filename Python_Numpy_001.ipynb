{
 "cells": [
  {
   "cell_type": "markdown",
   "id": "c6ccdaf3",
   "metadata": {},
   "source": [
    "## Python Numpy \n",
    "\n",
    "===============================\n",
    "\n",
    "Author: Abhishek Dey\n",
    "\n",
    "==============================="
   ]
  },
  {
   "cell_type": "markdown",
   "id": "33ad3bda",
   "metadata": {},
   "source": [
    "### Import numpy library"
   ]
  },
  {
   "cell_type": "code",
   "execution_count": 2,
   "id": "447b928f",
   "metadata": {},
   "outputs": [],
   "source": [
    "import numpy as np"
   ]
  },
  {
   "cell_type": "markdown",
   "id": "e4256c04",
   "metadata": {},
   "source": [
    "### Converting a list to numpy array"
   ]
  },
  {
   "cell_type": "code",
   "execution_count": 3,
   "id": "fbcdfd09",
   "metadata": {},
   "outputs": [],
   "source": [
    "l=[1,2,3,4,5,6]"
   ]
  },
  {
   "cell_type": "code",
   "execution_count": 5,
   "id": "65bc565d",
   "metadata": {},
   "outputs": [],
   "source": [
    "a=np.array(l)"
   ]
  },
  {
   "cell_type": "code",
   "execution_count": 6,
   "id": "9972e18e",
   "metadata": {},
   "outputs": [
    {
     "data": {
      "text/plain": [
       "array([1, 2, 3, 4, 5, 6])"
      ]
     },
     "execution_count": 6,
     "metadata": {},
     "output_type": "execute_result"
    }
   ],
   "source": [
    "a"
   ]
  },
  {
   "cell_type": "code",
   "execution_count": 7,
   "id": "3876da73",
   "metadata": {},
   "outputs": [
    {
     "data": {
      "text/plain": [
       "numpy.ndarray"
      ]
     },
     "execution_count": 7,
     "metadata": {},
     "output_type": "execute_result"
    }
   ],
   "source": [
    "type(a)"
   ]
  },
  {
   "cell_type": "markdown",
   "id": "9e4605cb",
   "metadata": {},
   "source": [
    "### Creating a one dimensional array"
   ]
  },
  {
   "cell_type": "code",
   "execution_count": 8,
   "id": "13715edd",
   "metadata": {},
   "outputs": [],
   "source": [
    "a1=np.array([[1,2,3]])"
   ]
  },
  {
   "cell_type": "code",
   "execution_count": 9,
   "id": "f06a6756",
   "metadata": {},
   "outputs": [
    {
     "data": {
      "text/plain": [
       "array([[1, 2, 3]])"
      ]
     },
     "execution_count": 9,
     "metadata": {},
     "output_type": "execute_result"
    }
   ],
   "source": [
    "a1"
   ]
  },
  {
   "cell_type": "markdown",
   "id": "341b44ba",
   "metadata": {},
   "source": [
    "### Creating a two dimensional array"
   ]
  },
  {
   "cell_type": "code",
   "execution_count": 10,
   "id": "2777307c",
   "metadata": {},
   "outputs": [],
   "source": [
    "a2=np.array([[1,2,3],[4,5,6]])"
   ]
  },
  {
   "cell_type": "code",
   "execution_count": 11,
   "id": "ede142b1",
   "metadata": {},
   "outputs": [
    {
     "data": {
      "text/plain": [
       "array([[1, 2, 3],\n",
       "       [4, 5, 6]])"
      ]
     },
     "execution_count": 11,
     "metadata": {},
     "output_type": "execute_result"
    }
   ],
   "source": [
    "a2"
   ]
  },
  {
   "cell_type": "markdown",
   "id": "634f0995",
   "metadata": {},
   "source": [
    "### Creating multi-dimensional arrays"
   ]
  },
  {
   "cell_type": "code",
   "execution_count": 12,
   "id": "9ba70761",
   "metadata": {},
   "outputs": [],
   "source": [
    "a3=np.array([[1,2,3],[4,5,6],[7,8,9]])"
   ]
  },
  {
   "cell_type": "code",
   "execution_count": 13,
   "id": "3136a9f5",
   "metadata": {},
   "outputs": [
    {
     "data": {
      "text/plain": [
       "array([[1, 2, 3],\n",
       "       [4, 5, 6],\n",
       "       [7, 8, 9]])"
      ]
     },
     "execution_count": 13,
     "metadata": {},
     "output_type": "execute_result"
    }
   ],
   "source": [
    "a3"
   ]
  },
  {
   "cell_type": "code",
   "execution_count": 15,
   "id": "28524939",
   "metadata": {},
   "outputs": [],
   "source": [
    "a4=np.array([[1,2,3],[4,5,6],[7,8,9],[10,11,12]])"
   ]
  },
  {
   "cell_type": "code",
   "execution_count": 16,
   "id": "de4fbca4",
   "metadata": {},
   "outputs": [
    {
     "data": {
      "text/plain": [
       "array([[ 1,  2,  3],\n",
       "       [ 4,  5,  6],\n",
       "       [ 7,  8,  9],\n",
       "       [10, 11, 12]])"
      ]
     },
     "execution_count": 16,
     "metadata": {},
     "output_type": "execute_result"
    }
   ],
   "source": [
    "a4"
   ]
  },
  {
   "cell_type": "markdown",
   "id": "132e959d",
   "metadata": {},
   "source": [
    "### Indexing in numpy array"
   ]
  },
  {
   "cell_type": "code",
   "execution_count": 51,
   "id": "0b43c300",
   "metadata": {},
   "outputs": [
    {
     "data": {
      "text/plain": [
       "array([1, 2, 3])"
      ]
     },
     "execution_count": 51,
     "metadata": {},
     "output_type": "execute_result"
    }
   ],
   "source": [
    "a4[0]"
   ]
  },
  {
   "cell_type": "code",
   "execution_count": 52,
   "id": "1c72fe30",
   "metadata": {},
   "outputs": [
    {
     "data": {
      "text/plain": [
       "array([4, 5, 6])"
      ]
     },
     "execution_count": 52,
     "metadata": {},
     "output_type": "execute_result"
    }
   ],
   "source": [
    "a4[1]"
   ]
  },
  {
   "cell_type": "code",
   "execution_count": 53,
   "id": "96949ab8",
   "metadata": {},
   "outputs": [
    {
     "data": {
      "text/plain": [
       "array([7, 8, 9])"
      ]
     },
     "execution_count": 53,
     "metadata": {},
     "output_type": "execute_result"
    }
   ],
   "source": [
    "a4[2]"
   ]
  },
  {
   "cell_type": "markdown",
   "id": "58e81551",
   "metadata": {},
   "source": [
    "### Slicing in numpy array"
   ]
  },
  {
   "cell_type": "code",
   "execution_count": 55,
   "id": "df4e058d",
   "metadata": {},
   "outputs": [
    {
     "data": {
      "text/plain": [
       "array([[1, 2, 3],\n",
       "       [4, 5, 6]])"
      ]
     },
     "execution_count": 55,
     "metadata": {},
     "output_type": "execute_result"
    }
   ],
   "source": [
    "a4[0:2]"
   ]
  },
  {
   "cell_type": "code",
   "execution_count": 56,
   "id": "0202c1d2",
   "metadata": {},
   "outputs": [
    {
     "data": {
      "text/plain": [
       "array([[1, 2, 3],\n",
       "       [4, 5, 6],\n",
       "       [7, 8, 9]])"
      ]
     },
     "execution_count": 56,
     "metadata": {},
     "output_type": "execute_result"
    }
   ],
   "source": [
    "a4[0:3]"
   ]
  },
  {
   "cell_type": "code",
   "execution_count": 57,
   "id": "6bcfd5a6",
   "metadata": {},
   "outputs": [
    {
     "data": {
      "text/plain": [
       "array([[1, 2, 3],\n",
       "       [7, 8, 9]])"
      ]
     },
     "execution_count": 57,
     "metadata": {},
     "output_type": "execute_result"
    }
   ],
   "source": [
    "a4[0:4:2]"
   ]
  },
  {
   "cell_type": "markdown",
   "id": "3ef1bccd",
   "metadata": {},
   "source": [
    "## Matrix Operations using numpy"
   ]
  },
  {
   "cell_type": "code",
   "execution_count": 27,
   "id": "40745c6e",
   "metadata": {},
   "outputs": [],
   "source": [
    "A = np.array([[1,2],[4,5]])"
   ]
  },
  {
   "cell_type": "code",
   "execution_count": 28,
   "id": "b3c129d7",
   "metadata": {},
   "outputs": [
    {
     "data": {
      "text/plain": [
       "array([[1, 2],\n",
       "       [4, 5]])"
      ]
     },
     "execution_count": 28,
     "metadata": {},
     "output_type": "execute_result"
    }
   ],
   "source": [
    "A"
   ]
  },
  {
   "cell_type": "markdown",
   "id": "2902285c",
   "metadata": {},
   "source": [
    "### Trace of a matrix (Sum of diagonal elements)"
   ]
  },
  {
   "cell_type": "code",
   "execution_count": 29,
   "id": "b7ec17de",
   "metadata": {},
   "outputs": [],
   "source": [
    "A_Trace = np.trace(A)"
   ]
  },
  {
   "cell_type": "code",
   "execution_count": 30,
   "id": "979e4fb9",
   "metadata": {},
   "outputs": [
    {
     "data": {
      "text/plain": [
       "6"
      ]
     },
     "execution_count": 30,
     "metadata": {},
     "output_type": "execute_result"
    }
   ],
   "source": [
    "A_Trace"
   ]
  },
  {
   "cell_type": "markdown",
   "id": "1ec62b2a",
   "metadata": {},
   "source": [
    "### Transpose of a matrix "
   ]
  },
  {
   "cell_type": "code",
   "execution_count": 31,
   "id": "05ef56d7",
   "metadata": {},
   "outputs": [],
   "source": [
    "A_Trans = np.transpose(A)"
   ]
  },
  {
   "cell_type": "code",
   "execution_count": 32,
   "id": "9d97cdd9",
   "metadata": {},
   "outputs": [
    {
     "data": {
      "text/plain": [
       "array([[1, 4],\n",
       "       [2, 5]])"
      ]
     },
     "execution_count": 32,
     "metadata": {},
     "output_type": "execute_result"
    }
   ],
   "source": [
    "A_Trans"
   ]
  },
  {
   "cell_type": "markdown",
   "id": "b2f849b3",
   "metadata": {},
   "source": [
    "### Rank of a matrix"
   ]
  },
  {
   "cell_type": "code",
   "execution_count": 33,
   "id": "6e46a639",
   "metadata": {},
   "outputs": [],
   "source": [
    "A_Rank = np.linalg.matrix_rank(A)"
   ]
  },
  {
   "cell_type": "code",
   "execution_count": 34,
   "id": "6c3ead0d",
   "metadata": {},
   "outputs": [
    {
     "data": {
      "text/plain": [
       "2"
      ]
     },
     "execution_count": 34,
     "metadata": {},
     "output_type": "execute_result"
    }
   ],
   "source": [
    "A_Rank"
   ]
  },
  {
   "cell_type": "markdown",
   "id": "b7674e50",
   "metadata": {},
   "source": [
    "### Matrix addition"
   ]
  },
  {
   "cell_type": "code",
   "execution_count": 35,
   "id": "b6fcce52",
   "metadata": {},
   "outputs": [],
   "source": [
    "A = np.array([[1,2],[3,4]])\n",
    "B = np.array([[5,6],[7,8]])"
   ]
  },
  {
   "cell_type": "code",
   "execution_count": 36,
   "id": "56697f94",
   "metadata": {},
   "outputs": [
    {
     "data": {
      "text/plain": [
       "array([[1, 2],\n",
       "       [3, 4]])"
      ]
     },
     "execution_count": 36,
     "metadata": {},
     "output_type": "execute_result"
    }
   ],
   "source": [
    "A"
   ]
  },
  {
   "cell_type": "code",
   "execution_count": 37,
   "id": "52e75e2d",
   "metadata": {},
   "outputs": [
    {
     "data": {
      "text/plain": [
       "array([[5, 6],\n",
       "       [7, 8]])"
      ]
     },
     "execution_count": 37,
     "metadata": {},
     "output_type": "execute_result"
    }
   ],
   "source": [
    "B"
   ]
  },
  {
   "cell_type": "code",
   "execution_count": 38,
   "id": "f7aff2d0",
   "metadata": {},
   "outputs": [],
   "source": [
    "Sum_AB = np.add(A,B)"
   ]
  },
  {
   "cell_type": "code",
   "execution_count": 39,
   "id": "b7c01906",
   "metadata": {},
   "outputs": [
    {
     "data": {
      "text/plain": [
       "array([[ 6,  8],\n",
       "       [10, 12]])"
      ]
     },
     "execution_count": 39,
     "metadata": {},
     "output_type": "execute_result"
    }
   ],
   "source": [
    "Sum_AB"
   ]
  },
  {
   "cell_type": "markdown",
   "id": "c6ba489a",
   "metadata": {},
   "source": [
    "### Matrix substraction"
   ]
  },
  {
   "cell_type": "code",
   "execution_count": 40,
   "id": "c140469b",
   "metadata": {},
   "outputs": [],
   "source": [
    "Subs_AB = np.subtract(A,B)"
   ]
  },
  {
   "cell_type": "code",
   "execution_count": 41,
   "id": "f108d7b8",
   "metadata": {},
   "outputs": [
    {
     "data": {
      "text/plain": [
       "array([[-4, -4],\n",
       "       [-4, -4]])"
      ]
     },
     "execution_count": 41,
     "metadata": {},
     "output_type": "execute_result"
    }
   ],
   "source": [
    "Subs_AB"
   ]
  },
  {
   "cell_type": "markdown",
   "id": "e760cf2a",
   "metadata": {},
   "source": [
    "### Matrix multiplication"
   ]
  },
  {
   "cell_type": "code",
   "execution_count": 42,
   "id": "7a137f8f",
   "metadata": {},
   "outputs": [],
   "source": [
    "Mul_AB = np.matmul(A,B)"
   ]
  },
  {
   "cell_type": "code",
   "execution_count": 43,
   "id": "d5da29c4",
   "metadata": {},
   "outputs": [
    {
     "data": {
      "text/plain": [
       "array([[19, 22],\n",
       "       [43, 50]])"
      ]
     },
     "execution_count": 43,
     "metadata": {},
     "output_type": "execute_result"
    }
   ],
   "source": [
    "Mul_AB"
   ]
  },
  {
   "cell_type": "code",
   "execution_count": null,
   "id": "bdfbc7e5",
   "metadata": {},
   "outputs": [],
   "source": []
  }
 ],
 "metadata": {
  "kernelspec": {
   "display_name": "Python 3 (ipykernel)",
   "language": "python",
   "name": "python3"
  },
  "language_info": {
   "codemirror_mode": {
    "name": "ipython",
    "version": 3
   },
   "file_extension": ".py",
   "mimetype": "text/x-python",
   "name": "python",
   "nbconvert_exporter": "python",
   "pygments_lexer": "ipython3",
   "version": "3.10.6"
  }
 },
 "nbformat": 4,
 "nbformat_minor": 5
}
