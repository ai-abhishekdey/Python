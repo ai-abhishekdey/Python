{
 "cells": [
  {
   "cell_type": "markdown",
   "id": "9d23b1bd",
   "metadata": {},
   "source": [
    "## Python Functions : 002"
   ]
  },
  {
   "cell_type": "markdown",
   "id": "a335fb0c",
   "metadata": {},
   "source": [
    "===================================\n",
    "\n",
    "**Author: Abhishek Dey**\n",
    "\n",
    "==================================="
   ]
  },
  {
   "cell_type": "markdown",
   "id": "7cb40f57",
   "metadata": {},
   "source": [
    "### Contents:\n",
    "\n",
    "* Generator function\n",
    "\n",
    "* Iterable and Iterator\n",
    "\n",
    "* Lambda function\n",
    "\n",
    "* Map function\n",
    "\n",
    "* Reduce function\n",
    "\n",
    "* Filter function\n"
   ]
  },
  {
   "cell_type": "markdown",
   "id": "81428b10",
   "metadata": {},
   "source": [
    "### Generator function:\n",
    "\n",
    "* A generator is a function that returns an **iterator** that produces a sequence of values when iterated over\n",
    "\n",
    "* It is useful when we need to store and return many numbers\n",
    "\n",
    "* Optimizes memory utilization\n",
    "\n",
    "* In that case it does not hold all the numbers in memory rather it yeids one number at at time\n",
    "\n",
    "* **yield** keyword is used to throw out the data\n",
    "\n",
    "* **return** keyword is not used in generator function\n",
    "\n",
    "* In other words, Normal functions use the **return** statement, while generator functions use the **yield** statement\n",
    "\n",
    "* Example is **range()** function"
   ]
  },
  {
   "cell_type": "code",
   "execution_count": 1,
   "id": "8e8c85a5",
   "metadata": {},
   "outputs": [
    {
     "data": {
      "text/plain": [
       "range(1, 10)"
      ]
     },
     "execution_count": 1,
     "metadata": {},
     "output_type": "execute_result"
    }
   ],
   "source": [
    "range(1,10)"
   ]
  },
  {
   "cell_type": "markdown",
   "id": "8a40f276",
   "metadata": {},
   "source": [
    "### Here range(1,10) is not displaying the numbers. We need to run a loop to display the number"
   ]
  },
  {
   "cell_type": "code",
   "execution_count": 4,
   "id": "e9c491d5",
   "metadata": {},
   "outputs": [
    {
     "data": {
      "text/plain": [
       "[1, 2, 3, 4, 5, 6, 7, 8, 9]"
      ]
     },
     "execution_count": 4,
     "metadata": {},
     "output_type": "execute_result"
    }
   ],
   "source": [
    "[i for i in range(1,10)]"
   ]
  },
  {
   "cell_type": "markdown",
   "id": "b7b1af12",
   "metadata": {},
   "source": [
    "### Fibonacci series example using generator: [0,1,1,2,3,5,8,13,21,34.....]"
   ]
  },
  {
   "cell_type": "code",
   "execution_count": 8,
   "id": "1a06b0a7",
   "metadata": {},
   "outputs": [],
   "source": [
    "def fibo_series(n):\n",
    "    \n",
    "    a=0\n",
    "    b=1\n",
    "    \n",
    "    for i in range(n):\n",
    "        \n",
    "        yield a\n",
    "        \n",
    "        a,b=b,a+b\n",
    "        "
   ]
  },
  {
   "cell_type": "code",
   "execution_count": 9,
   "id": "954bb2e9",
   "metadata": {},
   "outputs": [
    {
     "data": {
      "text/plain": [
       "<generator object fibo_series at 0x7f6398446340>"
      ]
     },
     "execution_count": 9,
     "metadata": {},
     "output_type": "execute_result"
    }
   ],
   "source": [
    "fibo_series(10)"
   ]
  },
  {
   "cell_type": "code",
   "execution_count": 10,
   "id": "345d63cf",
   "metadata": {},
   "outputs": [
    {
     "data": {
      "text/plain": [
       "[0, 1, 1, 2, 3, 5, 8, 13, 21, 34]"
      ]
     },
     "execution_count": 10,
     "metadata": {},
     "output_type": "execute_result"
    }
   ],
   "source": [
    "[i for i in fibo_series(10)]"
   ]
  },
  {
   "cell_type": "code",
   "execution_count": 11,
   "id": "556262a3",
   "metadata": {},
   "outputs": [
    {
     "data": {
      "text/plain": [
       "function"
      ]
     },
     "execution_count": 11,
     "metadata": {},
     "output_type": "execute_result"
    }
   ],
   "source": [
    "type(fibo_series)"
   ]
  },
  {
   "cell_type": "code",
   "execution_count": 13,
   "id": "64a81654",
   "metadata": {},
   "outputs": [],
   "source": [
    "fib = fibo_series(10)"
   ]
  },
  {
   "cell_type": "code",
   "execution_count": 14,
   "id": "7728b01d",
   "metadata": {},
   "outputs": [
    {
     "data": {
      "text/plain": [
       "generator"
      ]
     },
     "execution_count": 14,
     "metadata": {},
     "output_type": "execute_result"
    }
   ],
   "source": [
    "type(fib)"
   ]
  },
  {
   "cell_type": "markdown",
   "id": "c3cfd493",
   "metadata": {},
   "source": [
    "### Iterable and Iterator "
   ]
  },
  {
   "cell_type": "markdown",
   "id": "55bfc9b8",
   "metadata": {},
   "source": [
    "**Iterable:** Object that one can iterate over. It generates an **Iterator** when passed through **iter()** method "
   ]
  },
  {
   "cell_type": "markdown",
   "id": "fefe028c",
   "metadata": {},
   "source": [
    "**Iterator**: Object, which is used to iterate over an **iterable** object using the __next__() method."
   ]
  },
  {
   "cell_type": "markdown",
   "id": "7d8c68ab",
   "metadata": {},
   "source": [
    "### Example 1:"
   ]
  },
  {
   "cell_type": "code",
   "execution_count": 15,
   "id": "3ce45c28",
   "metadata": {},
   "outputs": [],
   "source": [
    "s=\"hello world\""
   ]
  },
  {
   "cell_type": "code",
   "execution_count": 16,
   "id": "850dc163",
   "metadata": {},
   "outputs": [
    {
     "ename": "TypeError",
     "evalue": "'str' object is not an iterator",
     "output_type": "error",
     "traceback": [
      "\u001b[0;31m---------------------------------------------------------------------------\u001b[0m",
      "\u001b[0;31mTypeError\u001b[0m                                 Traceback (most recent call last)",
      "Cell \u001b[0;32mIn[16], line 1\u001b[0m\n\u001b[0;32m----> 1\u001b[0m \u001b[38;5;28;43mnext\u001b[39;49m\u001b[43m(\u001b[49m\u001b[43ms\u001b[49m\u001b[43m)\u001b[49m\n",
      "\u001b[0;31mTypeError\u001b[0m: 'str' object is not an iterator"
     ]
    }
   ],
   "source": [
    "next(s)"
   ]
  },
  {
   "cell_type": "markdown",
   "id": "cbac4c51",
   "metadata": {},
   "source": [
    "### Since 'str' is not an iterator. lets convert it to iterable first"
   ]
  },
  {
   "cell_type": "code",
   "execution_count": 17,
   "id": "b8e2682c",
   "metadata": {},
   "outputs": [],
   "source": [
    "s1=iter(s)"
   ]
  },
  {
   "cell_type": "code",
   "execution_count": 18,
   "id": "a8535a7a",
   "metadata": {},
   "outputs": [
    {
     "data": {
      "text/plain": [
       "'h'"
      ]
     },
     "execution_count": 18,
     "metadata": {},
     "output_type": "execute_result"
    }
   ],
   "source": [
    "next(s1)"
   ]
  },
  {
   "cell_type": "code",
   "execution_count": 19,
   "id": "5e6885bb",
   "metadata": {},
   "outputs": [
    {
     "data": {
      "text/plain": [
       "'e'"
      ]
     },
     "execution_count": 19,
     "metadata": {},
     "output_type": "execute_result"
    }
   ],
   "source": [
    "next(s1)"
   ]
  },
  {
   "cell_type": "code",
   "execution_count": 21,
   "id": "89f38681",
   "metadata": {},
   "outputs": [
    {
     "data": {
      "text/plain": [
       "'l'"
      ]
     },
     "execution_count": 21,
     "metadata": {},
     "output_type": "execute_result"
    }
   ],
   "source": [
    "next(s1)"
   ]
  },
  {
   "cell_type": "code",
   "execution_count": 22,
   "id": "e07b41be",
   "metadata": {},
   "outputs": [
    {
     "data": {
      "text/plain": [
       "'l'"
      ]
     },
     "execution_count": 22,
     "metadata": {},
     "output_type": "execute_result"
    }
   ],
   "source": [
    "next(s1)"
   ]
  },
  {
   "cell_type": "code",
   "execution_count": 23,
   "id": "e9bf5c62",
   "metadata": {},
   "outputs": [
    {
     "data": {
      "text/plain": [
       "'o'"
      ]
     },
     "execution_count": 23,
     "metadata": {},
     "output_type": "execute_result"
    }
   ],
   "source": [
    "next(s1)"
   ]
  },
  {
   "cell_type": "markdown",
   "id": "8f9ca136",
   "metadata": {},
   "source": [
    "### Example 2:"
   ]
  },
  {
   "cell_type": "code",
   "execution_count": 24,
   "id": "1256020b",
   "metadata": {},
   "outputs": [],
   "source": [
    "l=[1,2,'a',True]"
   ]
  },
  {
   "cell_type": "code",
   "execution_count": 25,
   "id": "67bbbc7f",
   "metadata": {},
   "outputs": [
    {
     "ename": "TypeError",
     "evalue": "'list' object is not an iterator",
     "output_type": "error",
     "traceback": [
      "\u001b[0;31m---------------------------------------------------------------------------\u001b[0m",
      "\u001b[0;31mTypeError\u001b[0m                                 Traceback (most recent call last)",
      "Cell \u001b[0;32mIn[25], line 1\u001b[0m\n\u001b[0;32m----> 1\u001b[0m \u001b[38;5;28;43mnext\u001b[39;49m\u001b[43m(\u001b[49m\u001b[43ml\u001b[49m\u001b[43m)\u001b[49m\n",
      "\u001b[0;31mTypeError\u001b[0m: 'list' object is not an iterator"
     ]
    }
   ],
   "source": [
    "next(l)"
   ]
  },
  {
   "cell_type": "markdown",
   "id": "52aae9d3",
   "metadata": {},
   "source": [
    "### Since 'list' is not an iterator. lets convert it to iterable first"
   ]
  },
  {
   "cell_type": "code",
   "execution_count": 26,
   "id": "64666fee",
   "metadata": {},
   "outputs": [],
   "source": [
    "l1=iter(l)"
   ]
  },
  {
   "cell_type": "code",
   "execution_count": 27,
   "id": "ba03a2d5",
   "metadata": {},
   "outputs": [
    {
     "data": {
      "text/plain": [
       "1"
      ]
     },
     "execution_count": 27,
     "metadata": {},
     "output_type": "execute_result"
    }
   ],
   "source": [
    "next(l1)"
   ]
  },
  {
   "cell_type": "code",
   "execution_count": 28,
   "id": "441b2c9a",
   "metadata": {},
   "outputs": [
    {
     "data": {
      "text/plain": [
       "2"
      ]
     },
     "execution_count": 28,
     "metadata": {},
     "output_type": "execute_result"
    }
   ],
   "source": [
    "next(l1)"
   ]
  },
  {
   "cell_type": "code",
   "execution_count": 29,
   "id": "9afcedb1",
   "metadata": {},
   "outputs": [
    {
     "data": {
      "text/plain": [
       "'a'"
      ]
     },
     "execution_count": 29,
     "metadata": {},
     "output_type": "execute_result"
    }
   ],
   "source": [
    "next(l1)"
   ]
  },
  {
   "cell_type": "code",
   "execution_count": 30,
   "id": "c074b654",
   "metadata": {},
   "outputs": [
    {
     "data": {
      "text/plain": [
       "True"
      ]
     },
     "execution_count": 30,
     "metadata": {},
     "output_type": "execute_result"
    }
   ],
   "source": [
    "next(l1)"
   ]
  },
  {
   "cell_type": "markdown",
   "id": "21894c72",
   "metadata": {},
   "source": [
    "### Example 3:"
   ]
  },
  {
   "cell_type": "code",
   "execution_count": 31,
   "id": "dfb3c97e",
   "metadata": {},
   "outputs": [],
   "source": [
    "t=(1,2,'a',True)"
   ]
  },
  {
   "cell_type": "code",
   "execution_count": 32,
   "id": "758aaee3",
   "metadata": {},
   "outputs": [
    {
     "ename": "TypeError",
     "evalue": "'tuple' object is not an iterator",
     "output_type": "error",
     "traceback": [
      "\u001b[0;31m---------------------------------------------------------------------------\u001b[0m",
      "\u001b[0;31mTypeError\u001b[0m                                 Traceback (most recent call last)",
      "Cell \u001b[0;32mIn[32], line 1\u001b[0m\n\u001b[0;32m----> 1\u001b[0m \u001b[38;5;28;43mnext\u001b[39;49m\u001b[43m(\u001b[49m\u001b[43mt\u001b[49m\u001b[43m)\u001b[49m\n",
      "\u001b[0;31mTypeError\u001b[0m: 'tuple' object is not an iterator"
     ]
    }
   ],
   "source": [
    "next(t)"
   ]
  },
  {
   "cell_type": "markdown",
   "id": "e9fa0b9b",
   "metadata": {},
   "source": [
    "### Since 'list' is not an iterator. lets convert it to iterable first"
   ]
  },
  {
   "cell_type": "code",
   "execution_count": 33,
   "id": "ec686cc7",
   "metadata": {},
   "outputs": [],
   "source": [
    "t1=iter(t)"
   ]
  },
  {
   "cell_type": "code",
   "execution_count": 34,
   "id": "075c13cd",
   "metadata": {},
   "outputs": [
    {
     "data": {
      "text/plain": [
       "1"
      ]
     },
     "execution_count": 34,
     "metadata": {},
     "output_type": "execute_result"
    }
   ],
   "source": [
    "next(t1)"
   ]
  },
  {
   "cell_type": "code",
   "execution_count": 35,
   "id": "940ec5c5",
   "metadata": {},
   "outputs": [
    {
     "data": {
      "text/plain": [
       "2"
      ]
     },
     "execution_count": 35,
     "metadata": {},
     "output_type": "execute_result"
    }
   ],
   "source": [
    "next(t1)"
   ]
  },
  {
   "cell_type": "code",
   "execution_count": 36,
   "id": "c2cececf",
   "metadata": {},
   "outputs": [
    {
     "data": {
      "text/plain": [
       "'a'"
      ]
     },
     "execution_count": 36,
     "metadata": {},
     "output_type": "execute_result"
    }
   ],
   "source": [
    "next(t1)"
   ]
  },
  {
   "cell_type": "code",
   "execution_count": 37,
   "id": "e181eb5d",
   "metadata": {},
   "outputs": [
    {
     "data": {
      "text/plain": [
       "True"
      ]
     },
     "execution_count": 37,
     "metadata": {},
     "output_type": "execute_result"
    }
   ],
   "source": [
    "next(t1)"
   ]
  },
  {
   "cell_type": "markdown",
   "id": "efea9817",
   "metadata": {},
   "source": [
    "### Example 5:\n"
   ]
  },
  {
   "cell_type": "code",
   "execution_count": 38,
   "id": "cede7e55",
   "metadata": {},
   "outputs": [],
   "source": [
    "i=3562737"
   ]
  },
  {
   "cell_type": "code",
   "execution_count": 39,
   "id": "74b07ba2",
   "metadata": {},
   "outputs": [
    {
     "ename": "TypeError",
     "evalue": "'int' object is not an iterator",
     "output_type": "error",
     "traceback": [
      "\u001b[0;31m---------------------------------------------------------------------------\u001b[0m",
      "\u001b[0;31mTypeError\u001b[0m                                 Traceback (most recent call last)",
      "Cell \u001b[0;32mIn[39], line 1\u001b[0m\n\u001b[0;32m----> 1\u001b[0m \u001b[38;5;28;43mnext\u001b[39;49m\u001b[43m(\u001b[49m\u001b[43mi\u001b[49m\u001b[43m)\u001b[49m\n",
      "\u001b[0;31mTypeError\u001b[0m: 'int' object is not an iterator"
     ]
    }
   ],
   "source": [
    "next(i)"
   ]
  },
  {
   "cell_type": "code",
   "execution_count": 40,
   "id": "b3d8e7ef",
   "metadata": {},
   "outputs": [
    {
     "ename": "TypeError",
     "evalue": "'int' object is not iterable",
     "output_type": "error",
     "traceback": [
      "\u001b[0;31m---------------------------------------------------------------------------\u001b[0m",
      "\u001b[0;31mTypeError\u001b[0m                                 Traceback (most recent call last)",
      "Cell \u001b[0;32mIn[40], line 1\u001b[0m\n\u001b[0;32m----> 1\u001b[0m i1\u001b[38;5;241m=\u001b[39m\u001b[38;5;28;43miter\u001b[39;49m\u001b[43m(\u001b[49m\u001b[43mi\u001b[49m\u001b[43m)\u001b[49m\n",
      "\u001b[0;31mTypeError\u001b[0m: 'int' object is not iterable"
     ]
    }
   ],
   "source": [
    "i1=iter(i)"
   ]
  },
  {
   "cell_type": "markdown",
   "id": "c3f95ce7",
   "metadata": {},
   "source": [
    "### Example 6:"
   ]
  },
  {
   "cell_type": "code",
   "execution_count": 41,
   "id": "98f56f89",
   "metadata": {},
   "outputs": [],
   "source": [
    "f=233424.3423423"
   ]
  },
  {
   "cell_type": "code",
   "execution_count": 42,
   "id": "9d0fae61",
   "metadata": {},
   "outputs": [
    {
     "ename": "TypeError",
     "evalue": "'float' object is not an iterator",
     "output_type": "error",
     "traceback": [
      "\u001b[0;31m---------------------------------------------------------------------------\u001b[0m",
      "\u001b[0;31mTypeError\u001b[0m                                 Traceback (most recent call last)",
      "Cell \u001b[0;32mIn[42], line 1\u001b[0m\n\u001b[0;32m----> 1\u001b[0m \u001b[38;5;28;43mnext\u001b[39;49m\u001b[43m(\u001b[49m\u001b[43mf\u001b[49m\u001b[43m)\u001b[49m\n",
      "\u001b[0;31mTypeError\u001b[0m: 'float' object is not an iterator"
     ]
    }
   ],
   "source": [
    "next(f)"
   ]
  },
  {
   "cell_type": "code",
   "execution_count": 43,
   "id": "eb3c7f42",
   "metadata": {},
   "outputs": [
    {
     "ename": "TypeError",
     "evalue": "'float' object is not iterable",
     "output_type": "error",
     "traceback": [
      "\u001b[0;31m---------------------------------------------------------------------------\u001b[0m",
      "\u001b[0;31mTypeError\u001b[0m                                 Traceback (most recent call last)",
      "Cell \u001b[0;32mIn[43], line 1\u001b[0m\n\u001b[0;32m----> 1\u001b[0m f1\u001b[38;5;241m=\u001b[39m\u001b[38;5;28;43miter\u001b[39;49m\u001b[43m(\u001b[49m\u001b[43mf\u001b[49m\u001b[43m)\u001b[49m\n",
      "\u001b[0;31mTypeError\u001b[0m: 'float' object is not iterable"
     ]
    }
   ],
   "source": [
    "f1=iter(f)"
   ]
  },
  {
   "cell_type": "markdown",
   "id": "f2a3be11",
   "metadata": {},
   "source": [
    "## NOTE:\n",
    "\n",
    "* int,float are neither interable nor can be iterator\n",
    "\n",
    "* One can convert an iterable object to iterator"
   ]
  },
  {
   "cell_type": "markdown",
   "id": "5816687d",
   "metadata": {},
   "source": [
    "## Python : Lambda function:\n",
    "\n",
    "* AKA one liner function\n",
    "\n",
    "* AKA annonymous function since function name is not defined\n",
    "\n",
    "* **lamnda**  keyword is used \n",
    "\n",
    "* syntax:\n",
    "\n",
    "variable = **lambda** input:output_operation"
   ]
  },
  {
   "cell_type": "markdown",
   "id": "62ce7fc2",
   "metadata": {},
   "source": [
    "### Example 1: sum of two numbers using lambda function"
   ]
  },
  {
   "cell_type": "code",
   "execution_count": 44,
   "id": "ee0f7b86",
   "metadata": {},
   "outputs": [],
   "source": [
    "summ = lambda a,b : a+b"
   ]
  },
  {
   "cell_type": "code",
   "execution_count": 47,
   "id": "fb81affd",
   "metadata": {},
   "outputs": [
    {
     "data": {
      "text/plain": [
       "7"
      ]
     },
     "execution_count": 47,
     "metadata": {},
     "output_type": "execute_result"
    }
   ],
   "source": [
    "summ(2,5)"
   ]
  },
  {
   "cell_type": "markdown",
   "id": "d64cd946",
   "metadata": {},
   "source": [
    "### Example 2: convert temperature from celcius to farenheit using lambda function "
   ]
  },
  {
   "cell_type": "code",
   "execution_count": 50,
   "id": "9ed8d2ce",
   "metadata": {},
   "outputs": [],
   "source": [
    "convert_temp = lambda c: (9/5)*c + 32"
   ]
  },
  {
   "cell_type": "code",
   "execution_count": 51,
   "id": "6a9f32ac",
   "metadata": {},
   "outputs": [
    {
     "data": {
      "text/plain": [
       "89.6"
      ]
     },
     "execution_count": 51,
     "metadata": {},
     "output_type": "execute_result"
    }
   ],
   "source": [
    "convert_temp(32)"
   ]
  },
  {
   "cell_type": "markdown",
   "id": "e8d6ffba",
   "metadata": {},
   "source": [
    "### Example 3: finding max of two numbers"
   ]
  },
  {
   "cell_type": "code",
   "execution_count": 57,
   "id": "0ea67a6c",
   "metadata": {},
   "outputs": [],
   "source": [
    "find_max = lambda x,y : x if x>y else y"
   ]
  },
  {
   "cell_type": "code",
   "execution_count": 58,
   "id": "28a17e1d",
   "metadata": {},
   "outputs": [
    {
     "data": {
      "text/plain": [
       "43"
      ]
     },
     "execution_count": 58,
     "metadata": {},
     "output_type": "execute_result"
    }
   ],
   "source": [
    "find_max(43,23)"
   ]
  },
  {
   "cell_type": "code",
   "execution_count": 59,
   "id": "95867442",
   "metadata": {},
   "outputs": [
    {
     "data": {
      "text/plain": [
       "34"
      ]
     },
     "execution_count": 59,
     "metadata": {},
     "output_type": "execute_result"
    }
   ],
   "source": [
    "find_max(21,34)"
   ]
  },
  {
   "cell_type": "markdown",
   "id": "6934b30e",
   "metadata": {},
   "source": [
    "## Python : Map Function"
   ]
  },
  {
   "cell_type": "markdown",
   "id": "8b9be3ba",
   "metadata": {},
   "source": [
    "* **map()** function returns a map object(which is an iterator) of the results after applying the given function to each item of a given iterable (list, tuple etc.)\n",
    "\n",
    "* **Syntax: map(fun, iter)**\n",
    "\n",
    "* fun : It is a function to which map passes each element of given iterable.\n",
    "\n",
    "* iter : It is a iterable which is to be mapped."
   ]
  },
  {
   "cell_type": "markdown",
   "id": "e39e0480",
   "metadata": {},
   "source": [
    "### Example 1: map() using external function"
   ]
  },
  {
   "cell_type": "code",
   "execution_count": 63,
   "id": "922cbb6e",
   "metadata": {},
   "outputs": [],
   "source": [
    "### Function to square the number\n",
    "\n",
    "def func(x):\n",
    "    \n",
    "    return x**2\n",
    "\n",
    "\n",
    "### List containing some numbers which are required to be squared\n",
    "\n",
    "l1=[1,2,3,4,5]\n"
   ]
  },
  {
   "cell_type": "code",
   "execution_count": 64,
   "id": "9100c9da",
   "metadata": {},
   "outputs": [
    {
     "data": {
      "text/plain": [
       "<map at 0x7f639825e620>"
      ]
     },
     "execution_count": 64,
     "metadata": {},
     "output_type": "execute_result"
    }
   ],
   "source": [
    "map(func,l1)"
   ]
  },
  {
   "cell_type": "code",
   "execution_count": 65,
   "id": "3b1b01c6",
   "metadata": {},
   "outputs": [
    {
     "data": {
      "text/plain": [
       "[1, 4, 9, 16, 25]"
      ]
     },
     "execution_count": 65,
     "metadata": {},
     "output_type": "execute_result"
    }
   ],
   "source": [
    "list(map(func,l1))"
   ]
  },
  {
   "cell_type": "markdown",
   "id": "5f741d75",
   "metadata": {},
   "source": [
    "### Example 2: map() using lambda function"
   ]
  },
  {
   "cell_type": "code",
   "execution_count": 72,
   "id": "8cc2e4e8",
   "metadata": {},
   "outputs": [
    {
     "data": {
      "text/plain": [
       "[1, 4, 9, 16, 25]"
      ]
     },
     "execution_count": 72,
     "metadata": {},
     "output_type": "execute_result"
    }
   ],
   "source": [
    "list(map((lambda x:x**2),l1))"
   ]
  },
  {
   "cell_type": "markdown",
   "id": "8f05ab0a",
   "metadata": {},
   "source": [
    "### Example 3: Add numbers index wise from two lists"
   ]
  },
  {
   "cell_type": "code",
   "execution_count": 68,
   "id": "13938695",
   "metadata": {},
   "outputs": [],
   "source": [
    "l1=[1,2,3,4,5]\n",
    "l2=[6,7,8,9,10]"
   ]
  },
  {
   "cell_type": "code",
   "execution_count": 73,
   "id": "f311843b",
   "metadata": {},
   "outputs": [
    {
     "data": {
      "text/plain": [
       "[7, 9, 11, 13, 15]"
      ]
     },
     "execution_count": 73,
     "metadata": {},
     "output_type": "execute_result"
    }
   ],
   "source": [
    "list(map((lambda x,y:x+y),l1,l2))"
   ]
  },
  {
   "cell_type": "markdown",
   "id": "55ffa2d0",
   "metadata": {},
   "source": [
    "### Example 4: Using map() convert lowercase string to upper case"
   ]
  },
  {
   "cell_type": "code",
   "execution_count": 74,
   "id": "b7862178",
   "metadata": {},
   "outputs": [],
   "source": [
    "s=\"hello world\""
   ]
  },
  {
   "cell_type": "code",
   "execution_count": 77,
   "id": "f8db7572",
   "metadata": {},
   "outputs": [
    {
     "data": {
      "text/plain": [
       "['H', 'E', 'L', 'L', 'O', ' ', 'W', 'O', 'R', 'L', 'D']"
      ]
     },
     "execution_count": 77,
     "metadata": {},
     "output_type": "execute_result"
    }
   ],
   "source": [
    "list(map(lambda x:x.upper(),s))"
   ]
  },
  {
   "cell_type": "markdown",
   "id": "827addf0",
   "metadata": {},
   "source": [
    "## Python: Reduce function"
   ]
  },
  {
   "cell_type": "markdown",
   "id": "b13de07a",
   "metadata": {},
   "source": [
    "* **reduce()** function is defined in **functools** module.\n",
    "\n",
    "* reduce function is used to reduce the output to one element\n",
    "\n",
    "* **syntax: reduce(func,iter)**\n",
    "\n",
    "* Number of arguments inside a reduce function cannot be more than 2"
   ]
  },
  {
   "cell_type": "code",
   "execution_count": 80,
   "id": "d036611c",
   "metadata": {},
   "outputs": [],
   "source": [
    "from functools import reduce"
   ]
  },
  {
   "cell_type": "markdown",
   "id": "11deb03b",
   "metadata": {},
   "source": [
    "### Example 1:  Find sum of all the elements of a list using reduce()"
   ]
  },
  {
   "cell_type": "code",
   "execution_count": 95,
   "id": "09f09a7d",
   "metadata": {},
   "outputs": [],
   "source": [
    "l=[1,2,6,3,4,4,5]"
   ]
  },
  {
   "cell_type": "code",
   "execution_count": 96,
   "id": "8fb8a0d9",
   "metadata": {},
   "outputs": [
    {
     "data": {
      "text/plain": [
       "25"
      ]
     },
     "execution_count": 96,
     "metadata": {},
     "output_type": "execute_result"
    }
   ],
   "source": [
    "reduce(lambda x,y:x+y, l)"
   ]
  },
  {
   "cell_type": "markdown",
   "id": "9c6350b9",
   "metadata": {},
   "source": [
    "### Example 2: Find the max element in the list"
   ]
  },
  {
   "cell_type": "code",
   "execution_count": 97,
   "id": "184a74ec",
   "metadata": {},
   "outputs": [
    {
     "data": {
      "text/plain": [
       "6"
      ]
     },
     "execution_count": 97,
     "metadata": {},
     "output_type": "execute_result"
    }
   ],
   "source": [
    "reduce(lambda x,y : x if x>y else y ,l)"
   ]
  },
  {
   "cell_type": "markdown",
   "id": "71e9f2ea",
   "metadata": {},
   "source": [
    "### Example 3: Number of arguments inside a reduce function cannot be more than 2"
   ]
  },
  {
   "cell_type": "code",
   "execution_count": 106,
   "id": "85972b2d",
   "metadata": {},
   "outputs": [
    {
     "ename": "TypeError",
     "evalue": "<lambda>() missing 1 required positional argument: 'z'",
     "output_type": "error",
     "traceback": [
      "\u001b[0;31m---------------------------------------------------------------------------\u001b[0m",
      "\u001b[0;31mTypeError\u001b[0m                                 Traceback (most recent call last)",
      "Cell \u001b[0;32mIn[106], line 3\u001b[0m\n\u001b[1;32m      1\u001b[0m l\u001b[38;5;241m=\u001b[39m[\u001b[38;5;241m1\u001b[39m,\u001b[38;5;241m2\u001b[39m,\u001b[38;5;241m3\u001b[39m,\u001b[38;5;241m4\u001b[39m,\u001b[38;5;241m5\u001b[39m,\u001b[38;5;241m7\u001b[39m,\u001b[38;5;241m8\u001b[39m,\u001b[38;5;241m9\u001b[39m]\n\u001b[0;32m----> 3\u001b[0m \u001b[43mreduce\u001b[49m\u001b[43m(\u001b[49m\u001b[38;5;28;43;01mlambda\u001b[39;49;00m\u001b[43m \u001b[49m\u001b[43mx\u001b[49m\u001b[43m,\u001b[49m\u001b[43my\u001b[49m\u001b[43m,\u001b[49m\u001b[43mz\u001b[49m\u001b[43m:\u001b[49m\u001b[43mx\u001b[49m\u001b[38;5;241;43m+\u001b[39;49m\u001b[43my\u001b[49m\u001b[38;5;241;43m+\u001b[39;49m\u001b[43mz\u001b[49m\u001b[43m,\u001b[49m\u001b[43m \u001b[49m\u001b[43ml\u001b[49m\u001b[43m)\u001b[49m\n",
      "\u001b[0;31mTypeError\u001b[0m: <lambda>() missing 1 required positional argument: 'z'"
     ]
    }
   ],
   "source": [
    "l=[1,2,3,4,5,7,8,9]\n",
    "\n",
    "reduce(lambda x,y,z:x+y+z, l)"
   ]
  },
  {
   "cell_type": "markdown",
   "id": "62a3ce66",
   "metadata": {},
   "source": [
    "### Example 4: reduce() can operate even if list has only one element"
   ]
  },
  {
   "cell_type": "code",
   "execution_count": 104,
   "id": "a1a7d4c1",
   "metadata": {},
   "outputs": [],
   "source": [
    "l=[1]"
   ]
  },
  {
   "cell_type": "code",
   "execution_count": 105,
   "id": "0ba5f385",
   "metadata": {},
   "outputs": [
    {
     "data": {
      "text/plain": [
       "1"
      ]
     },
     "execution_count": 105,
     "metadata": {},
     "output_type": "execute_result"
    }
   ],
   "source": [
    "reduce(lambda x,y:x+y, l)"
   ]
  },
  {
   "cell_type": "markdown",
   "id": "796a39b9",
   "metadata": {},
   "source": [
    "## Python : Filter function"
   ]
  },
  {
   "cell_type": "markdown",
   "id": "32eb45c2",
   "metadata": {},
   "source": [
    "* filters out results from an iterable\n",
    "\n",
    "* **syntax: filter(func,iter)**"
   ]
  },
  {
   "cell_type": "markdown",
   "id": "bd3af1a7",
   "metadata": {},
   "source": [
    "### Example 1: filter out even numbers"
   ]
  },
  {
   "cell_type": "code",
   "execution_count": 107,
   "id": "92eeed13",
   "metadata": {},
   "outputs": [],
   "source": [
    "l=[1,2,42,3,5,3,54,65,34,75,4,89]"
   ]
  },
  {
   "cell_type": "code",
   "execution_count": 108,
   "id": "bf0d19f9",
   "metadata": {},
   "outputs": [
    {
     "data": {
      "text/plain": [
       "[2, 42, 54, 34, 4]"
      ]
     },
     "execution_count": 108,
     "metadata": {},
     "output_type": "execute_result"
    }
   ],
   "source": [
    "list(filter(lambda x:x%2==0,l))"
   ]
  },
  {
   "cell_type": "markdown",
   "id": "4747dfd6",
   "metadata": {},
   "source": [
    "### Example 2: filter out negative numbers"
   ]
  },
  {
   "cell_type": "code",
   "execution_count": 109,
   "id": "71324b6b",
   "metadata": {},
   "outputs": [],
   "source": [
    "l=[1,2,4,-3,5,3,-56,-87,-3]"
   ]
  },
  {
   "cell_type": "code",
   "execution_count": 110,
   "id": "f26c760a",
   "metadata": {},
   "outputs": [
    {
     "data": {
      "text/plain": [
       "[-3, -56, -87, -3]"
      ]
     },
     "execution_count": 110,
     "metadata": {},
     "output_type": "execute_result"
    }
   ],
   "source": [
    "list(filter(lambda x:x<0,l))"
   ]
  },
  {
   "cell_type": "code",
   "execution_count": null,
   "id": "e5c02d51",
   "metadata": {},
   "outputs": [],
   "source": []
  }
 ],
 "metadata": {
  "kernelspec": {
   "display_name": "Python 3 (ipykernel)",
   "language": "python",
   "name": "python3"
  },
  "language_info": {
   "codemirror_mode": {
    "name": "ipython",
    "version": 3
   },
   "file_extension": ".py",
   "mimetype": "text/x-python",
   "name": "python",
   "nbconvert_exporter": "python",
   "pygments_lexer": "ipython3",
   "version": "3.10.6"
  }
 },
 "nbformat": 4,
 "nbformat_minor": 5
}
