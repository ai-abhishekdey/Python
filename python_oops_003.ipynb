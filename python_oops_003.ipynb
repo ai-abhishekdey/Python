{
 "cells": [
  {
   "cell_type": "markdown",
   "id": "a46b2b74",
   "metadata": {},
   "source": [
    "## Python OOPS : 003"
   ]
  },
  {
   "cell_type": "markdown",
   "id": "959ae7c5",
   "metadata": {},
   "source": [
    "===================================\n",
    "\n",
    "**Author: Abhishek Dey**\n",
    "\n",
    "==================================="
   ]
  },
  {
   "cell_type": "markdown",
   "id": "f1afe409",
   "metadata": {},
   "source": [
    "### Contents:\n",
    "\n",
    "* Inheritence"
   ]
  },
  {
   "cell_type": "markdown",
   "id": "0ea5ea70",
   "metadata": {},
   "source": [
    "## Inheritence:"
   ]
  },
  {
   "cell_type": "markdown",
   "id": "793ac748",
   "metadata": {},
   "source": [
    "* Inherit properties from Base class by Derived class"
   ]
  },
  {
   "cell_type": "markdown",
   "id": "7028737c",
   "metadata": {},
   "source": [
    "## Types of Inheritence:"
   ]
  },
  {
   "cell_type": "markdown",
   "id": "54da3b0d",
   "metadata": {},
   "source": [
    "* Single inheritence\n",
    "\n",
    "* Multiple inheritence\n",
    "\n",
    "* Heirarchical inheritence\n",
    "\n",
    "* Multi-level inheritence\n",
    "\n",
    "* Hybrid inheritence\n"
   ]
  },
  {
   "cell_type": "markdown",
   "id": "364b3073",
   "metadata": {},
   "source": [
    "![images](images/inheritence.png)"
   ]
  },
  {
   "cell_type": "markdown",
   "id": "f7d0c2a1",
   "metadata": {},
   "source": [
    "### Single Inheritence"
   ]
  },
  {
   "cell_type": "markdown",
   "id": "25693e61",
   "metadata": {},
   "source": [
    "* single Base class\n",
    "\n",
    "* single Derived class"
   ]
  },
  {
   "cell_type": "markdown",
   "id": "6933b540",
   "metadata": {},
   "source": [
    "![single](images/single.png)"
   ]
  },
  {
   "cell_type": "code",
   "execution_count": 35,
   "id": "6b8cc581",
   "metadata": {},
   "outputs": [],
   "source": [
    "# Base class\n",
    "\n",
    "class parent:\n",
    "    \n",
    "    \n",
    "    def parent_properties(self):\n",
    "        print(\"Parents Properties: 1 house, 2 car, 2 land\")\n",
    "        \n",
    "# Derived class\n",
    "\n",
    "class child(parent):\n",
    "    \n",
    "    def child_properties(self):\n",
    "        print(\"Child Properties: 1 Flat, 1 Bike\")"
   ]
  },
  {
   "cell_type": "code",
   "execution_count": 36,
   "id": "b75186a1",
   "metadata": {},
   "outputs": [],
   "source": [
    "son=child()"
   ]
  },
  {
   "cell_type": "code",
   "execution_count": 37,
   "id": "eaa53243",
   "metadata": {},
   "outputs": [
    {
     "name": "stdout",
     "output_type": "stream",
     "text": [
      "Parents Properties: 1 house, 2 car, 2 land\n"
     ]
    }
   ],
   "source": [
    "son.parent_properties()"
   ]
  },
  {
   "cell_type": "code",
   "execution_count": 38,
   "id": "5bd155f4",
   "metadata": {},
   "outputs": [
    {
     "name": "stdout",
     "output_type": "stream",
     "text": [
      "Child Properties: 1 Flat, 1 Bike\n"
     ]
    }
   ],
   "source": [
    "son.child_properties()"
   ]
  },
  {
   "cell_type": "markdown",
   "id": "e9141674",
   "metadata": {},
   "source": [
    "### Multiple Inheritence:"
   ]
  },
  {
   "cell_type": "markdown",
   "id": "4e11ac23",
   "metadata": {},
   "source": [
    "* Multiple Base classes \n",
    "* Single Derived class"
   ]
  },
  {
   "cell_type": "markdown",
   "id": "9dd45e16",
   "metadata": {},
   "source": [
    "![multiple](images/multiple.png)"
   ]
  },
  {
   "cell_type": "code",
   "execution_count": 30,
   "id": "87feb48d",
   "metadata": {},
   "outputs": [],
   "source": [
    "# Base class 1\n",
    "\n",
    "class father:\n",
    "    \n",
    "    def father_prop(self):\n",
    "        print(\"Father properties : car, bunglow\")\n",
    "        \n",
    "# Base class 2\n",
    "\n",
    "\n",
    "class mother:\n",
    "    \n",
    "    def mother_prop(self):\n",
    "        print(\"Mother properties : jewelery, clothes\")\n",
    "        \n",
    "# Derived class 1\n",
    "\n",
    "class daughter(father,mother):\n",
    "    \n",
    "    def my_prop(self):\n",
    "        print(\"I don't have any property to my name\")\n"
   ]
  },
  {
   "cell_type": "code",
   "execution_count": 31,
   "id": "ebe0ed44",
   "metadata": {},
   "outputs": [],
   "source": [
    "kavita=daughter()"
   ]
  },
  {
   "cell_type": "code",
   "execution_count": 32,
   "id": "d6c008ee",
   "metadata": {},
   "outputs": [
    {
     "name": "stdout",
     "output_type": "stream",
     "text": [
      "I don't have any property to my name\n"
     ]
    }
   ],
   "source": [
    "kavita.my_prop()"
   ]
  },
  {
   "cell_type": "code",
   "execution_count": 33,
   "id": "80439078",
   "metadata": {},
   "outputs": [
    {
     "name": "stdout",
     "output_type": "stream",
     "text": [
      "Father properties : car, bunglow\n"
     ]
    }
   ],
   "source": [
    "kavita.father_prop()"
   ]
  },
  {
   "cell_type": "code",
   "execution_count": 34,
   "id": "62327a93",
   "metadata": {},
   "outputs": [
    {
     "name": "stdout",
     "output_type": "stream",
     "text": [
      "Mother properties : jewelery, clothes\n"
     ]
    }
   ],
   "source": [
    "kavita.mother_prop()"
   ]
  },
  {
   "cell_type": "markdown",
   "id": "fe3328c6",
   "metadata": {},
   "source": [
    "### Multilevel Inheritence:"
   ]
  },
  {
   "cell_type": "markdown",
   "id": "f54e533e",
   "metadata": {},
   "source": [
    "![multilevel](images/multilevel.png)"
   ]
  },
  {
   "cell_type": "code",
   "execution_count": 28,
   "id": "0076939d",
   "metadata": {},
   "outputs": [],
   "source": [
    "# Base class\n",
    "\n",
    "class grand_father:\n",
    "    \n",
    "    def grand_father_prop(self):\n",
    "        \n",
    "        print(\"Grand father properties: Bunglow, Agricultural land\")\n",
    "        \n",
    "# intermerdiatory class \n",
    "\n",
    "class father(grand_father):\n",
    "    \n",
    "    def father_prop(self):\n",
    "        \n",
    "        print(\"Father properties: 1 Flat, 1 car\")\n",
    "        \n",
    "class son(father):\n",
    "    \n",
    "    def son_prop(self):\n",
    "        \n",
    "        print(\"Son properties:  1 bike\")"
   ]
  },
  {
   "cell_type": "code",
   "execution_count": 22,
   "id": "239ccf51",
   "metadata": {},
   "outputs": [],
   "source": [
    "varun=son()\n",
    "david=father()"
   ]
  },
  {
   "cell_type": "code",
   "execution_count": 23,
   "id": "c86d2f89",
   "metadata": {},
   "outputs": [
    {
     "name": "stdout",
     "output_type": "stream",
     "text": [
      "Father properties: 1 Flat, 1 car\n"
     ]
    }
   ],
   "source": [
    "david.father_prop()"
   ]
  },
  {
   "cell_type": "code",
   "execution_count": 24,
   "id": "ffc06465",
   "metadata": {},
   "outputs": [
    {
     "name": "stdout",
     "output_type": "stream",
     "text": [
      "Grand father properties: Bunglow, Agricultural land\n"
     ]
    }
   ],
   "source": [
    "david.grand_father_prop()"
   ]
  },
  {
   "cell_type": "code",
   "execution_count": 25,
   "id": "1751f900",
   "metadata": {},
   "outputs": [
    {
     "name": "stdout",
     "output_type": "stream",
     "text": [
      "Son properties:  1 bike\n"
     ]
    }
   ],
   "source": [
    "varun.son_prop()"
   ]
  },
  {
   "cell_type": "code",
   "execution_count": 26,
   "id": "9d1f6f49",
   "metadata": {},
   "outputs": [
    {
     "name": "stdout",
     "output_type": "stream",
     "text": [
      "Father properties: 1 Flat, 1 car\n"
     ]
    }
   ],
   "source": [
    "varun.father_prop()"
   ]
  },
  {
   "cell_type": "code",
   "execution_count": 27,
   "id": "b6195b1a",
   "metadata": {},
   "outputs": [
    {
     "name": "stdout",
     "output_type": "stream",
     "text": [
      "Grand father properties: Bunglow, Agricultural land\n"
     ]
    }
   ],
   "source": [
    "varun.grand_father_prop()"
   ]
  },
  {
   "cell_type": "markdown",
   "id": "6805270d",
   "metadata": {},
   "source": [
    "### Hierarchical Inheritence"
   ]
  },
  {
   "cell_type": "markdown",
   "id": "c4bba8f9",
   "metadata": {},
   "source": [
    "* One Base class\n",
    "* Multiple Derived class"
   ]
  },
  {
   "cell_type": "markdown",
   "id": "63758d26",
   "metadata": {},
   "source": [
    "![heirarchical](images/heirarchical.png)"
   ]
  },
  {
   "cell_type": "code",
   "execution_count": 40,
   "id": "ccaaefd5",
   "metadata": {},
   "outputs": [],
   "source": [
    "# Base class\n",
    "\n",
    "class parent:\n",
    "\n",
    "    def parent_prop(self):\n",
    "        print(\"Parents prop : Bunglow, Land, Car\")\n",
    "        \n",
    "# Derived class1\n",
    "\n",
    "class son(parent):\n",
    "    \n",
    "    def son_prop(self):\n",
    "        print(\"Son prop : Bike\")\n",
    "\n",
    "# Derived class2\n",
    "\n",
    "class daughter(parent):\n",
    "    \n",
    "    def daughter_prop(self):\n",
    "        print(\"Daughter prop : jewellery \")"
   ]
  },
  {
   "cell_type": "code",
   "execution_count": 41,
   "id": "1600d115",
   "metadata": {},
   "outputs": [],
   "source": [
    "rahul=son()\n",
    "kavita=daughter()"
   ]
  },
  {
   "cell_type": "code",
   "execution_count": 42,
   "id": "cb0589f9",
   "metadata": {},
   "outputs": [
    {
     "name": "stdout",
     "output_type": "stream",
     "text": [
      "Parents prop : Bunglow, Land, Car\n"
     ]
    }
   ],
   "source": [
    "rahul.parent_prop()"
   ]
  },
  {
   "cell_type": "code",
   "execution_count": 44,
   "id": "9f8f345c",
   "metadata": {},
   "outputs": [
    {
     "name": "stdout",
     "output_type": "stream",
     "text": [
      "Parents prop : Bunglow, Land, Car\n"
     ]
    }
   ],
   "source": [
    "kavita.parent_prop()"
   ]
  },
  {
   "cell_type": "markdown",
   "id": "e616d5c4",
   "metadata": {},
   "source": [
    "### Hybrid Inheritence:"
   ]
  },
  {
   "cell_type": "markdown",
   "id": "a2ebafa2",
   "metadata": {},
   "source": [
    "![hybrid](images/hybrid.png)"
   ]
  },
  {
   "cell_type": "code",
   "execution_count": 50,
   "id": "6a8b182b",
   "metadata": {},
   "outputs": [],
   "source": [
    "class F:\n",
    "    \n",
    "    def funct_F(self):\n",
    "        print(\"This is class F\")\n",
    "        \n",
    "class G:\n",
    "    \n",
    "    def funct_G(self):\n",
    "        print(\"This is class G\")\n",
    "        \n",
    "\n",
    "class E(F,G):\n",
    "    \n",
    "    def funct_E(self):\n",
    "        print(\"This is class E - inheriting properties from classes F and G\")\n",
    "        \n",
    "class B(F):\n",
    "    \n",
    "    def funct_B(self):\n",
    "        print(\"This is class B - inheriting properties from class F\")\n",
    "        \n",
    "class A(B):\n",
    "\n",
    "    def funct_A(self):\n",
    "        print(\"This is class A - inheriting properties from class B\")\n",
    "        \n",
    "class C(B):\n",
    "\n",
    "    def funct_C(self):\n",
    "        print(\"This is class C - inheriting properties from class B\")"
   ]
  },
  {
   "cell_type": "code",
   "execution_count": 51,
   "id": "f071d232",
   "metadata": {},
   "outputs": [],
   "source": [
    "obj=C()"
   ]
  },
  {
   "cell_type": "code",
   "execution_count": 54,
   "id": "c53b35db",
   "metadata": {},
   "outputs": [
    {
     "name": "stdout",
     "output_type": "stream",
     "text": [
      "This is class C - inheriting properties from class B\n"
     ]
    }
   ],
   "source": [
    "obj.funct_C()"
   ]
  },
  {
   "cell_type": "code",
   "execution_count": 55,
   "id": "c8b9ca55",
   "metadata": {},
   "outputs": [
    {
     "name": "stdout",
     "output_type": "stream",
     "text": [
      "This is class B - inheriting properties from class F\n"
     ]
    }
   ],
   "source": [
    "obj.funct_B()"
   ]
  },
  {
   "cell_type": "code",
   "execution_count": 56,
   "id": "1368ddb1",
   "metadata": {},
   "outputs": [
    {
     "name": "stdout",
     "output_type": "stream",
     "text": [
      "This is class F\n"
     ]
    }
   ],
   "source": [
    "obj.funct_F()"
   ]
  },
  {
   "cell_type": "code",
   "execution_count": null,
   "id": "ce05e957",
   "metadata": {},
   "outputs": [],
   "source": []
  }
 ],
 "metadata": {
  "kernelspec": {
   "display_name": "Python 3 (ipykernel)",
   "language": "python",
   "name": "python3"
  },
  "language_info": {
   "codemirror_mode": {
    "name": "ipython",
    "version": 3
   },
   "file_extension": ".py",
   "mimetype": "text/x-python",
   "name": "python",
   "nbconvert_exporter": "python",
   "pygments_lexer": "ipython3",
   "version": "3.10.6"
  }
 },
 "nbformat": 4,
 "nbformat_minor": 5
}
