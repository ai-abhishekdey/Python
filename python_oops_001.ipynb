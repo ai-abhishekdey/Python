{
 "cells": [
  {
   "cell_type": "markdown",
   "id": "7ea71be5",
   "metadata": {},
   "source": [
    "## Python OOPS: 001"
   ]
  },
  {
   "cell_type": "markdown",
   "id": "5e13a4c2",
   "metadata": {},
   "source": [
    "OOPS: Object Oriented Programming System\n",
    "\n",
    "\n",
    "==================================\n",
    "\n",
    "**Author: Abhishek Dey**\n",
    "\n",
    "=================================="
   ]
  },
  {
   "cell_type": "markdown",
   "id": "ca20b395",
   "metadata": {},
   "source": [
    "## Contents:"
   ]
  },
  {
   "cell_type": "markdown",
   "id": "766aa7d0",
   "metadata": {},
   "source": [
    "* class and object\n",
    "\n",
    "* use of **self**\n",
    "\n",
    "* use of __init__()"
   ]
  },
  {
   "cell_type": "markdown",
   "id": "e4d3dc82",
   "metadata": {},
   "source": [
    "### Python: Class and Object"
   ]
  },
  {
   "cell_type": "markdown",
   "id": "f7f9b899",
   "metadata": {},
   "source": [
    "* Class creates a user-defined data structure, which holds its own data members and member functions, which can be accessed and used by creating an instance of that class called object.\n",
    "\n",
    "* A class is like a blueprint or prototype for an object.\n",
    "\n",
    "* **class** keyword is used to define a class\n",
    "\n",
    "* Class is used to bring stucture in the code  \n",
    "\n",
    "* Reusability of code can be achieved"
   ]
  },
  {
   "cell_type": "markdown",
   "id": "9abb87f5",
   "metadata": {},
   "source": [
    "### Example 1:"
   ]
  },
  {
   "cell_type": "code",
   "execution_count": 6,
   "id": "61a9f985",
   "metadata": {},
   "outputs": [],
   "source": [
    "class test1:\n",
    "    \n",
    "    def func1(self):\n",
    "        \n",
    "        print(\"hello world\")"
   ]
  },
  {
   "cell_type": "code",
   "execution_count": 8,
   "id": "499e8ee2",
   "metadata": {},
   "outputs": [],
   "source": [
    "obj=test1()"
   ]
  },
  {
   "cell_type": "code",
   "execution_count": 9,
   "id": "76424645",
   "metadata": {},
   "outputs": [
    {
     "name": "stdout",
     "output_type": "stream",
     "text": [
      "hello world\n"
     ]
    }
   ],
   "source": [
    "obj.func1()"
   ]
  },
  {
   "cell_type": "markdown",
   "id": "8a4fd638",
   "metadata": {},
   "source": [
    "### Note: \n",
    "\n",
    "Whenever we write a function inside a class, we start the function with **'self'** as first parameter. The self parameter is a reference / pointer to the current instance of the class, and is used to access variables that belongs to the class.\n",
    "\n",
    "It does not have to be named self , you can call it whatever you like, but it has to be the first parameter of any function in the class:"
   ]
  },
  {
   "cell_type": "markdown",
   "id": "7f23f0c0",
   "metadata": {},
   "source": [
    "### Example 2: instead of **self**, we will use something else"
   ]
  },
  {
   "cell_type": "code",
   "execution_count": 14,
   "id": "e853365c",
   "metadata": {},
   "outputs": [],
   "source": [
    "class test2:\n",
    "    \n",
    "    def func2(abhishek):\n",
    "        print(\"hello world\")"
   ]
  },
  {
   "cell_type": "code",
   "execution_count": 15,
   "id": "a3c29237",
   "metadata": {},
   "outputs": [],
   "source": [
    "obj = test2()"
   ]
  },
  {
   "cell_type": "code",
   "execution_count": 16,
   "id": "e89ff510",
   "metadata": {},
   "outputs": [
    {
     "name": "stdout",
     "output_type": "stream",
     "text": [
      "hello world\n"
     ]
    }
   ],
   "source": [
    "obj.func2()"
   ]
  },
  {
   "cell_type": "markdown",
   "id": "2ef0c3d8",
   "metadata": {},
   "source": [
    "### Example 3: add two numbers"
   ]
  },
  {
   "cell_type": "code",
   "execution_count": 17,
   "id": "559242ed",
   "metadata": {},
   "outputs": [],
   "source": [
    "class test3:\n",
    "    \n",
    "    def func3(self,a,b):\n",
    "        \n",
    "        c=a+b\n",
    "        \n",
    "        return c"
   ]
  },
  {
   "cell_type": "code",
   "execution_count": 18,
   "id": "6957aa25",
   "metadata": {},
   "outputs": [],
   "source": [
    "obj = test3()"
   ]
  },
  {
   "cell_type": "code",
   "execution_count": 19,
   "id": "3b6fdafd",
   "metadata": {},
   "outputs": [
    {
     "data": {
      "text/plain": [
       "6"
      ]
     },
     "execution_count": 19,
     "metadata": {},
     "output_type": "execute_result"
    }
   ],
   "source": [
    "obj.func3(4,2)"
   ]
  },
  {
   "cell_type": "markdown",
   "id": "7d09ab6d",
   "metadata": {},
   "source": [
    "### __init__() constructor:"
   ]
  },
  {
   "cell_type": "markdown",
   "id": "e7e03e8a",
   "metadata": {},
   "source": [
    "* init() is a constructor that is used to initialize or assign values to the data members of the class when an object of the class is created\n",
    "\n",
    "* In other words init() is used to pass input data to the class as parameter"
   ]
  },
  {
   "cell_type": "markdown",
   "id": "08910976",
   "metadata": {},
   "source": [
    "### Example 4: "
   ]
  },
  {
   "cell_type": "code",
   "execution_count": 27,
   "id": "2f116e0a",
   "metadata": {},
   "outputs": [],
   "source": [
    "class student:\n",
    "    \n",
    "    def __init__(self,name,roll_no,grade):\n",
    "        self.name=name\n",
    "        self.roll_no=roll_no\n",
    "        self.grade=grade\n",
    "        \n",
    "    def display_details(self):\n",
    "        \n",
    "        print(\"Name : \",self.name)\n",
    "        print(\"Roll No : \",self.roll_no)\n",
    "        print(\"Grade : \",self.grade)"
   ]
  },
  {
   "cell_type": "code",
   "execution_count": 28,
   "id": "8ac713c5",
   "metadata": {},
   "outputs": [],
   "source": [
    "stud = student(\"Rohan\",102,'A')"
   ]
  },
  {
   "cell_type": "code",
   "execution_count": 29,
   "id": "aca0a146",
   "metadata": {},
   "outputs": [
    {
     "data": {
      "text/plain": [
       "102"
      ]
     },
     "execution_count": 29,
     "metadata": {},
     "output_type": "execute_result"
    }
   ],
   "source": [
    "stud.roll_no"
   ]
  },
  {
   "cell_type": "code",
   "execution_count": 30,
   "id": "01aedfca",
   "metadata": {},
   "outputs": [
    {
     "data": {
      "text/plain": [
       "'Rohan'"
      ]
     },
     "execution_count": 30,
     "metadata": {},
     "output_type": "execute_result"
    }
   ],
   "source": [
    "stud.name"
   ]
  },
  {
   "cell_type": "code",
   "execution_count": 31,
   "id": "07bb30a1",
   "metadata": {},
   "outputs": [
    {
     "data": {
      "text/plain": [
       "'A'"
      ]
     },
     "execution_count": 31,
     "metadata": {},
     "output_type": "execute_result"
    }
   ],
   "source": [
    "stud.grade"
   ]
  },
  {
   "cell_type": "code",
   "execution_count": 32,
   "id": "6a7c5a9e",
   "metadata": {},
   "outputs": [
    {
     "name": "stdout",
     "output_type": "stream",
     "text": [
      "Name :  Rohan\n",
      "Roll No :  102\n",
      "Grade :  A\n"
     ]
    }
   ],
   "source": [
    "stud.display_details()"
   ]
  },
  {
   "cell_type": "code",
   "execution_count": null,
   "id": "67e068f9",
   "metadata": {},
   "outputs": [],
   "source": []
  }
 ],
 "metadata": {
  "kernelspec": {
   "display_name": "Python 3 (ipykernel)",
   "language": "python",
   "name": "python3"
  },
  "language_info": {
   "codemirror_mode": {
    "name": "ipython",
    "version": 3
   },
   "file_extension": ".py",
   "mimetype": "text/x-python",
   "name": "python",
   "nbconvert_exporter": "python",
   "pygments_lexer": "ipython3",
   "version": "3.10.6"
  }
 },
 "nbformat": 4,
 "nbformat_minor": 5
}
