{
 "cells": [
  {
   "cell_type": "markdown",
   "id": "0197c2e6",
   "metadata": {},
   "source": [
    "## Python Assignment: 006"
   ]
  },
  {
   "cell_type": "markdown",
   "id": "1e719324",
   "metadata": {},
   "source": [
    "================================\n",
    "\n",
    "**Author: Abhishek Dey**\n",
    "\n",
    "================================"
   ]
  },
  {
   "cell_type": "markdown",
   "id": "80081fc2",
   "metadata": {},
   "source": [
    "**1. Explain Class and Object with respect to object oriented programming. Give a suitable example**"
   ]
  },
  {
   "cell_type": "markdown",
   "id": "1a996bfe",
   "metadata": {},
   "source": [
    "Ans:\n",
    "\n",
    "Class creates a user-defined data structure, which holds its own data members and member functions, which can be accessed and used by creating an instance of that class called object. A class is like a blueprint or prototype for an object.\n",
    "\n"
   ]
  },
  {
   "cell_type": "markdown",
   "id": "f3c82f64",
   "metadata": {},
   "source": [
    "### Example:"
   ]
  },
  {
   "cell_type": "code",
   "execution_count": 2,
   "id": "cfb939d2",
   "metadata": {},
   "outputs": [],
   "source": [
    "class person:\n",
    "    \n",
    "    def __init__(self,name,age,height,weight):\n",
    "        self.name=name\n",
    "        self.age=age\n",
    "        self.height=height\n",
    "        self.weight=weight\n",
    "        \n",
    "    def details(self):\n",
    "        print(\"Name of the person : \",self.name)\n",
    "        print(\"Age of the person : \",self.age)\n",
    "        print(\"Height of the person : \",self.height)\n",
    "        print(\"Weight of the person : \",self.weight)"
   ]
  },
  {
   "cell_type": "code",
   "execution_count": 3,
   "id": "c1d9fc31",
   "metadata": {},
   "outputs": [],
   "source": [
    "bob = person(\"Bob\", 45, \"180 cm\", \"78 kg\")"
   ]
  },
  {
   "cell_type": "code",
   "execution_count": 4,
   "id": "6bbe8d0c",
   "metadata": {},
   "outputs": [
    {
     "data": {
      "text/plain": [
       "'78 kg'"
      ]
     },
     "execution_count": 4,
     "metadata": {},
     "output_type": "execute_result"
    }
   ],
   "source": [
    "bob.weight"
   ]
  },
  {
   "cell_type": "code",
   "execution_count": 5,
   "id": "19e6dd37",
   "metadata": {},
   "outputs": [
    {
     "data": {
      "text/plain": [
       "'180 cm'"
      ]
     },
     "execution_count": 5,
     "metadata": {},
     "output_type": "execute_result"
    }
   ],
   "source": [
    "bob.height"
   ]
  },
  {
   "cell_type": "code",
   "execution_count": 7,
   "id": "6c9300e7",
   "metadata": {},
   "outputs": [
    {
     "name": "stdout",
     "output_type": "stream",
     "text": [
      "Name of the person :  Bob\n",
      "Age of the person :  45\n",
      "Height of the person :  180 cm\n",
      "Weight of the person :  78 kg\n"
     ]
    }
   ],
   "source": [
    "bob.details()"
   ]
  },
  {
   "cell_type": "markdown",
   "id": "2c7152e2",
   "metadata": {},
   "source": [
    "**2. Name the four pillers of oops**"
   ]
  },
  {
   "cell_type": "markdown",
   "id": "9ca99a90",
   "metadata": {},
   "source": [
    "Ans:\n",
    "\n",
    "The four pillars of oops are:\n",
    "\n",
    "1. Inheritence\n",
    "\n",
    "2. Polymorphism\n",
    "\n",
    "3. Encapsulation\n",
    "\n",
    "4. Abstraction\n"
   ]
  },
  {
   "cell_type": "markdown",
   "id": "410d034b",
   "metadata": {},
   "source": [
    "**3. Explain why __init__() function is used. Give a suitable example**"
   ]
  },
  {
   "cell_type": "markdown",
   "id": "3b4f528c",
   "metadata": {},
   "source": [
    "* __init__() is a constructor that is used to initialize or assign values to the data members of the class when an object of the class is created"
   ]
  },
  {
   "cell_type": "code",
   "execution_count": 9,
   "id": "7ef194f9",
   "metadata": {},
   "outputs": [],
   "source": [
    "class student:\n",
    "    \n",
    "    def __init__(self,name,roll_no,grade):\n",
    "        self.name=name\n",
    "        self.roll_no=roll_no\n",
    "        self.grade=grade\n",
    "        \n",
    "        \n",
    "    def details(self):\n",
    "        print(\"Name of the student : \",self.name)\n",
    "        print(\"Roll No. of the student : \",self.roll_no)\n",
    "        print(\"Grade obtained : \",self.grade)\n",
    "        "
   ]
  },
  {
   "cell_type": "code",
   "execution_count": 11,
   "id": "c1f00f88",
   "metadata": {},
   "outputs": [],
   "source": [
    "rocky=student(\"Rocky\",102,'A')"
   ]
  },
  {
   "cell_type": "code",
   "execution_count": 13,
   "id": "347031cb",
   "metadata": {},
   "outputs": [],
   "source": [
    "bicky=student(\"Bicky\",123,'B')"
   ]
  },
  {
   "cell_type": "code",
   "execution_count": 14,
   "id": "dd853d32",
   "metadata": {},
   "outputs": [
    {
     "data": {
      "text/plain": [
       "'A'"
      ]
     },
     "execution_count": 14,
     "metadata": {},
     "output_type": "execute_result"
    }
   ],
   "source": [
    "rocky.grade"
   ]
  },
  {
   "cell_type": "code",
   "execution_count": 15,
   "id": "935635f1",
   "metadata": {},
   "outputs": [
    {
     "data": {
      "text/plain": [
       "123"
      ]
     },
     "execution_count": 15,
     "metadata": {},
     "output_type": "execute_result"
    }
   ],
   "source": [
    "bicky.roll_no"
   ]
  },
  {
   "cell_type": "code",
   "execution_count": 17,
   "id": "ab334d4d",
   "metadata": {},
   "outputs": [
    {
     "name": "stdout",
     "output_type": "stream",
     "text": [
      "Name of the student :  Bicky\n",
      "Roll No. of the student :  123\n",
      "Grade obtained :  B\n"
     ]
    }
   ],
   "source": [
    "bicky.details()"
   ]
  },
  {
   "cell_type": "markdown",
   "id": "d3db567f",
   "metadata": {},
   "source": [
    "**4. Why self is used in oops?**"
   ]
  },
  {
   "cell_type": "markdown",
   "id": "059447b2",
   "metadata": {},
   "source": [
    "Ans:\n",
    "\n",
    "The self parameter is a reference to the current instance of the class, and is used to access variables that belongs to the class.\n",
    "\n",
    "It does not have to be named self , you can call it whatever you like, but it has to be the first parameter of any function in the class:"
   ]
  },
  {
   "cell_type": "markdown",
   "id": "22751c05",
   "metadata": {},
   "source": [
    "### Example"
   ]
  },
  {
   "cell_type": "code",
   "execution_count": 28,
   "id": "7edb1066",
   "metadata": {},
   "outputs": [],
   "source": [
    "class test:\n",
    "    \n",
    "    def sqr(self,num):\n",
    "    \n",
    "        return num**2"
   ]
  },
  {
   "cell_type": "code",
   "execution_count": 23,
   "id": "7ebe4789",
   "metadata": {},
   "outputs": [],
   "source": [
    "a=test()"
   ]
  },
  {
   "cell_type": "code",
   "execution_count": 24,
   "id": "252db7f0",
   "metadata": {},
   "outputs": [
    {
     "data": {
      "text/plain": [
       "4"
      ]
     },
     "execution_count": 24,
     "metadata": {},
     "output_type": "execute_result"
    }
   ],
   "source": [
    "a.sqr(2)"
   ]
  },
  {
   "cell_type": "code",
   "execution_count": 25,
   "id": "6253a077",
   "metadata": {},
   "outputs": [],
   "source": [
    "class test1:\n",
    "    \n",
    "    def sqr(abhishek,num):\n",
    "    \n",
    "        return num**2"
   ]
  },
  {
   "cell_type": "code",
   "execution_count": 26,
   "id": "a6e6cdfe",
   "metadata": {},
   "outputs": [],
   "source": [
    "b=test1()"
   ]
  },
  {
   "cell_type": "code",
   "execution_count": 27,
   "id": "6d2b93dd",
   "metadata": {},
   "outputs": [
    {
     "data": {
      "text/plain": [
       "25"
      ]
     },
     "execution_count": 27,
     "metadata": {},
     "output_type": "execute_result"
    }
   ],
   "source": [
    "b.sqr(5)"
   ]
  },
  {
   "cell_type": "markdown",
   "id": "751554fa",
   "metadata": {},
   "source": [
    "**5. What is inheritance? Give an example for each type of inheritance.**"
   ]
  },
  {
   "cell_type": "markdown",
   "id": "88a557ba",
   "metadata": {},
   "source": [
    "Inheritance is an important aspect of the object-oriented paradigm. Inheritance provides code reusability to the program because we can use an existing class to create a new class instead of creating it from scratch. In inheritance, the child class acquires the properties and can access all the data members and functions defined in the parent class. A child class can also provide its specific implementation to the functions of the parent class. "
   ]
  },
  {
   "cell_type": "markdown",
   "id": "3269cdc4",
   "metadata": {},
   "source": [
    "#### Types of inheritence"
   ]
  },
  {
   "cell_type": "markdown",
   "id": "c986c19f",
   "metadata": {},
   "source": [
    "* Single Inheritence\n",
    "\n",
    "* Multiple Inheritance\n",
    "\n",
    "* Multilevel Inheritance\n",
    "\n",
    "* Hierarchical Inheritance\n",
    "\n",
    "* Hybrid Inheritance"
   ]
  },
  {
   "cell_type": "markdown",
   "id": "c9c2ef00",
   "metadata": {},
   "source": [
    "### Example of single inheritence:"
   ]
  },
  {
   "cell_type": "markdown",
   "id": "871f8063",
   "metadata": {},
   "source": [
    "Single inheritance enables a derived class to inherit properties from a single parent class"
   ]
  },
  {
   "cell_type": "code",
   "execution_count": 30,
   "id": "856ec881",
   "metadata": {},
   "outputs": [],
   "source": [
    "\n",
    "# Base class\n",
    "\n",
    "class parent:\n",
    "    \n",
    "    def func1(self):\n",
    "        print(\"I am parent\")\n",
    "\n",
    "# Derived class\n",
    "\n",
    "class child(parent):\n",
    "    \n",
    "    def func2(self):\n",
    "        print(\"I am child\")"
   ]
  },
  {
   "cell_type": "code",
   "execution_count": 31,
   "id": "650a7090",
   "metadata": {},
   "outputs": [],
   "source": [
    "obj = child()"
   ]
  },
  {
   "cell_type": "code",
   "execution_count": 33,
   "id": "eddc50ce",
   "metadata": {},
   "outputs": [
    {
     "name": "stdout",
     "output_type": "stream",
     "text": [
      "I am parent\n"
     ]
    }
   ],
   "source": [
    "obj.func1()"
   ]
  },
  {
   "cell_type": "code",
   "execution_count": 34,
   "id": "63ac99b7",
   "metadata": {},
   "outputs": [
    {
     "name": "stdout",
     "output_type": "stream",
     "text": [
      "I am child\n"
     ]
    }
   ],
   "source": [
    "obj.func2()"
   ]
  },
  {
   "cell_type": "markdown",
   "id": "e47d56bf",
   "metadata": {},
   "source": [
    "### Example of Multiple inheritence:"
   ]
  },
  {
   "cell_type": "markdown",
   "id": "2d694dee",
   "metadata": {},
   "source": [
    "When a class can be derived from more than one base class this type of inheritance is called multiple inheritances."
   ]
  },
  {
   "cell_type": "code",
   "execution_count": 35,
   "id": "ea94370e",
   "metadata": {},
   "outputs": [],
   "source": [
    "# Base class 1:\n",
    "\n",
    "class father:\n",
    "    \n",
    "    def func1(self):\n",
    "        print(\"I am father\")\n",
    "        \n",
    "# Base class 2:\n",
    "\n",
    "class mother:\n",
    "    \n",
    "    def func2(self):\n",
    "        print(\"I am mother\")\n",
    "        \n",
    "# Derived class\n",
    "\n",
    "class child(father,mother):\n",
    "    \n",
    "    def func3(self):\n",
    "        print(\"I am child\")"
   ]
  },
  {
   "cell_type": "code",
   "execution_count": 36,
   "id": "80d9fa28",
   "metadata": {},
   "outputs": [],
   "source": [
    "obj = child()"
   ]
  },
  {
   "cell_type": "code",
   "execution_count": 38,
   "id": "0127e818",
   "metadata": {},
   "outputs": [
    {
     "name": "stdout",
     "output_type": "stream",
     "text": [
      "I am father\n"
     ]
    }
   ],
   "source": [
    "obj.func1()"
   ]
  },
  {
   "cell_type": "code",
   "execution_count": 40,
   "id": "88350eb2",
   "metadata": {},
   "outputs": [
    {
     "name": "stdout",
     "output_type": "stream",
     "text": [
      "I am mother\n"
     ]
    }
   ],
   "source": [
    "obj.func2()"
   ]
  },
  {
   "cell_type": "code",
   "execution_count": 41,
   "id": "b802e444",
   "metadata": {},
   "outputs": [
    {
     "name": "stdout",
     "output_type": "stream",
     "text": [
      "I am child\n"
     ]
    }
   ],
   "source": [
    "obj.func3()"
   ]
  },
  {
   "cell_type": "markdown",
   "id": "7e2b8dc5",
   "metadata": {},
   "source": [
    "### Example of Multi-level inheritence"
   ]
  },
  {
   "cell_type": "markdown",
   "id": "ba659fcb",
   "metadata": {},
   "source": [
    "In multilevel inheritance, features of the base class and the derived class are further inherited into the new derived class."
   ]
  },
  {
   "cell_type": "code",
   "execution_count": 43,
   "id": "21a35283",
   "metadata": {},
   "outputs": [],
   "source": [
    "\n",
    "class grandfather:\n",
    "    \n",
    "    def func1(self):\n",
    "        print(\"I am grand father\")\n",
    "        \n",
    "\n",
    "class father(grandfather):\n",
    "    \n",
    "    def func2(self):\n",
    "        print(\"I am father\")\n",
    "        \n",
    "\n",
    "class son(father):\n",
    "    \n",
    "    def func3(self):\n",
    "        print(\"I am son\")\n"
   ]
  },
  {
   "cell_type": "code",
   "execution_count": 45,
   "id": "ddc6db85",
   "metadata": {},
   "outputs": [],
   "source": [
    "obj1=father()\n",
    "obj2=son()"
   ]
  },
  {
   "cell_type": "code",
   "execution_count": 46,
   "id": "38e96c40",
   "metadata": {},
   "outputs": [
    {
     "name": "stdout",
     "output_type": "stream",
     "text": [
      "I am grand father\n"
     ]
    }
   ],
   "source": [
    "obj1.func1()"
   ]
  },
  {
   "cell_type": "code",
   "execution_count": 47,
   "id": "9a5b4a68",
   "metadata": {},
   "outputs": [
    {
     "name": "stdout",
     "output_type": "stream",
     "text": [
      "I am father\n"
     ]
    }
   ],
   "source": [
    "obj1.func2()"
   ]
  },
  {
   "cell_type": "code",
   "execution_count": 48,
   "id": "5c63badd",
   "metadata": {},
   "outputs": [
    {
     "name": "stdout",
     "output_type": "stream",
     "text": [
      "I am father\n"
     ]
    }
   ],
   "source": [
    "obj2.func2()"
   ]
  },
  {
   "cell_type": "code",
   "execution_count": 49,
   "id": "a23a9093",
   "metadata": {},
   "outputs": [
    {
     "name": "stdout",
     "output_type": "stream",
     "text": [
      "I am son\n"
     ]
    }
   ],
   "source": [
    "obj2.func3()"
   ]
  },
  {
   "cell_type": "markdown",
   "id": "7a1bb100",
   "metadata": {},
   "source": [
    "### Example of Heirarchical inheritence\n"
   ]
  },
  {
   "cell_type": "markdown",
   "id": "859de259",
   "metadata": {},
   "source": [
    "When more than one derived class are created from a single base this type of inheritance is called hierarchical inheritance."
   ]
  },
  {
   "cell_type": "code",
   "execution_count": 53,
   "id": "2d1e9fad",
   "metadata": {},
   "outputs": [],
   "source": [
    "# Base class\n",
    "\n",
    "class parent():\n",
    "    \n",
    "    def func1(self):\n",
    "        print(\"We are parent\")\n",
    "        \n",
    "# Derived class 1\n",
    "\n",
    "class son(parent):\n",
    "    \n",
    "    def func2(self):\n",
    "        print(\"I am son\")\n",
    "        \n",
    "# Derived class 2\n",
    "\n",
    "class daughter(parent):\n",
    "    \n",
    "    def func3(self):\n",
    "        print(\"I am daughter\")"
   ]
  },
  {
   "cell_type": "code",
   "execution_count": 54,
   "id": "0b2b2a2c",
   "metadata": {},
   "outputs": [],
   "source": [
    "obj_son=son()\n",
    "obj_dau=daughter()"
   ]
  },
  {
   "cell_type": "code",
   "execution_count": 55,
   "id": "754295d4",
   "metadata": {},
   "outputs": [
    {
     "name": "stdout",
     "output_type": "stream",
     "text": [
      "We are parent\n"
     ]
    }
   ],
   "source": [
    "obj_son.func1()"
   ]
  },
  {
   "cell_type": "code",
   "execution_count": 56,
   "id": "2e0f5def",
   "metadata": {},
   "outputs": [
    {
     "name": "stdout",
     "output_type": "stream",
     "text": [
      "We are parent\n"
     ]
    }
   ],
   "source": [
    "obj_dau.func1()"
   ]
  },
  {
   "cell_type": "markdown",
   "id": "18b89526",
   "metadata": {},
   "source": [
    "### Example of  Hybrid inheritence"
   ]
  },
  {
   "cell_type": "markdown",
   "id": "ba0f4ad6",
   "metadata": {},
   "source": [
    "Inheritance consisting of multiple types of inheritance is called hybrid inheritance."
   ]
  },
  {
   "cell_type": "code",
   "execution_count": 57,
   "id": "1db34e52",
   "metadata": {},
   "outputs": [],
   "source": [
    "class grandfather:\n",
    "    \n",
    "    def func1(self):\n",
    "        print(\"I am grand father\")\n",
    "        \n",
    "\n",
    "class father(grandfather):\n",
    "    \n",
    "    def func2(self):\n",
    "        print(\"I am father\")\n",
    "        \n",
    "\n",
    "class son(father):\n",
    "    \n",
    "    def func3(self):\n",
    "        print(\"I am son\")\n",
    "        \n",
    "\n",
    "class daughter(father):\n",
    "    \n",
    "    def func4(self):\n",
    "        print(\"I am daughter\")\n",
    "        \n",
    "class grandson(son):\n",
    "    \n",
    "    def func5(self):\n",
    "        print(\"I am grand son\")"
   ]
  },
  {
   "cell_type": "code",
   "execution_count": 58,
   "id": "3ec0e1fa",
   "metadata": {},
   "outputs": [],
   "source": [
    "obj=grandson()"
   ]
  },
  {
   "cell_type": "code",
   "execution_count": 60,
   "id": "f96fff96",
   "metadata": {},
   "outputs": [
    {
     "name": "stdout",
     "output_type": "stream",
     "text": [
      "I am grand father\n"
     ]
    }
   ],
   "source": [
    "obj.func1()"
   ]
  },
  {
   "cell_type": "code",
   "execution_count": 61,
   "id": "6a7510b8",
   "metadata": {},
   "outputs": [
    {
     "name": "stdout",
     "output_type": "stream",
     "text": [
      "I am father\n"
     ]
    }
   ],
   "source": [
    "obj.func2()"
   ]
  },
  {
   "cell_type": "code",
   "execution_count": 62,
   "id": "3d90846e",
   "metadata": {},
   "outputs": [
    {
     "name": "stdout",
     "output_type": "stream",
     "text": [
      "I am son\n"
     ]
    }
   ],
   "source": [
    "obj.func3()"
   ]
  },
  {
   "cell_type": "code",
   "execution_count": null,
   "id": "d8efc8a1",
   "metadata": {},
   "outputs": [],
   "source": []
  }
 ],
 "metadata": {
  "kernelspec": {
   "display_name": "Python 3 (ipykernel)",
   "language": "python",
   "name": "python3"
  },
  "language_info": {
   "codemirror_mode": {
    "name": "ipython",
    "version": 3
   },
   "file_extension": ".py",
   "mimetype": "text/x-python",
   "name": "python",
   "nbconvert_exporter": "python",
   "pygments_lexer": "ipython3",
   "version": "3.10.6"
  }
 },
 "nbformat": 4,
 "nbformat_minor": 5
}
