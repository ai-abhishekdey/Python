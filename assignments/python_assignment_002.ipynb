{
 "cells": [
  {
   "cell_type": "markdown",
   "id": "59b0d853",
   "metadata": {},
   "source": [
    "## Python Assignment - 2"
   ]
  },
  {
   "cell_type": "markdown",
   "id": "abae4501",
   "metadata": {},
   "source": [
    "=====================================\n",
    "\n",
    "**Author: Abhishek Dey**\n",
    "\n",
    "====================================="
   ]
  },
  {
   "cell_type": "markdown",
   "id": "4b23dc6b",
   "metadata": {},
   "source": [
    "**1. Write a program to accept percentage from the user and display the grade according to the following criteria:**"
   ]
  },
  {
   "cell_type": "markdown",
   "id": "b5f778e1",
   "metadata": {},
   "source": [
    "| Marks | Grade  |\n",
    "|:-----:|:------:|\n",
    "| >90   | A      |\n",
    "|>80 and <=90 | B |\n",
    "|>=60 and <=80 | C |\n",
    "|below 60 | D |"
   ]
  },
  {
   "cell_type": "code",
   "execution_count": 8,
   "id": "634e91c9",
   "metadata": {},
   "outputs": [
    {
     "name": "stdout",
     "output_type": "stream",
     "text": [
      "Enter your marks: 86\n",
      "You have obtained Grade : B\n"
     ]
    }
   ],
   "source": [
    "marks=float(input(\"Enter your marks: \"))\n",
    "\n",
    "if marks>90:\n",
    "    \n",
    "    print(\"You have obtained Grade : A\")\n",
    "\n",
    "elif marks>80 and marks<=90:\n",
    "    \n",
    "    print(\"You have obtained Grade : B\")\n",
    "    \n",
    "elif marks>=60 and marks<=80:\n",
    "    \n",
    "    print(\"You have obtained Grade : C\")\n",
    "    \n",
    "else:\n",
    "    \n",
    "    print(\"You have obtained Grade : D\")\n",
    "\n"
   ]
  },
  {
   "cell_type": "markdown",
   "id": "f7aa4614",
   "metadata": {},
   "source": [
    "**2. Write a program to accept the cost price of a bike and display the road tax to be paid based on the following criteria**\n",
    "\n",
    "|**Tax**  | **Cost price(in Rs)** |\n",
    "|:-------:|:---------------------:|\n",
    "|15 %     | > 100000 |\n",
    "|10 %     | > 50000 and <=100000 |\n",
    "|5 %      | <= 50000|"
   ]
  },
  {
   "cell_type": "code",
   "execution_count": 7,
   "id": "089e506f",
   "metadata": {},
   "outputs": [
    {
     "name": "stdout",
     "output_type": "stream",
     "text": [
      "Enter the cost price of the bike : 98000\n",
      "Tax percentage : 10 %\n",
      "Tax amount : Rs. 9800.0\n"
     ]
    }
   ],
   "source": [
    "price=float(input(\"Enter the cost price of the bike : \"))\n",
    "\n",
    "if price>100000:\n",
    "    \n",
    "    tax_pc=15\n",
    "    \n",
    "elif price>50000 and price<=100000:\n",
    "    \n",
    "    tax_pc=10\n",
    "    \n",
    "elif price<=50000:\n",
    "    \n",
    "    tax_pc=5\n",
    "\n",
    "    \n",
    "tax_amount = (tax_pc/100)*price\n",
    "\n",
    "print(\"Tax percentage : {} %\".format(str(tax_pc)))\n",
    "\n",
    "print(\"Tax amount : Rs. {}\".format(str(tax_amount)))\n",
    "    "
   ]
  },
  {
   "cell_type": "markdown",
   "id": "8c6df51a",
   "metadata": {},
   "source": [
    "**3. Accept any city from the user and display the monuments of that city**\n",
    "\n",
    "|**City**   | **Monument**|\n",
    "|:---------:|:-----------:|\n",
    "|Delhi      | Red Fort    |\n",
    "|Agra       | Taj Mahal   |\n",
    "|Jaipur     | Jal Mahal   |"
   ]
  },
  {
   "cell_type": "code",
   "execution_count": 17,
   "id": "dcf718ad",
   "metadata": {},
   "outputs": [
    {
     "name": "stdout",
     "output_type": "stream",
     "text": [
      "Enter City : Agra\n",
      "Monument : Taj Mahal\n"
     ]
    }
   ],
   "source": [
    "city=input(\"Enter City : \")\n",
    "\n",
    "if city==\"Delhi\" or city==\"DELHI\" or city==\"delhi\":\n",
    "    \n",
    "    print(\"Monument : Red Fort\")\n",
    "\n",
    "elif city==\"Agra\" or city==\"AGRA\" or city==\"agra\":\n",
    "    \n",
    "    print(\"Monument : Taj Mahal\")\n",
    "    \n",
    "elif city==\"Jaipur\" or city==\"JAIPUR\" or city==\"jaipur\":\n",
    "    \n",
    "    print(\"Monument : Jal Mahal\")\n",
    "\n",
    "else:\n",
    "    \n",
    "    print(\"Sorry ! Monument not found ! Please try again !!\")\n",
    "    "
   ]
  },
  {
   "cell_type": "markdown",
   "id": "2211924d",
   "metadata": {},
   "source": [
    "**4: Check how many times a given number can be divided by 3 before it is less than or equal to 10**"
   ]
  },
  {
   "cell_type": "code",
   "execution_count": 16,
   "id": "b36e92c2",
   "metadata": {},
   "outputs": [
    {
     "name": "stdout",
     "output_type": "stream",
     "text": [
      "Enter number : 108\n",
      "No. of times the given number can be divided by 3 before it is less than or equal to 10 :  3\n"
     ]
    }
   ],
   "source": [
    "num=int(input(\"Enter number : \"))\n",
    "\n",
    "count=0\n",
    "\n",
    "if num<=10:\n",
    "    \n",
    "    print(\"Please enter a number greater than 10\")\n",
    "\n",
    "elif num%3!=0:\n",
    "    \n",
    "    print(\"The number you have entered is not divisible by 3\")\n",
    "\n",
    "\n",
    "else:\n",
    "\n",
    "    while num>10:\n",
    "    \n",
    "    \n",
    "        if num%3==0:\n",
    "        \n",
    "            count+=1\n",
    "    \n",
    "            num=num/3\n",
    "    \n",
    "    print(\"No. of times the given number can be divided by 3 before it is less than or equal to 10 : \",str(count))"
   ]
  },
  {
   "cell_type": "markdown",
   "id": "b0264df7",
   "metadata": {},
   "source": [
    "**5. Why and when to use while loop in python. Give a detailed description with example**"
   ]
  },
  {
   "cell_type": "markdown",
   "id": "8d6f73a4",
   "metadata": {},
   "source": [
    "Python while loop is used to run a block of code until a certain condition is met.\n",
    "\n",
    "The syntax of while loop is:\n",
    "\n",
    "\n",
    "while condition:\n",
    "\n",
    "    # body of while loop\n",
    "    \n",
    " \n",
    "* A while loop evaluates the condition\n",
    "\n",
    "* If the condition evaluates to True, the code inside the while loop is executed.\n",
    "\n",
    "* condition is evaluated again.\n",
    "\n",
    "* This process continues until the condition is False.\n",
    "\n",
    "* When condition evaluates to False, the loop stops."
   ]
  },
  {
   "cell_type": "markdown",
   "id": "ecc79bb5",
   "metadata": {},
   "source": [
    "#### Example of while loop"
   ]
  },
  {
   "cell_type": "code",
   "execution_count": 20,
   "id": "c5a26e24",
   "metadata": {},
   "outputs": [
    {
     "name": "stdout",
     "output_type": "stream",
     "text": [
      "0\n",
      "2\n",
      "4\n",
      "6\n",
      "8\n"
     ]
    }
   ],
   "source": [
    "i=0\n",
    "\n",
    "while i<10:\n",
    "    \n",
    "    print(i)\n",
    "    \n",
    "    i=i+2"
   ]
  },
  {
   "cell_type": "markdown",
   "id": "fcd64297",
   "metadata": {},
   "source": [
    "**6: Use nested while loop to print 3 different pattern**"
   ]
  },
  {
   "cell_type": "code",
   "execution_count": 51,
   "id": "1ced3793",
   "metadata": {},
   "outputs": [
    {
     "name": "stdout",
     "output_type": "stream",
     "text": [
      "$ \n",
      "* * \n",
      "& & & \n"
     ]
    }
   ],
   "source": [
    "num_of_patterns=3\n",
    "\n",
    "list_symbols=['*', '#', '$', '@', '^', '&']\n",
    "\n",
    "import random\n",
    "\n",
    "symbols=random.sample(list_symbols, 3)\n",
    "\n",
    "row=0\n",
    "\n",
    "while row<num_of_patterns:\n",
    "    \n",
    "    colm=0\n",
    "    \n",
    "    while colm<=row:\n",
    "        \n",
    "        print(symbols[row],end=\" \")\n",
    "        \n",
    "        colm+=1\n",
    "    \n",
    "    print()\n",
    "    \n",
    "    row+=1"
   ]
  },
  {
   "cell_type": "markdown",
   "id": "23e3d1cb",
   "metadata": {},
   "source": [
    "**7. Reverse a while loop to display numbers from 10 to 1**"
   ]
  },
  {
   "cell_type": "code",
   "execution_count": 53,
   "id": "4e76b783",
   "metadata": {},
   "outputs": [
    {
     "name": "stdout",
     "output_type": "stream",
     "text": [
      "10\n",
      "9\n",
      "8\n",
      "7\n",
      "6\n",
      "5\n",
      "4\n",
      "3\n",
      "2\n",
      "1\n"
     ]
    }
   ],
   "source": [
    "num=10\n",
    "\n",
    "while num>=1:\n",
    "      \n",
    "    print(num)\n",
    "    \n",
    "    num=num-1\n",
    "    "
   ]
  },
  {
   "cell_type": "markdown",
   "id": "95f88483",
   "metadata": {},
   "source": [
    "## NOTE: Question 7 and 8 are same hence solution is not repeated again"
   ]
  },
  {
   "cell_type": "code",
   "execution_count": null,
   "id": "cc112250",
   "metadata": {},
   "outputs": [],
   "source": []
  }
 ],
 "metadata": {
  "kernelspec": {
   "display_name": "Python 3 (ipykernel)",
   "language": "python",
   "name": "python3"
  },
  "language_info": {
   "codemirror_mode": {
    "name": "ipython",
    "version": 3
   },
   "file_extension": ".py",
   "mimetype": "text/x-python",
   "name": "python",
   "nbconvert_exporter": "python",
   "pygments_lexer": "ipython3",
   "version": "3.10.6"
  }
 },
 "nbformat": 4,
 "nbformat_minor": 5
}
