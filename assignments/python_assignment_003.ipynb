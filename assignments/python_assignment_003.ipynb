{
 "cells": [
  {
   "cell_type": "markdown",
   "id": "6db905dd",
   "metadata": {},
   "source": [
    "## Python Assignment - 3 "
   ]
  },
  {
   "cell_type": "markdown",
   "id": "785684fd",
   "metadata": {},
   "source": [
    "**Author : Abhishek Dey**"
   ]
  },
  {
   "cell_type": "markdown",
   "id": "59157616",
   "metadata": {},
   "source": [
    "**1. Explain with an example when to use a for loop and a while loop**"
   ]
  },
  {
   "cell_type": "markdown",
   "id": "d35b8103",
   "metadata": {},
   "source": [
    "Ans:\n",
    "\n",
    "**For loop** is an iteration method that is best used when we know the number of iterations ahead of time. It’s always followed by the initialization, expression and increment statements.\n",
    "\n",
    "\n",
    "\n",
    "**While Loop** is an iteration method that is best used when we don't know the number of iterations ahead of time. The contents of the loop keeps on iterating until the condition is false"
   ]
  },
  {
   "cell_type": "markdown",
   "id": "3a5694cf",
   "metadata": {},
   "source": [
    "#### Example of for loop to display first 10 even numbers:\n"
   ]
  },
  {
   "cell_type": "code",
   "execution_count": 1,
   "id": "2a45e91f",
   "metadata": {},
   "outputs": [
    {
     "name": "stdout",
     "output_type": "stream",
     "text": [
      "2\n",
      "4\n",
      "6\n",
      "8\n",
      "10\n",
      "12\n",
      "14\n",
      "16\n",
      "18\n",
      "20\n"
     ]
    }
   ],
   "source": [
    "for i in range(2,21,2):\n",
    "    print(i)"
   ]
  },
  {
   "cell_type": "markdown",
   "id": "46836f85",
   "metadata": {},
   "source": [
    "#### Example of for loop to display first 10 even numbers:\n",
    "\n"
   ]
  },
  {
   "cell_type": "code",
   "execution_count": 4,
   "id": "1dd99fe6",
   "metadata": {},
   "outputs": [
    {
     "name": "stdout",
     "output_type": "stream",
     "text": [
      "2\n",
      "4\n",
      "6\n",
      "8\n",
      "10\n",
      "12\n",
      "14\n",
      "16\n",
      "18\n",
      "20\n"
     ]
    }
   ],
   "source": [
    "count=0\n",
    "i=2\n",
    "\n",
    "while count!=10:\n",
    "    \n",
    "    print(i)\n",
    "    i=i+2\n",
    "    count=count+1"
   ]
  },
  {
   "cell_type": "markdown",
   "id": "3a0da086",
   "metadata": {},
   "source": [
    "**2. Write a python program to print the sum and product of first 10 natural numbers using for and while loop**"
   ]
  },
  {
   "cell_type": "markdown",
   "id": "f53b04b3",
   "metadata": {},
   "source": [
    "#### Using for loop:"
   ]
  },
  {
   "cell_type": "code",
   "execution_count": 9,
   "id": "253e4f6d",
   "metadata": {},
   "outputs": [
    {
     "name": "stdout",
     "output_type": "stream",
     "text": [
      "1\n",
      "2\n",
      "3\n",
      "4\n",
      "5\n",
      "6\n",
      "7\n",
      "8\n",
      "9\n",
      "10\n",
      "Sum of first 10 natural numbers : 55\n",
      "Product of first 10 natural numbers : 3628800\n"
     ]
    }
   ],
   "source": [
    "summ=0\n",
    "prod=1\n",
    "\n",
    "num_of_natural_numbers=10\n",
    "\n",
    "length=num_of_natural_numbers+1\n",
    "\n",
    "for i in range(1,length,1):\n",
    "    \n",
    "    print(i)\n",
    "    \n",
    "    summ=summ+i\n",
    "    prod=prod*i\n",
    "    \n",
    "print(\"Sum of first {} natural numbers : {}\".format(str(num_of_natural_numbers),str(summ)))\n",
    "print(\"Product of first {} natural numbers : {}\".format(str(num_of_natural_numbers),str(prod)))"
   ]
  },
  {
   "cell_type": "markdown",
   "id": "b2853ee8",
   "metadata": {},
   "source": [
    "#### Using while loop:"
   ]
  },
  {
   "cell_type": "code",
   "execution_count": 11,
   "id": "9af51f02",
   "metadata": {},
   "outputs": [
    {
     "name": "stdout",
     "output_type": "stream",
     "text": [
      "1\n",
      "2\n",
      "3\n",
      "4\n",
      "5\n",
      "6\n",
      "7\n",
      "8\n",
      "9\n",
      "10\n",
      "Sum of first 10 natural numbers : 55\n",
      "Product of first 10 natural numbers : 3628800\n"
     ]
    }
   ],
   "source": [
    "summ=0\n",
    "prod=1\n",
    "\n",
    "num_of_natural_numbers=10\n",
    "\n",
    "length=num_of_natural_numbers+1\n",
    "\n",
    "i=1\n",
    "\n",
    "while i <= num_of_natural_numbers:\n",
    "    \n",
    "    print(i)\n",
    "    \n",
    "    summ=summ+i\n",
    "    prod=prod*i\n",
    "    i=i+1\n",
    "    \n",
    "print(\"Sum of first {} natural numbers : {}\".format(str(num_of_natural_numbers),str(summ)))\n",
    "print(\"Product of first {} natural numbers : {}\".format(str(num_of_natural_numbers),str(prod)))"
   ]
  },
  {
   "cell_type": "markdown",
   "id": "3b9083b0",
   "metadata": {},
   "source": [
    "**3. Create a python program to compute the electricity bill for a house hold**\n",
    "\n",
    "The per unit charges in rupees are as follows:\n",
    "\n",
    "For the first 100 units, the user will be charged Rs 4.5 per unit, for the next 100 units, the user will be charged Rs. 6 per unit, and for the next 100 units, the user will be charged Rs.10 per unit, Above 300 units and above the user will be charged Rs. 20 per unit\n",
    "\n",
    "\n",
    "You are required to take the units of electricity consumed in a month from the user as input.\n",
    "\n",
    "Your program must pass this test case: When the unit of electricity consumed by the user in a month is 310, the total electricity bill should be 2250"
   ]
  },
  {
   "cell_type": "code",
   "execution_count": 34,
   "id": "3ea86a23",
   "metadata": {},
   "outputs": [
    {
     "name": "stdout",
     "output_type": "stream",
     "text": [
      "Enter the unit of electricity consumed by the user in a month : 310\n",
      "Total electricity bill :  2250.0\n"
     ]
    }
   ],
   "source": [
    "unit=float(input(\"Enter the unit of electricity consumed by the user in a month : \"))\n",
    "\n",
    "if unit<=100:\n",
    "    \n",
    "    bill=4.5*unit\n",
    "    \n",
    "elif unit>100 and unit<=200:\n",
    "    \n",
    "    bill=4.5*100 + 6*(100 - (200-unit))\n",
    "    \n",
    "elif unit>200 and unit<=300:\n",
    "    \n",
    "    bill=4.5*100 + 6*100 + 10*(100 - (300-unit))\n",
    "    \n",
    "if unit>300:\n",
    "    \n",
    "    bill=4.5*100 + 6*100 + 10*100 + 20*(unit-300)\n",
    "    \n",
    "print(\"Total electricity bill : \",str(bill))"
   ]
  },
  {
   "cell_type": "markdown",
   "id": "76b779ad",
   "metadata": {},
   "source": [
    "**4. Create a list of numbers from 1 to 100. Use for loop and while loop to calculate the cube of each number and if the cube of that number is divisble by 4 or 5 then append that number in a list and print that list**"
   ]
  },
  {
   "cell_type": "markdown",
   "id": "778f22d5",
   "metadata": {},
   "source": [
    "#### Using for loop:"
   ]
  },
  {
   "cell_type": "code",
   "execution_count": 25,
   "id": "1753f70d",
   "metadata": {},
   "outputs": [
    {
     "name": "stdout",
     "output_type": "stream",
     "text": [
      "[2, 4, 5, 6, 8, 10, 12, 14, 15, 16, 18, 20, 22, 24, 25, 26, 28, 30, 32, 34, 35, 36, 38, 40, 42, 44, 45, 46, 48, 50, 52, 54, 55, 56, 58, 60, 62, 64, 65, 66, 68, 70, 72, 74, 75, 76, 78, 80, 82, 84, 85, 86, 88, 90, 92, 94, 95, 96, 98, 100]\n"
     ]
    }
   ],
   "source": [
    "l=[]\n",
    "\n",
    "for i in range(1,101,1):\n",
    "    \n",
    "    cube=i**3\n",
    "    \n",
    "    if cube%4==0 or cube%5==0:\n",
    "        l.append(i)\n",
    "        \n",
    "print(l)"
   ]
  },
  {
   "cell_type": "markdown",
   "id": "1e32e008",
   "metadata": {},
   "source": [
    "#### Using while loop"
   ]
  },
  {
   "cell_type": "code",
   "execution_count": 26,
   "id": "05fe8693",
   "metadata": {},
   "outputs": [
    {
     "name": "stdout",
     "output_type": "stream",
     "text": [
      "[2, 4, 5, 6, 8, 10, 12, 14, 15, 16, 18, 20, 22, 24, 25, 26, 28, 30, 32, 34, 35, 36, 38, 40, 42, 44, 45, 46, 48, 50, 52, 54, 55, 56, 58, 60, 62, 64, 65, 66, 68, 70, 72, 74, 75, 76, 78, 80, 82, 84, 85, 86, 88, 90, 92, 94, 95, 96, 98, 100]\n"
     ]
    }
   ],
   "source": [
    "l=[]\n",
    "\n",
    "i=1\n",
    "\n",
    "while i<=100:\n",
    "    \n",
    "    cube=i**3\n",
    "    \n",
    "    if cube%4==0 or cube%5==0:\n",
    "        l.append(i)\n",
    "    \n",
    "    i=i+1\n",
    "    \n",
    "print(l)"
   ]
  },
  {
   "cell_type": "markdown",
   "id": "2c0474f6",
   "metadata": {},
   "source": [
    "**5. Write a program to filter count vowels in the below given string**\n",
    "\n",
    "**string=\"I want to become a data scientist\"**"
   ]
  },
  {
   "cell_type": "code",
   "execution_count": 29,
   "id": "5b138bbb",
   "metadata": {},
   "outputs": [
    {
     "name": "stdout",
     "output_type": "stream",
     "text": [
      "Vowel count in the string :  12\n"
     ]
    }
   ],
   "source": [
    "string=\"I want to become a data scientist\"\n",
    "\n",
    "vowel_count=0\n",
    "\n",
    "vowel_list=[\"a\", \"A\", \"e\", \"E\", \"i\", \"I\", \"o\", \"O\", \"u\", \"U\"]\n",
    "\n",
    "for i in string:\n",
    "\n",
    "    \n",
    "    if i in vowel_list:\n",
    "        \n",
    "        vowel_count+=1\n",
    "        \n",
    "print(\"Vowel count in the string : \", str(vowel_count))"
   ]
  },
  {
   "cell_type": "code",
   "execution_count": null,
   "id": "c0177c39",
   "metadata": {},
   "outputs": [],
   "source": []
  }
 ],
 "metadata": {
  "kernelspec": {
   "display_name": "Python 3 (ipykernel)",
   "language": "python",
   "name": "python3"
  },
  "language_info": {
   "codemirror_mode": {
    "name": "ipython",
    "version": 3
   },
   "file_extension": ".py",
   "mimetype": "text/x-python",
   "name": "python",
   "nbconvert_exporter": "python",
   "pygments_lexer": "ipython3",
   "version": "3.10.6"
  }
 },
 "nbformat": 4,
 "nbformat_minor": 5
}
