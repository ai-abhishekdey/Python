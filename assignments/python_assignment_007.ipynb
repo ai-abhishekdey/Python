{
 "cells": [
  {
   "cell_type": "markdown",
   "id": "16509775",
   "metadata": {},
   "source": [
    "## Python Assignment: 007"
   ]
  },
  {
   "cell_type": "markdown",
   "id": "9dbe6b5f",
   "metadata": {},
   "source": [
    "====================================\n",
    "\n",
    "**Author: Abhishek Dey**\n",
    "\n",
    "===================================="
   ]
  },
  {
   "cell_type": "markdown",
   "id": "a942ffad",
   "metadata": {},
   "source": [
    "**Q1. Create a function which will take a list as an argument and return the product of all the numbers\n",
    "after creating a flat list.\n",
    "Use the below-given list as an argument for your function.**"
   ]
  },
  {
   "cell_type": "code",
   "execution_count": 16,
   "id": "81acbe78",
   "metadata": {},
   "outputs": [],
   "source": [
    "list1 = [1,2,3,4, [44,55,66, True], False, (34,56,78,89,34), {1,2,3,3,2,1}, {1:34, \"key2\": [55, 67, 78, 89], 4: (45,\n",
    "22, 61, 34)}, [56, 'data science'], 'Machine Learning']"
   ]
  },
  {
   "cell_type": "code",
   "execution_count": 73,
   "id": "64913b1e",
   "metadata": {},
   "outputs": [],
   "source": [
    "from functools import reduce\n",
    "\n",
    "def prod_numbers(l):\n",
    "    \n",
    "    \n",
    "    ## Creating a flat list l1\n",
    "    \n",
    "    l1=[]\n",
    "    \n",
    "    print(\"Input list :\")\n",
    "    \n",
    "    print(l)\n",
    "    \n",
    "    for i in l:\n",
    "\n",
    "        if type(i)==int or type(i)==bool or type(i)==float or type(i)==str:\n",
    "            \n",
    "            l1.append(i)\n",
    "            \n",
    "        elif type(i)==list or type(i)==tuple or type(i)==set:\n",
    "            \n",
    "            for j in i:\n",
    "                \n",
    "                l1.append(j)\n",
    "        \n",
    "        elif type(i)==dict:\n",
    "            \n",
    "            for a,b in i.items():\n",
    "                \n",
    "                l1.append(a)\n",
    "    \n",
    "                if type(b)==int or type(b)==bool or type(b)==float or type(b)==str:\n",
    "            \n",
    "                    l1.append(b)\n",
    "    \n",
    "                elif type(b)==list or type(b)==tuple or type(b)==set:\n",
    "        \n",
    "                    for p in b:\n",
    "                \n",
    "                        l1.append(p)\n",
    "            \n",
    "            \n",
    "    ## Creating a list of numbers : l2\n",
    "            \n",
    "    l2=list(filter(lambda x:type(x)==int or type(x)==float,l1)) \n",
    "    \n",
    "    ## Product of all the numbers : prod\n",
    "        \n",
    "    prod=reduce(lambda a,b:a*b,y)    \n",
    "        \n",
    "    return l1, l2, prod\n",
    "        \n",
    "        "
   ]
  },
  {
   "cell_type": "code",
   "execution_count": 75,
   "id": "269b263f",
   "metadata": {},
   "outputs": [
    {
     "name": "stdout",
     "output_type": "stream",
     "text": [
      "Input list :\n",
      "[1, 2, 3, 4, [44, 55, 66, True], False, (34, 56, 78, 89, 34), {1, 2, 3}, {1: 34, 'key2': [55, 67, 78, 89], 4: (45, 22, 61, 34)}, [56, 'data science'], 'Machine Learning']\n"
     ]
    }
   ],
   "source": [
    "flatten_list, list_of_numbers, product_of_all_numbers = prod_numbers(list1)"
   ]
  },
  {
   "cell_type": "code",
   "execution_count": 77,
   "id": "09c45d02",
   "metadata": {},
   "outputs": [
    {
     "name": "stdout",
     "output_type": "stream",
     "text": [
      "[1, 2, 3, 4, 44, 55, 66, True, False, 34, 56, 78, 89, 34, 1, 2, 3, 1, 34, 'key2', 55, 67, 78, 89, 4, 45, 22, 61, 34, 56, 'data science', 'Machine Learning']\n"
     ]
    }
   ],
   "source": [
    "print(flatten_list)"
   ]
  },
  {
   "cell_type": "code",
   "execution_count": 78,
   "id": "709af6f2",
   "metadata": {},
   "outputs": [
    {
     "name": "stdout",
     "output_type": "stream",
     "text": [
      "[1, 2, 3, 4, 44, 55, 66, 34, 56, 78, 89, 34, 1, 2, 3, 1, 34, 55, 67, 78, 89, 4, 45, 22, 61, 34, 56]\n"
     ]
    }
   ],
   "source": [
    "print(list_of_numbers)"
   ]
  },
  {
   "cell_type": "code",
   "execution_count": 79,
   "id": "7d49c8fe",
   "metadata": {},
   "outputs": [
    {
     "name": "stdout",
     "output_type": "stream",
     "text": [
      "4134711838987085478833841242112000\n"
     ]
    }
   ],
   "source": [
    "print(product_of_all_numbers)"
   ]
  },
  {
   "cell_type": "markdown",
   "id": "a4e07b70",
   "metadata": {},
   "source": [
    "**Q2. Write a python program for encrypting a message sent to you by your friend. The logic of encryption\n",
    "should be such that, for a the output should be z. For b, the output should be y. For c, the output should\n",
    "be x respectively. Also, the whitespace should be replaced with a dollar sign. Keep the punctuation\n",
    "marks unchanged.**\n",
    "\n",
    "**Input Sentence: I want to become a Data Scientist.**\n",
    "\n",
    "**Encrypt the above input sentence using the program you just created.\n",
    "Note: Convert the given input sentence into lowercase before encrypting. The final output should be\n",
    "lowercase.**"
   ]
  },
  {
   "cell_type": "code",
   "execution_count": 80,
   "id": "d41970e8",
   "metadata": {},
   "outputs": [],
   "source": [
    "input_sentence=\"I want to become a Data Scientist.\""
   ]
  },
  {
   "cell_type": "code",
   "execution_count": 123,
   "id": "d5388984",
   "metadata": {},
   "outputs": [],
   "source": [
    "import string\n",
    "alphabet = string.ascii_lowercase\n",
    "rev_alphabet=alphabet[::-1]"
   ]
  },
  {
   "cell_type": "code",
   "execution_count": 124,
   "id": "511dbc03",
   "metadata": {},
   "outputs": [
    {
     "name": "stdout",
     "output_type": "stream",
     "text": [
      "abcdefghijklmnopqrstuvwxyz\n",
      "zyxwvutsrqponmlkjihgfedcba\n"
     ]
    }
   ],
   "source": [
    "print(alphabet)\n",
    "print(rev_alphabet)"
   ]
  },
  {
   "cell_type": "code",
   "execution_count": 121,
   "id": "b268d594",
   "metadata": {},
   "outputs": [],
   "source": [
    "out = \"\"\n",
    "\n",
    "\n",
    "for i in input_sentence.lower():\n",
    "       \n",
    "    idx=alphabet.find(i)\n",
    "    \n",
    "    if idx!=-1:\n",
    "        \n",
    "        \n",
    "        out = out + rev_alphabet[idx]\n",
    "            \n",
    "    # Check for white spaces\n",
    "    \n",
    "    if i==\" \":\n",
    "            \n",
    "        out = out + '$'\n",
    "        \n",
    "    # Check for punctuation marks\n",
    "        \n",
    "    if i==\".\" or i==\",\" or i==\":\" or i==\"-\":\n",
    "        \n",
    "        out = out + i\n",
    "\n"
   ]
  },
  {
   "cell_type": "code",
   "execution_count": 122,
   "id": "676070da",
   "metadata": {},
   "outputs": [
    {
     "name": "stdout",
     "output_type": "stream",
     "text": [
      "r$dzmg$gl$yvxlnv$z$wzgz$hxrvmgrhg.\n"
     ]
    }
   ],
   "source": [
    "print(out)"
   ]
  }
 ],
 "metadata": {
  "kernelspec": {
   "display_name": "Python 3 (ipykernel)",
   "language": "python",
   "name": "python3"
  },
  "language_info": {
   "codemirror_mode": {
    "name": "ipython",
    "version": 3
   },
   "file_extension": ".py",
   "mimetype": "text/x-python",
   "name": "python",
   "nbconvert_exporter": "python",
   "pygments_lexer": "ipython3",
   "version": "3.10.6"
  }
 },
 "nbformat": 4,
 "nbformat_minor": 5
}
