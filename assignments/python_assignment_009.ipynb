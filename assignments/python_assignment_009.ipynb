{
 "cells": [
  {
   "cell_type": "markdown",
   "id": "7db680f7",
   "metadata": {},
   "source": [
    "## Python Assignment : 009"
   ]
  },
  {
   "cell_type": "markdown",
   "id": "d58ca414",
   "metadata": {},
   "source": [
    "==========================================\n",
    "\n",
    "**Author: Abhishek Dey**\n",
    "\n",
    "=========================================="
   ]
  },
  {
   "cell_type": "markdown",
   "id": "532360f2",
   "metadata": {},
   "source": [
    "**Q1. What is abstraction in OOPS? Explain with an example**"
   ]
  },
  {
   "cell_type": "markdown",
   "id": "12ebfdfe",
   "metadata": {},
   "source": [
    "* Abstraction provides a programmer to hide all the irrelevant data/process of an application in order to reduce complexity and increase the efficiency of the program.\n",
    "\n",
    "* In Python, abstraction can be achieved by using **abstract classes** and **abstract methods** in programs.\n",
    "\n",
    "* An abstract method is a method that is declared, but does not contain implementation. \n",
    "\n",
    "* An abstract method in a base class identifies the functionality that should be implemented by all its subclasses.\n",
    "\n",
    "* Since the implementation of an abstract method would differ from one subclass to another, often the **method body comprises just a pass statement.**\n",
    "\n",
    "* Every subclass of the base class will ride this method with its implementation. A class containing abstract methods is called **abstract class**\n",
    "\n",
    "* Python provides the **abc module** to use the abstraction in the Python program"
   ]
  },
  {
   "cell_type": "markdown",
   "id": "9905e4c1",
   "metadata": {},
   "source": [
    "### Example of abstract class"
   ]
  },
  {
   "cell_type": "markdown",
   "id": "5e754fdc",
   "metadata": {},
   "source": [
    "* Let us consider a scenario where we need to create two applications : mobile application and web application for a Bank. \n",
    "\n",
    "\n",
    "* Both the applications will inherit from a **Bank application** that has the previlage to connect to the customer database\n",
    "\n",
    "* Bank application acts as an abstact class that creates an abstact method **security**. \n",
    "\n",
    "* The Bank application gives access to the database only if the mobile and web applications write their own **security** methods"
   ]
  },
  {
   "cell_type": "code",
   "execution_count": 4,
   "id": "2e504926",
   "metadata": {},
   "outputs": [],
   "source": [
    "# First we need to import ABC and abstract method from abc module\n",
    "\n",
    "\n",
    "from abc import ABC,abstractmethod"
   ]
  },
  {
   "cell_type": "code",
   "execution_count": 6,
   "id": "f18a4118",
   "metadata": {},
   "outputs": [],
   "source": [
    "# abstract class\n",
    "\n",
    "class BankApp(ABC):\n",
    "    \n",
    "    def database(self):\n",
    "        print(\"Method written for connecting to database\")\n",
    "        \n",
    "    # abstract method\n",
    "        \n",
    "    @abstractmethod    \n",
    "    def security(self):\n",
    "        pass"
   ]
  },
  {
   "cell_type": "code",
   "execution_count": 8,
   "id": "d3bd43ac",
   "metadata": {},
   "outputs": [],
   "source": [
    "class MobileApp(BankApp):\n",
    "    \n",
    "    def mobile_display(self):\n",
    "        print(\"Mobile app login\")\n",
    "        \n",
    "    def security(self):\n",
    "        print(\"Security for mobile app\")"
   ]
  },
  {
   "cell_type": "code",
   "execution_count": 9,
   "id": "851c473d",
   "metadata": {},
   "outputs": [],
   "source": [
    "class WebApp(BankApp):\n",
    "    \n",
    "    def web_display(self):\n",
    "        print(\"Web app login\")\n",
    "        \n",
    "    def security(self):\n",
    "        print(\"Security for web app\")"
   ]
  },
  {
   "cell_type": "markdown",
   "id": "e17d45da",
   "metadata": {},
   "source": [
    "### Note: Abstract class cannot have object"
   ]
  },
  {
   "cell_type": "code",
   "execution_count": 10,
   "id": "51b9cf80",
   "metadata": {},
   "outputs": [
    {
     "ename": "TypeError",
     "evalue": "Can't instantiate abstract class BankApp with abstract method security",
     "output_type": "error",
     "traceback": [
      "\u001b[0;31m---------------------------------------------------------------------------\u001b[0m",
      "\u001b[0;31mTypeError\u001b[0m                                 Traceback (most recent call last)",
      "Cell \u001b[0;32mIn[10], line 1\u001b[0m\n\u001b[0;32m----> 1\u001b[0m obj \u001b[38;5;241m=\u001b[39m \u001b[43mBankApp\u001b[49m\u001b[43m(\u001b[49m\u001b[43m)\u001b[49m\n",
      "\u001b[0;31mTypeError\u001b[0m: Can't instantiate abstract class BankApp with abstract method security"
     ]
    }
   ],
   "source": [
    "obj = BankApp()"
   ]
  },
  {
   "cell_type": "markdown",
   "id": "b7272222",
   "metadata": {},
   "source": [
    "### Creating object for MobileApp class"
   ]
  },
  {
   "cell_type": "code",
   "execution_count": 11,
   "id": "af01d4c5",
   "metadata": {},
   "outputs": [],
   "source": [
    "mob=MobileApp()"
   ]
  },
  {
   "cell_type": "code",
   "execution_count": 12,
   "id": "418be148",
   "metadata": {},
   "outputs": [
    {
     "name": "stdout",
     "output_type": "stream",
     "text": [
      "Mobile app login\n"
     ]
    }
   ],
   "source": [
    "mob.mobile_display()"
   ]
  },
  {
   "cell_type": "code",
   "execution_count": 13,
   "id": "ff14d648",
   "metadata": {},
   "outputs": [
    {
     "name": "stdout",
     "output_type": "stream",
     "text": [
      "Security for mobile app\n"
     ]
    }
   ],
   "source": [
    "mob.security()"
   ]
  },
  {
   "cell_type": "code",
   "execution_count": 14,
   "id": "710684d7",
   "metadata": {},
   "outputs": [
    {
     "name": "stdout",
     "output_type": "stream",
     "text": [
      "Method written for connecting to database\n"
     ]
    }
   ],
   "source": [
    "mob.database()"
   ]
  },
  {
   "cell_type": "markdown",
   "id": "8b82cf5f",
   "metadata": {},
   "source": [
    "### Creating object for WebApp class"
   ]
  },
  {
   "cell_type": "code",
   "execution_count": 15,
   "id": "ef41a6fb",
   "metadata": {},
   "outputs": [],
   "source": [
    "web=WebApp()"
   ]
  },
  {
   "cell_type": "code",
   "execution_count": 16,
   "id": "0e9fca46",
   "metadata": {},
   "outputs": [
    {
     "name": "stdout",
     "output_type": "stream",
     "text": [
      "Web app login\n"
     ]
    }
   ],
   "source": [
    "web.web_display()"
   ]
  },
  {
   "cell_type": "code",
   "execution_count": 17,
   "id": "54e60969",
   "metadata": {},
   "outputs": [
    {
     "name": "stdout",
     "output_type": "stream",
     "text": [
      "Security for web app\n"
     ]
    }
   ],
   "source": [
    "web.security()"
   ]
  },
  {
   "cell_type": "code",
   "execution_count": 18,
   "id": "5223cb04",
   "metadata": {},
   "outputs": [
    {
     "name": "stdout",
     "output_type": "stream",
     "text": [
      "Method written for connecting to database\n"
     ]
    }
   ],
   "source": [
    "web.database()"
   ]
  },
  {
   "cell_type": "markdown",
   "id": "c1a4f90b",
   "metadata": {},
   "source": [
    "**Q2: Differetiate betweeen Abstraction and Encapsulation. Explain with Example** "
   ]
  },
  {
   "cell_type": "markdown",
   "id": "73cc5546",
   "metadata": {},
   "source": [
    "* Abstraction is a data hiding mechanism which highlights only the essential features to make complex programs simpler, while encapsulation, on the other hand, is a method of binding data and codes into a single entity\n",
    "\n",
    "* Abstraction is implemented using abstract class and abstract method, while encapsulation is implemented using access modifiers like private, protected\n",
    "\n",
    "* The idea behind abstraction is to focus on what rather than how. Encapsulation hides the internal mechanics of how. \n",
    "\n",
    "**Example:**\n",
    "\n",
    "Let’s take an example of a smartphone. We know what it does but we may not know how it does what it does. We only care about the display screen and keypad buttons rather than worrying about its inner circuitry. Here, smartphone is an **abstract** where the inner implementation details are **encapsulated**.\n",
    "\n"
   ]
  },
  {
   "cell_type": "markdown",
   "id": "82dcf63a",
   "metadata": {},
   "source": [
    "**Q3: What is abc module in python? Why is it used ?**"
   ]
  },
  {
   "cell_type": "markdown",
   "id": "632af4e4",
   "metadata": {},
   "source": [
    "**ABC :** Abstract Base Classes "
   ]
  },
  {
   "cell_type": "markdown",
   "id": "3bd145ad",
   "metadata": {},
   "source": [
    "This module provides the infrastructure for defining abstract base classes (ABCs) in Python"
   ]
  },
  {
   "cell_type": "markdown",
   "id": "a178d12f",
   "metadata": {},
   "source": [
    "**Q4. How can we achieve data abstraction?**"
   ]
  },
  {
   "cell_type": "markdown",
   "id": "72fa7249",
   "metadata": {},
   "source": [
    "In python, data abstraction can be achieved by using abstract classes and abstract methods. An abstract method is a method that is declared, but does not contain implementation.\n",
    "\n",
    "An abstract method in a base class identifies the functionality that should be implemented by all its subclasses.\n",
    "\n",
    "Since the implementation of an abstract method would differ from one subclass to another, often the method body comprises just a pass statement.\n",
    "\n",
    "Every subclass of the base class will ride this method with its implementation. A class containing abstract methods is called abstract class\n",
    "\n",
    "Python provides the abc module to use the abstraction in the Python program"
   ]
  },
  {
   "cell_type": "markdown",
   "id": "12749d8a",
   "metadata": {},
   "source": [
    "**Q5. Can we create an instance of an abstract class? Explain your answer**"
   ]
  },
  {
   "cell_type": "markdown",
   "id": "4088f40f",
   "metadata": {},
   "source": [
    "We cannot create an instance of an abstract class. Let us consider this example"
   ]
  },
  {
   "cell_type": "code",
   "execution_count": 21,
   "id": "48ca8510",
   "metadata": {},
   "outputs": [],
   "source": [
    "from abc import ABC,abstractmethod\n",
    "\n",
    "class BankApp(ABC):\n",
    "    \n",
    "    def database(self):\n",
    "        print(\"Method written for connecting to database\")\n",
    "        \n",
    "    # abstract method\n",
    "        \n",
    "    @abstractmethod    \n",
    "    def security(self):\n",
    "        pass\n",
    "    \n",
    "class MobileApp(BankApp):\n",
    "    \n",
    "    def mobile_display(self):\n",
    "        print(\"Mobile app login\")\n",
    "        \n",
    "    def security(self):\n",
    "        print(\"Security for mobile app\")\n",
    "        \n",
    "        \n",
    "class WebApp(BankApp):\n",
    "    \n",
    "    def web_display(self):\n",
    "        print(\"Web app login\")\n",
    "        \n",
    "    def security(self):\n",
    "        print(\"Security for web app\")\n"
   ]
  },
  {
   "cell_type": "code",
   "execution_count": 22,
   "id": "d530d2f5",
   "metadata": {},
   "outputs": [
    {
     "ename": "TypeError",
     "evalue": "Can't instantiate abstract class BankApp with abstract method security",
     "output_type": "error",
     "traceback": [
      "\u001b[0;31m---------------------------------------------------------------------------\u001b[0m",
      "\u001b[0;31mTypeError\u001b[0m                                 Traceback (most recent call last)",
      "Cell \u001b[0;32mIn[22], line 1\u001b[0m\n\u001b[0;32m----> 1\u001b[0m obj\u001b[38;5;241m=\u001b[39m\u001b[43mBankApp\u001b[49m\u001b[43m(\u001b[49m\u001b[43m)\u001b[49m\n",
      "\u001b[0;31mTypeError\u001b[0m: Can't instantiate abstract class BankApp with abstract method security"
     ]
    }
   ],
   "source": [
    "obj=BankApp()"
   ]
  },
  {
   "cell_type": "code",
   "execution_count": null,
   "id": "281b26a7",
   "metadata": {},
   "outputs": [],
   "source": []
  }
 ],
 "metadata": {
  "kernelspec": {
   "display_name": "Python 3 (ipykernel)",
   "language": "python",
   "name": "python3"
  },
  "language_info": {
   "codemirror_mode": {
    "name": "ipython",
    "version": 3
   },
   "file_extension": ".py",
   "mimetype": "text/x-python",
   "name": "python",
   "nbconvert_exporter": "python",
   "pygments_lexer": "ipython3",
   "version": "3.10.6"
  }
 },
 "nbformat": 4,
 "nbformat_minor": 5
}
