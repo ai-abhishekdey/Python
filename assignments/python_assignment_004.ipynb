{
 "cells": [
  {
   "cell_type": "markdown",
   "id": "d88ab597",
   "metadata": {},
   "source": [
    "## Python Assignment : 4"
   ]
  },
  {
   "cell_type": "markdown",
   "id": "c3a09a7e",
   "metadata": {},
   "source": [
    "================================\n",
    "\n",
    "**Author: Abhishek Dey**\n",
    "\n",
    "================================"
   ]
  },
  {
   "cell_type": "markdown",
   "id": "2f6ce2d9",
   "metadata": {},
   "source": [
    "**1. Which keyword is used to create a function ? create a function to return a list of odd numbers in the range of 1 to 25**"
   ]
  },
  {
   "cell_type": "markdown",
   "id": "13d1be3c",
   "metadata": {},
   "source": [
    "Ans: **def** keyword is used to create a function"
   ]
  },
  {
   "cell_type": "code",
   "execution_count": 3,
   "id": "e9f82cef",
   "metadata": {},
   "outputs": [],
   "source": [
    "def odd_num(a,b):\n",
    "    \n",
    "    l=[]\n",
    "    \n",
    "    for i in range(a,b+1):\n",
    "        \n",
    "        if i%2 !=0:\n",
    "            \n",
    "            l.append(i)\n",
    "    \n",
    "    return l\n",
    "    "
   ]
  },
  {
   "cell_type": "code",
   "execution_count": 4,
   "id": "57219a50",
   "metadata": {},
   "outputs": [
    {
     "data": {
      "text/plain": [
       "[1, 3, 5, 7, 9, 11, 13, 15, 17, 19, 21, 23, 25]"
      ]
     },
     "execution_count": 4,
     "metadata": {},
     "output_type": "execute_result"
    }
   ],
   "source": [
    "odd_num(1,25)"
   ]
  },
  {
   "cell_type": "markdown",
   "id": "3191d541",
   "metadata": {},
   "source": [
    "**2.Why** ***args** **and** ****kwargs** **is used in some functions? Create a function each for** ***args and** ****kwargs  to demonstrate their use**"
   ]
  },
  {
   "cell_type": "markdown",
   "id": "d4efa6b2",
   "metadata": {},
   "source": [
    "Ans: \n",
    "\n",
    "\n",
    "* *args and **kwargs are special keyword which allows function to take variable length argument.\n",
    "\n",
    "* *args passes variable number of non-keyworded arguments and on which operation of the tuple can be performed.\n",
    "\n",
    "* **kwargs passes variable number of keyword arguments dictionary to function on which operation of a dictionary can be performed.\n",
    "\n",
    "* *args and **kwargs make the function flexible.\n",
    "\n"
   ]
  },
  {
   "cell_type": "markdown",
   "id": "8c9d2f0d",
   "metadata": {},
   "source": [
    "### Example of *args"
   ]
  },
  {
   "cell_type": "code",
   "execution_count": 9,
   "id": "fcbfaa95",
   "metadata": {},
   "outputs": [],
   "source": [
    "def square_num(*args):\n",
    "    \n",
    "    l=[]\n",
    "    \n",
    "    for i in args:\n",
    "        \n",
    "        l.append(i**2)\n",
    "    \n",
    "    return l"
   ]
  },
  {
   "cell_type": "code",
   "execution_count": 10,
   "id": "a5dbc83d",
   "metadata": {},
   "outputs": [
    {
     "data": {
      "text/plain": [
       "[1, 4, 9, 16, 25]"
      ]
     },
     "execution_count": 10,
     "metadata": {},
     "output_type": "execute_result"
    }
   ],
   "source": [
    "square_num(1,2,3,4,5)"
   ]
  },
  {
   "cell_type": "code",
   "execution_count": 11,
   "id": "2b6a9f9b",
   "metadata": {},
   "outputs": [
    {
     "data": {
      "text/plain": [
       "[1156, 7056, 81, 4, 8464, 16, 25, 36, 7744, 25, 49, 16, 49, 9, 25]"
      ]
     },
     "execution_count": 11,
     "metadata": {},
     "output_type": "execute_result"
    }
   ],
   "source": [
    "square_num(34,84,9,2,92,4,5,6,88,5,7,4,7,3,5)"
   ]
  },
  {
   "cell_type": "markdown",
   "id": "4549434b",
   "metadata": {},
   "source": [
    "### Example of **kwargs"
   ]
  },
  {
   "cell_type": "code",
   "execution_count": 24,
   "id": "1d57d2cb",
   "metadata": {},
   "outputs": [],
   "source": [
    "def test(**kwargs):\n",
    "    \n",
    "    l1=[]\n",
    "    \n",
    "    l2=[]\n",
    "    \n",
    "    for i,j in kwargs.items():\n",
    "        \n",
    "        l1.append(i)\n",
    "        l2.append(j)\n",
    "    \n",
    "    return l1,l2"
   ]
  },
  {
   "cell_type": "code",
   "execution_count": 25,
   "id": "858ef045",
   "metadata": {},
   "outputs": [],
   "source": [
    "l1,l2=test(a='apple',b='ball',c='cat')"
   ]
  },
  {
   "cell_type": "code",
   "execution_count": 26,
   "id": "869dfe46",
   "metadata": {},
   "outputs": [
    {
     "data": {
      "text/plain": [
       "['a', 'b', 'c']"
      ]
     },
     "execution_count": 26,
     "metadata": {},
     "output_type": "execute_result"
    }
   ],
   "source": [
    "l1"
   ]
  },
  {
   "cell_type": "code",
   "execution_count": 27,
   "id": "d40525e2",
   "metadata": {},
   "outputs": [
    {
     "data": {
      "text/plain": [
       "['apple', 'ball', 'cat']"
      ]
     },
     "execution_count": 27,
     "metadata": {},
     "output_type": "execute_result"
    }
   ],
   "source": [
    "l2"
   ]
  },
  {
   "cell_type": "markdown",
   "id": "a71f9a8b",
   "metadata": {},
   "source": [
    "**3.What is an iterator in python ? Name the method used to initialise the iterator object and the method used for iteration. Use these methods to print the first five elements of the given list [2,4,6,8,10,12,14,16,18,20]**"
   ]
  },
  {
   "cell_type": "markdown",
   "id": "31d7eb62",
   "metadata": {},
   "source": [
    "Ans:\n",
    "\n",
    "**Iterator:** An iterator is an object that contains a countable number of values. It is an object that can be iterated upon.\n",
    "\n",
    "**iter()** method is used to initialise the **iterator** object and **next()** method is used for iteration"
   ]
  },
  {
   "cell_type": "code",
   "execution_count": 52,
   "id": "4c0a28e9",
   "metadata": {},
   "outputs": [],
   "source": [
    "l=[2,4,6,8,10,12,14,16,18,20]"
   ]
  },
  {
   "cell_type": "code",
   "execution_count": 53,
   "id": "97dbfa88",
   "metadata": {},
   "outputs": [],
   "source": [
    "l1=iter(l)"
   ]
  },
  {
   "cell_type": "code",
   "execution_count": 54,
   "id": "c4a1b8a3",
   "metadata": {},
   "outputs": [
    {
     "name": "stdout",
     "output_type": "stream",
     "text": [
      "2\n",
      "4\n",
      "6\n",
      "8\n",
      "10\n"
     ]
    }
   ],
   "source": [
    "count=0\n",
    "\n",
    "while count<5:\n",
    "    \n",
    "    print(next(l1))\n",
    "    \n",
    "    count = count+1"
   ]
  },
  {
   "cell_type": "markdown",
   "id": "1e4612a1",
   "metadata": {},
   "source": [
    "**4. What is a generator function in python? Why yield keyword is used? Give an example of a generator function**"
   ]
  },
  {
   "cell_type": "markdown",
   "id": "683f83b1",
   "metadata": {},
   "source": [
    "Ans: \n",
    "\n",
    "In Python, a generator is a function that returns an iterator that produces a sequence of values when iterated over. Generators are useful when we want to produce a large sequence of values, but we don't want to store all of them in memory at once."
   ]
  },
  {
   "cell_type": "markdown",
   "id": "0ea17421",
   "metadata": {},
   "source": [
    "**yield** keyword is used to create a generator function"
   ]
  },
  {
   "cell_type": "markdown",
   "id": "a4a4786d",
   "metadata": {},
   "source": [
    "### Example of genetator function"
   ]
  },
  {
   "cell_type": "code",
   "execution_count": 49,
   "id": "4e383724",
   "metadata": {},
   "outputs": [],
   "source": [
    "def fibo_series(n):\n",
    "    \n",
    "    a=0\n",
    "    b=1\n",
    "    \n",
    "    for i in range(n):\n",
    "        \n",
    "        yield a\n",
    "        \n",
    "        a,b=b,a+b\n",
    "        "
   ]
  },
  {
   "cell_type": "code",
   "execution_count": 50,
   "id": "c3a0a998",
   "metadata": {},
   "outputs": [
    {
     "data": {
      "text/plain": [
       "<generator object fibo_series at 0x7f73ac1b26c0>"
      ]
     },
     "execution_count": 50,
     "metadata": {},
     "output_type": "execute_result"
    }
   ],
   "source": [
    "fibo_series(10)"
   ]
  },
  {
   "cell_type": "code",
   "execution_count": 51,
   "id": "d83d5f6e",
   "metadata": {},
   "outputs": [
    {
     "data": {
      "text/plain": [
       "[0, 1, 1, 2, 3, 5, 8, 13, 21, 34]"
      ]
     },
     "execution_count": 51,
     "metadata": {},
     "output_type": "execute_result"
    }
   ],
   "source": [
    "[i for i in fibo_series(10)]"
   ]
  },
  {
   "cell_type": "markdown",
   "id": "9a716958",
   "metadata": {},
   "source": [
    "**5. Create a generator function for prime numbers less than 1000. Use next() method to print the first 20 prime numbers**"
   ]
  },
  {
   "cell_type": "code",
   "execution_count": 44,
   "id": "b1b0512a",
   "metadata": {},
   "outputs": [],
   "source": [
    "def prime_num(x):\n",
    "    \n",
    "    for i in range(1,x):\n",
    "        \n",
    "        yield i"
   ]
  },
  {
   "cell_type": "code",
   "execution_count": 45,
   "id": "610b91f5",
   "metadata": {},
   "outputs": [
    {
     "data": {
      "text/plain": [
       "<generator object prime_num at 0x7f73ac1b2ce0>"
      ]
     },
     "execution_count": 45,
     "metadata": {},
     "output_type": "execute_result"
    }
   ],
   "source": [
    "prime_num(1000)"
   ]
  },
  {
   "cell_type": "code",
   "execution_count": 46,
   "id": "bdbbc3b8",
   "metadata": {},
   "outputs": [],
   "source": [
    "l=[i for i in prime_num(1000)]"
   ]
  },
  {
   "cell_type": "code",
   "execution_count": 47,
   "id": "ac2618f8",
   "metadata": {},
   "outputs": [],
   "source": [
    "l1=iter(l)"
   ]
  },
  {
   "cell_type": "code",
   "execution_count": 48,
   "id": "4d83343c",
   "metadata": {},
   "outputs": [
    {
     "name": "stdout",
     "output_type": "stream",
     "text": [
      "1\n",
      "2\n",
      "3\n",
      "4\n",
      "5\n",
      "6\n",
      "7\n",
      "8\n",
      "9\n",
      "10\n",
      "11\n",
      "12\n",
      "13\n",
      "14\n",
      "15\n",
      "16\n",
      "17\n",
      "18\n",
      "19\n",
      "20\n"
     ]
    }
   ],
   "source": [
    "count=0\n",
    "\n",
    "while count<20:\n",
    "    \n",
    "    print(next(l1))\n",
    "    \n",
    "    count=count + 1"
   ]
  },
  {
   "cell_type": "markdown",
   "id": "3f7e886a",
   "metadata": {},
   "source": [
    "**6. Write a python program to print the first 10 fibonacci numbers using a while loop**"
   ]
  },
  {
   "cell_type": "code",
   "execution_count": 38,
   "id": "f3144105",
   "metadata": {},
   "outputs": [
    {
     "name": "stdout",
     "output_type": "stream",
     "text": [
      "0\n",
      "1\n",
      "1\n",
      "2\n",
      "3\n",
      "5\n",
      "8\n",
      "13\n",
      "21\n",
      "34\n"
     ]
    }
   ],
   "source": [
    "num=10\n",
    "\n",
    "i=0\n",
    "a=0\n",
    "b=1\n",
    "c=0\n",
    "\n",
    "print(a)\n",
    "print(b)\n",
    "\n",
    "while i<(num-2):\n",
    "   \n",
    "    \n",
    "    c=a+b\n",
    "    a=b\n",
    "    b=c\n",
    "    i=i+1\n",
    "    \n",
    "    print(c)"
   ]
  },
  {
   "cell_type": "markdown",
   "id": "60ede8fc",
   "metadata": {},
   "source": [
    "**7. Write a List comprehension to iterate through the given string 'pwskills'**\n",
    "\n",
    "**Expected Output: ['p','w','s','k','i','l','l','s']**"
   ]
  },
  {
   "cell_type": "code",
   "execution_count": 39,
   "id": "7e36099f",
   "metadata": {},
   "outputs": [],
   "source": [
    "string=\"pwskills\""
   ]
  },
  {
   "cell_type": "code",
   "execution_count": 40,
   "id": "b0cfe909",
   "metadata": {},
   "outputs": [
    {
     "data": {
      "text/plain": [
       "['p', 'w', 's', 'k', 'i', 'l', 'l', 's']"
      ]
     },
     "execution_count": 40,
     "metadata": {},
     "output_type": "execute_result"
    }
   ],
   "source": [
    "[string[i] for i in range(len(string))]"
   ]
  },
  {
   "cell_type": "markdown",
   "id": "9576572a",
   "metadata": {},
   "source": [
    "**8. Write a python program to check whether a given number is palindrome or not using a while loop**"
   ]
  },
  {
   "cell_type": "markdown",
   "id": "0828cd6a",
   "metadata": {},
   "source": [
    "#### Using While loop"
   ]
  },
  {
   "cell_type": "code",
   "execution_count": 28,
   "id": "fdbe3a3e",
   "metadata": {},
   "outputs": [
    {
     "name": "stdout",
     "output_type": "stream",
     "text": [
      "Enter number:12321\n",
      "12321 is palindrone ! \n"
     ]
    }
   ],
   "source": [
    "original_num=int(input(\"Enter number:\"))\n",
    "num=original_num\n",
    "rev=0\n",
    "\n",
    "while(num>0):\n",
    "    dig=num%10\n",
    "    rev=rev*10+dig\n",
    "    num=num//10\n",
    "    \n",
    "if(original_num==rev):\n",
    "    \n",
    "    print(\"{} is palindrone ! \".format(str(original_num)))\n",
    "\n",
    "else:\n",
    "\n",
    "    print(\"{} is not a palindrone ! \".format(str(original_num)))"
   ]
  },
  {
   "cell_type": "markdown",
   "id": "32425bd4",
   "metadata": {},
   "source": [
    "#### Alternative Method:"
   ]
  },
  {
   "cell_type": "code",
   "execution_count": 16,
   "id": "145c3723",
   "metadata": {},
   "outputs": [
    {
     "name": "stdout",
     "output_type": "stream",
     "text": [
      "Enter number : 12321\n",
      "12321 is palindrone ! \n"
     ]
    }
   ],
   "source": [
    "num=int(input(\"Enter number : \"))\n",
    "\n",
    "\n",
    "string=str(num)\n",
    "    \n",
    "if string==string[::-1]:\n",
    "        \n",
    "    print(\"{} is palindrone ! \".format(string))\n",
    "    \n",
    "else:\n",
    "        \n",
    "    print(\"{} is not a palindrone ! \".format(string))"
   ]
  },
  {
   "cell_type": "markdown",
   "id": "f48558b0",
   "metadata": {},
   "source": [
    "**9. Write a code to print odd numbers from 1 to 100 using comprehension**\n",
    "\n",
    "Note: Use a list comprehension to create a list from 1 to 100 and use another list to filter out the odd numbers"
   ]
  },
  {
   "cell_type": "code",
   "execution_count": 1,
   "id": "da521614",
   "metadata": {},
   "outputs": [],
   "source": [
    "l1=[i for i in range(1,101,1)]"
   ]
  },
  {
   "cell_type": "code",
   "execution_count": 3,
   "id": "38a2a453",
   "metadata": {},
   "outputs": [],
   "source": [
    "l2=[i for i in l1 if i%2!=0]"
   ]
  },
  {
   "cell_type": "code",
   "execution_count": 5,
   "id": "8c52bba2",
   "metadata": {},
   "outputs": [
    {
     "name": "stdout",
     "output_type": "stream",
     "text": [
      "[1, 3, 5, 7, 9, 11, 13, 15, 17, 19, 21, 23, 25, 27, 29, 31, 33, 35, 37, 39, 41, 43, 45, 47, 49, 51, 53, 55, 57, 59, 61, 63, 65, 67, 69, 71, 73, 75, 77, 79, 81, 83, 85, 87, 89, 91, 93, 95, 97, 99]\n"
     ]
    }
   ],
   "source": [
    "print(l2)"
   ]
  },
  {
   "cell_type": "code",
   "execution_count": null,
   "id": "7a58472f",
   "metadata": {},
   "outputs": [],
   "source": []
  }
 ],
 "metadata": {
  "kernelspec": {
   "display_name": "Python 3 (ipykernel)",
   "language": "python",
   "name": "python3"
  },
  "language_info": {
   "codemirror_mode": {
    "name": "ipython",
    "version": 3
   },
   "file_extension": ".py",
   "mimetype": "text/x-python",
   "name": "python",
   "nbconvert_exporter": "python",
   "pygments_lexer": "ipython3",
   "version": "3.10.6"
  }
 },
 "nbformat": 4,
 "nbformat_minor": 5
}
