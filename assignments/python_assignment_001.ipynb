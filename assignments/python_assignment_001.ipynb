{
 "cells": [
  {
   "cell_type": "markdown",
   "id": "15707d8b",
   "metadata": {},
   "source": [
    "### Python Assignment - 1"
   ]
  },
  {
   "cell_type": "markdown",
   "id": "c3b0331f",
   "metadata": {},
   "source": [
    "=====================================\n",
    "\n",
    "**Author: Abhishek Dey**\n",
    "\n",
    "====================================="
   ]
  },
  {
   "cell_type": "markdown",
   "id": "c5ee9078",
   "metadata": {},
   "source": [
    "**1. Who developed Python Programming Language?**"
   ]
  },
  {
   "cell_type": "markdown",
   "id": "bec15079",
   "metadata": {},
   "source": [
    "Ans: Guido van Rossum"
   ]
  },
  {
   "cell_type": "markdown",
   "id": "c5afcff3",
   "metadata": {},
   "source": [
    "**2. Which type of programming does python support?**"
   ]
  },
  {
   "cell_type": "markdown",
   "id": "911ecca4",
   "metadata": {},
   "source": [
    "Ans: Python is a multi-paradigm programming language that supports the following:\n",
    "\n",
    "\n",
    "\n",
    "* Object-oriented programming \n",
    "\n",
    "* Structured programming\n",
    "\n",
    "* Functional programming \n",
    "\n",
    "* Aspect-oriented programming (including meta programming and meta objects)"
   ]
  },
  {
   "cell_type": "markdown",
   "id": "c6b6ae8f",
   "metadata": {},
   "source": [
    "**3. Is Python case sensitive when dealing with identifiers ?**"
   ]
  },
  {
   "cell_type": "markdown",
   "id": "2f78f4bd",
   "metadata": {},
   "source": [
    "Ans: Yes, python is case sensitive when dealing with identifiers"
   ]
  },
  {
   "cell_type": "markdown",
   "id": "278b8584",
   "metadata": {},
   "source": [
    "**4. What is the correct extension of the Python file ?**"
   ]
  },
  {
   "cell_type": "markdown",
   "id": "930703d0",
   "metadata": {},
   "source": [
    "Ans: **.py** is the correct extension of the Python file"
   ]
  },
  {
   "cell_type": "markdown",
   "id": "b8384f1d",
   "metadata": {},
   "source": [
    "**5. Is Python code compiled or interpreted ?**"
   ]
  },
  {
   "cell_type": "markdown",
   "id": "6ff7c97d",
   "metadata": {},
   "source": [
    "Ans: Python code is **interpreted**"
   ]
  },
  {
   "cell_type": "markdown",
   "id": "b0573d97",
   "metadata": {},
   "source": [
    "**6. Name a few blocks of code used to define in Python ?**"
   ]
  },
  {
   "cell_type": "markdown",
   "id": "02b28f70",
   "metadata": {},
   "source": [
    "Ans: \n",
    "\n",
    "* module\n",
    "\n",
    "* function body \n",
    "\n",
    "* class definition."
   ]
  },
  {
   "cell_type": "markdown",
   "id": "25ad2dbc",
   "metadata": {},
   "source": [
    "**7. State a character used to give single-line comments in Python ?**"
   ]
  },
  {
   "cell_type": "markdown",
   "id": "12fa99b5",
   "metadata": {},
   "source": [
    "Ans: **Hash symbol (#)** is used to give single-line comments in Python"
   ]
  },
  {
   "cell_type": "markdown",
   "id": "59083117",
   "metadata": {},
   "source": [
    "**8. Mention functions which can help us to find the version of Python that we are currently working on ?**"
   ]
  },
  {
   "cell_type": "markdown",
   "id": "24b34b45",
   "metadata": {},
   "source": [
    "Ans:"
   ]
  },
  {
   "cell_type": "code",
   "execution_count": 3,
   "id": "831b0c38",
   "metadata": {},
   "outputs": [
    {
     "name": "stdout",
     "output_type": "stream",
     "text": [
      "Python 3.10.6\r\n"
     ]
    }
   ],
   "source": [
    "!python3 --version"
   ]
  },
  {
   "cell_type": "code",
   "execution_count": 6,
   "id": "a786ff08",
   "metadata": {},
   "outputs": [
    {
     "data": {
      "text/plain": [
       "'3.10.6 (main, Nov 14 2022, 16:10:14) [GCC 11.3.0]'"
      ]
     },
     "execution_count": 6,
     "metadata": {},
     "output_type": "execute_result"
    }
   ],
   "source": [
    "import sys\n",
    "sys.version"
   ]
  },
  {
   "cell_type": "markdown",
   "id": "2dd8facc",
   "metadata": {},
   "source": [
    "**9. Python supports the creation of anonymous functions at runtime, using a construct called.....?**"
   ]
  },
  {
   "cell_type": "markdown",
   "id": "e68f4614",
   "metadata": {},
   "source": [
    "Ans: **lambda**"
   ]
  },
  {
   "cell_type": "markdown",
   "id": "5b1fb065",
   "metadata": {},
   "source": [
    "**10. What does pip stand for Python?**"
   ]
  },
  {
   "cell_type": "markdown",
   "id": "b5c2a21b",
   "metadata": {},
   "source": [
    "Ans: **pip** stands for **preferred installer program**"
   ]
  },
  {
   "cell_type": "markdown",
   "id": "53d8488a",
   "metadata": {},
   "source": [
    "**11. Mention a few built in functions in python ?**"
   ]
  },
  {
   "cell_type": "markdown",
   "id": "a78bc6b4",
   "metadata": {},
   "source": [
    "Ans: Few buit-in python functions are as follows:\n",
    "\n",
    "* **print()**\n",
    "\n",
    "* **type()**\n",
    "\n",
    "* **input()**\n",
    "\n",
    "* **max()**"
   ]
  },
  {
   "cell_type": "markdown",
   "id": "1b51cd46",
   "metadata": {},
   "source": [
    "**12. What is the maximum possible length of an identifier in python ?**"
   ]
  },
  {
   "cell_type": "markdown",
   "id": "4d7d789e",
   "metadata": {},
   "source": [
    "Ans: The maximum possible length of an identifier in python is **79 characters**."
   ]
  },
  {
   "cell_type": "markdown",
   "id": "234bec95",
   "metadata": {},
   "source": [
    "**13. What are the benefits of using Python ?**"
   ]
  },
  {
   "cell_type": "markdown",
   "id": "124024d2",
   "metadata": {},
   "source": [
    "Ans:\n",
    "\n",
    "* Python is an easy programming language to learn.\n",
    "\n",
    "* Python offers a wide range of libraries \n",
    "\n",
    "* Python has very concise syntax compared to other programming languages.\n",
    "\n",
    "* Another strength of python is its portability from one OS to another. One can run Python program across Windows, Mac OS, and Linux without modifying the code\n",
    "\n",
    "* Python is one of the most popular programming languages that has a large open source community\n",
    "\n",
    "* Python has a wide range of use cases across various domains"
   ]
  },
  {
   "cell_type": "markdown",
   "id": "b36c296a",
   "metadata": {},
   "source": [
    "**14. How is memory managed in Python ?**"
   ]
  },
  {
   "cell_type": "markdown",
   "id": "d5f6e834",
   "metadata": {},
   "source": [
    "Ans: \n",
    "\n",
    "Memory in Python is managed by **Python private heap space**. All Python objects and data structures are located in a private heap. This private heap is taken care of by Python Interpreter itself, and a programmer doesn't have access to this private heap."
   ]
  },
  {
   "cell_type": "markdown",
   "id": "c4918a2e",
   "metadata": {},
   "source": [
    "**15. How to install Python on windows and set path variables ?** "
   ]
  },
  {
   "cell_type": "markdown",
   "id": "0629561c",
   "metadata": {},
   "source": [
    "Ans: The detailed installation process of python on windows and setting up of path variables can be referred from [this link](https://feaforall.com/how-to-install-python-3-on-windows-and-set-the-path/)"
   ]
  },
  {
   "cell_type": "markdown",
   "id": "54bc7027",
   "metadata": {},
   "source": [
    "**16. Is indentation required in Python?**"
   ]
  },
  {
   "cell_type": "markdown",
   "id": "2cb1c556",
   "metadata": {},
   "source": [
    "Ans: Yes, indentation is required in python. Python uses indentation to indicate a block of code"
   ]
  }
 ],
 "metadata": {
  "kernelspec": {
   "display_name": "Python 3 (ipykernel)",
   "language": "python",
   "name": "python3"
  },
  "language_info": {
   "codemirror_mode": {
    "name": "ipython",
    "version": 3
   },
   "file_extension": ".py",
   "mimetype": "text/x-python",
   "name": "python",
   "nbconvert_exporter": "python",
   "pygments_lexer": "ipython3",
   "version": "3.10.6"
  }
 },
 "nbformat": 4,
 "nbformat_minor": 5
}
