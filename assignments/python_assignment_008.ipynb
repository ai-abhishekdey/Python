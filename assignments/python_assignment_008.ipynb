{
 "cells": [
  {
   "cell_type": "markdown",
   "id": "cad8f85d",
   "metadata": {},
   "source": [
    "## Python Assignment: 008"
   ]
  },
  {
   "cell_type": "markdown",
   "id": "67859dda",
   "metadata": {},
   "source": [
    "================================\n",
    "\n",
    "**Author: Abhishek Dey**\n",
    "\n",
    "================================"
   ]
  },
  {
   "cell_type": "markdown",
   "id": "41692bf3",
   "metadata": {},
   "source": [
    "**Q1. You are writing code for a company. The requirement of the company is that you create a python\n",
    "function that will check whether the password entered by the user is correct or not. The function should\n",
    "take the password as input and return the string “Valid Password” if the entered password follows the\n",
    "below-given password guidelines else it should return “Invalid Password”.**\n",
    "\n",
    "**Note:**\n",
    "\n",
    "1. The Password should contain at least two uppercase letters and at least two lowercase letters.\n",
    "2. The Password should contain at least a number and three special characters.\n",
    "3. The length of the password should be 10 characters long."
   ]
  },
  {
   "cell_type": "code",
   "execution_count": 26,
   "id": "4283d0a5",
   "metadata": {},
   "outputs": [],
   "source": [
    "def check_password(password):\n",
    "    \n",
    "\n",
    "    upper_count=0\n",
    "    lower_count=0\n",
    "    num_count=0\n",
    "    special_character_count=0\n",
    "    \n",
    "    special_charcters=\"~`!@#$%^&*()-_+=[]{}:;''<,>.?/\"\n",
    "    \n",
    "    pass_len=len(password)\n",
    "    \n",
    "    for i in password:\n",
    "        \n",
    "        \n",
    "        # Check upper case count\n",
    "        \n",
    "        if i.isupper()==True:\n",
    "            \n",
    "            upper_count=upper_count+1\n",
    "        \n",
    "        # Check lower case count\n",
    "        \n",
    "        \n",
    "        elif i.islower()==True:\n",
    "            \n",
    "            lower_count=lower_count+1\n",
    "        \n",
    "        \n",
    "        # Check number count\n",
    "        \n",
    "        elif i.isnumeric()==True:\n",
    "            \n",
    "            num_count=num_count+1\n",
    "        \n",
    "        \n",
    "        # Check special character count\n",
    "        \n",
    "        idx=special_charcters.find(i)\n",
    "        \n",
    "        if idx!=-1:\n",
    "            \n",
    "            special_character_count=special_character_count+1\n",
    "            \n",
    "        else:\n",
    "            \n",
    "            pass\n",
    "        \n",
    "    print(\"======================================\")\n",
    "    print(\"upper_count : \",upper_count)\n",
    "    print(\"lower_count : \",lower_count)\n",
    "    print(\"num_count : \",num_count)\n",
    "    print(\"special_character_count : \",special_character_count)\n",
    "    print(\"length of password: \",pass_len)\n",
    "    print(\"======================================\")\n",
    "    \n",
    "    # Check condition 1: \n",
    "    \n",
    "    # The Password should contain at least two uppercase letters and at least two lowercase letters.\n",
    "    \n",
    "    \n",
    "    if upper_count>=2 and lower_count>=2:\n",
    "        \n",
    "        condition1=True\n",
    "        \n",
    "        print(\"Condition 1: Passed\")\n",
    "        \n",
    "    else:\n",
    "        \n",
    "        condition1=False\n",
    "        \n",
    "        print(\"Condition 1: Failed\")\n",
    "        \n",
    "    \n",
    "    # Check condition 2: \n",
    "    \n",
    "    # The Password should contain at least a number and three special characters.\n",
    "    \n",
    "    if num_count>=1 and special_character_count>=3: \n",
    "        \n",
    "        \n",
    "        condition2=True\n",
    "        \n",
    "        print(\"Condition 2: Passed\")\n",
    "        \n",
    "    else:\n",
    "        \n",
    "        condition2=False\n",
    "        \n",
    "        print(\"Condition 2: Failed\")\n",
    "        \n",
    "    # Check condition 3: \n",
    "    \n",
    "    # The length of the password should be 10 characters long.\n",
    "        \n",
    "    if  pass_len>=10:\n",
    "        \n",
    "        \n",
    "        condition3=True\n",
    "        \n",
    "        print(\"Condition 3: Passed\")\n",
    "        \n",
    "    else:\n",
    "        \n",
    "        condition3=False\n",
    "        \n",
    "        print(\"Condition 3: Failed\")\n",
    "        \n",
    "    print(\"======================================\")\n",
    "    \n",
    "    if condition1 and condition2 and condition3:\n",
    "    \n",
    "        print(\"Valid Password\")\n",
    "        \n",
    "    else:\n",
    "        \n",
    "        print(\"Invalid Password\")\n",
    "        \n",
    "    print(\"======================================\")"
   ]
  },
  {
   "cell_type": "code",
   "execution_count": 27,
   "id": "8f109470",
   "metadata": {},
   "outputs": [
    {
     "name": "stdout",
     "output_type": "stream",
     "text": [
      "======================================\n",
      "upper_count :  5\n",
      "lower_count :  21\n",
      "num_count :  4\n",
      "special_character_count :  6\n",
      "length of password:  38\n",
      "======================================\n",
      "Condition 1: Passed\n",
      "Condition 2: Passed\n",
      "Condition 3: Passed\n",
      "======================================\n",
      "Valid Password\n",
      "======================================\n"
     ]
    }
   ],
   "source": [
    "check_password(\"%Hello#Wo2rld$%Wel4come 6To Engla^ng1#\")"
   ]
  },
  {
   "cell_type": "code",
   "execution_count": 28,
   "id": "02a8179e",
   "metadata": {},
   "outputs": [
    {
     "name": "stdout",
     "output_type": "stream",
     "text": [
      "======================================\n",
      "upper_count :  1\n",
      "lower_count :  9\n",
      "num_count :  0\n",
      "special_character_count :  1\n",
      "length of password:  11\n",
      "======================================\n",
      "Condition 1: Failed\n",
      "Condition 2: Failed\n",
      "Condition 3: Passed\n",
      "======================================\n",
      "Invalid Password\n",
      "======================================\n"
     ]
    }
   ],
   "source": [
    "check_password(\"%Helloworld\")"
   ]
  },
  {
   "cell_type": "code",
   "execution_count": 29,
   "id": "9df4e0d1",
   "metadata": {},
   "outputs": [
    {
     "name": "stdout",
     "output_type": "stream",
     "text": [
      "======================================\n",
      "upper_count :  1\n",
      "lower_count :  4\n",
      "num_count :  1\n",
      "special_character_count :  3\n",
      "length of password:  9\n",
      "======================================\n",
      "Condition 1: Failed\n",
      "Condition 2: Passed\n",
      "Condition 3: Failed\n",
      "======================================\n",
      "Invalid Password\n",
      "======================================\n"
     ]
    }
   ],
   "source": [
    "check_password(\"%Hello1#*\")"
   ]
  },
  {
   "cell_type": "markdown",
   "id": "7cc67f6b",
   "metadata": {},
   "source": [
    "**Q2. Solve the below-given questions using at least one of the following:**\n",
    "1. Lambda function\n",
    "2. Filter function\n",
    "3. Map function\n",
    "4. List Comprehension\n"
   ]
  },
  {
   "cell_type": "markdown",
   "id": "5b454d0b",
   "metadata": {},
   "source": [
    "**Check if the string starts with a particular letter**"
   ]
  },
  {
   "cell_type": "code",
   "execution_count": 43,
   "id": "bcecb932",
   "metadata": {},
   "outputs": [],
   "source": [
    "check_start_with_letter_A = lambda x : True if x[0]==\"A\" or x[0]==\"a\" else False"
   ]
  },
  {
   "cell_type": "code",
   "execution_count": 44,
   "id": "0d896984",
   "metadata": {},
   "outputs": [
    {
     "data": {
      "text/plain": [
       "True"
      ]
     },
     "execution_count": 44,
     "metadata": {},
     "output_type": "execute_result"
    }
   ],
   "source": [
    "check_start_with_letter_A(\"Alphabet\")"
   ]
  },
  {
   "cell_type": "code",
   "execution_count": 45,
   "id": "75a61337",
   "metadata": {},
   "outputs": [
    {
     "data": {
      "text/plain": [
       "True"
      ]
     },
     "execution_count": 45,
     "metadata": {},
     "output_type": "execute_result"
    }
   ],
   "source": [
    "check_start_with_letter_A(\"apple\")"
   ]
  },
  {
   "cell_type": "code",
   "execution_count": 46,
   "id": "2a897ccd",
   "metadata": {},
   "outputs": [
    {
     "data": {
      "text/plain": [
       "False"
      ]
     },
     "execution_count": 46,
     "metadata": {},
     "output_type": "execute_result"
    }
   ],
   "source": [
    "check_start_with_letter_A(\"Hello_world\")"
   ]
  },
  {
   "cell_type": "markdown",
   "id": "6470e7cd",
   "metadata": {},
   "source": [
    "**Check if the string is numeric**"
   ]
  },
  {
   "cell_type": "code",
   "execution_count": 51,
   "id": "5e9ffa0c",
   "metadata": {},
   "outputs": [],
   "source": [
    "check_numeric = lambda x : True if x.isnumeric()==True else False"
   ]
  },
  {
   "cell_type": "code",
   "execution_count": 52,
   "id": "5571241a",
   "metadata": {},
   "outputs": [
    {
     "data": {
      "text/plain": [
       "True"
      ]
     },
     "execution_count": 52,
     "metadata": {},
     "output_type": "execute_result"
    }
   ],
   "source": [
    "check_numeric(\"1\")"
   ]
  },
  {
   "cell_type": "code",
   "execution_count": 53,
   "id": "a8947188",
   "metadata": {},
   "outputs": [
    {
     "data": {
      "text/plain": [
       "False"
      ]
     },
     "execution_count": 53,
     "metadata": {},
     "output_type": "execute_result"
    }
   ],
   "source": [
    "check_numeric(\"hello world\")"
   ]
  },
  {
   "cell_type": "code",
   "execution_count": 54,
   "id": "9ae305be",
   "metadata": {},
   "outputs": [
    {
     "data": {
      "text/plain": [
       "True"
      ]
     },
     "execution_count": 54,
     "metadata": {},
     "output_type": "execute_result"
    }
   ],
   "source": [
    "check_numeric(\"134234\")"
   ]
  },
  {
   "cell_type": "code",
   "execution_count": 55,
   "id": "d11aaee1",
   "metadata": {},
   "outputs": [
    {
     "data": {
      "text/plain": [
       "False"
      ]
     },
     "execution_count": 55,
     "metadata": {},
     "output_type": "execute_result"
    }
   ],
   "source": [
    "check_numeric(\"erwer1dfjlk\")"
   ]
  },
  {
   "cell_type": "markdown",
   "id": "9f7d4e94",
   "metadata": {},
   "source": [
    "**Sort a list of tuples having fruit names and their quantity. [(\"mango\",99),(\"orange\",80), (\"grapes\", 1000)]**"
   ]
  },
  {
   "cell_type": "code",
   "execution_count": 56,
   "id": "8653a46a",
   "metadata": {},
   "outputs": [],
   "source": [
    "l= [(\"mango\",99),(\"orange\",80), (\"grapes\", 1000)]"
   ]
  },
  {
   "cell_type": "code",
   "execution_count": 57,
   "id": "0cedf34f",
   "metadata": {},
   "outputs": [],
   "source": [
    "l.sort(key=lambda x:x[1])"
   ]
  },
  {
   "cell_type": "code",
   "execution_count": 58,
   "id": "945626cf",
   "metadata": {},
   "outputs": [
    {
     "data": {
      "text/plain": [
       "[('orange', 80), ('mango', 99), ('grapes', 1000)]"
      ]
     },
     "execution_count": 58,
     "metadata": {},
     "output_type": "execute_result"
    }
   ],
   "source": [
    "l"
   ]
  },
  {
   "cell_type": "markdown",
   "id": "c430faf3",
   "metadata": {},
   "source": [
    "**Find the squares of numbers from 1 to 10**"
   ]
  },
  {
   "cell_type": "code",
   "execution_count": 118,
   "id": "e8cc58d1",
   "metadata": {},
   "outputs": [
    {
     "data": {
      "text/plain": [
       "[1, 4, 9, 16, 25, 36, 49, 64, 81, 100]"
      ]
     },
     "execution_count": 118,
     "metadata": {},
     "output_type": "execute_result"
    }
   ],
   "source": [
    "[i**2 for i in range(1,11)]"
   ]
  },
  {
   "cell_type": "markdown",
   "id": "b2b15bc0",
   "metadata": {},
   "source": [
    "**Find the cube root of numbers from 1 to 10**"
   ]
  },
  {
   "cell_type": "code",
   "execution_count": 119,
   "id": "5e5a60a5",
   "metadata": {},
   "outputs": [
    {
     "data": {
      "text/plain": [
       "[1.0,\n",
       " 1.2599210498948732,\n",
       " 1.4422495703074083,\n",
       " 1.5874010519681994,\n",
       " 1.7099759466766968,\n",
       " 1.8171205928321397,\n",
       " 1.912931182772389,\n",
       " 2.0,\n",
       " 2.080083823051904,\n",
       " 2.154434690031884]"
      ]
     },
     "execution_count": 119,
     "metadata": {},
     "output_type": "execute_result"
    }
   ],
   "source": [
    "[i**(1/3) for i in range(1,11)]"
   ]
  },
  {
   "cell_type": "markdown",
   "id": "2e6c33d3",
   "metadata": {},
   "source": [
    "**Check if a given number is even**"
   ]
  },
  {
   "cell_type": "code",
   "execution_count": 68,
   "id": "723caab0",
   "metadata": {},
   "outputs": [],
   "source": [
    "check_even = lambda x: True if x%2==0 else False"
   ]
  },
  {
   "cell_type": "code",
   "execution_count": 69,
   "id": "afa21d98",
   "metadata": {},
   "outputs": [
    {
     "data": {
      "text/plain": [
       "True"
      ]
     },
     "execution_count": 69,
     "metadata": {},
     "output_type": "execute_result"
    }
   ],
   "source": [
    "check_even(2)"
   ]
  },
  {
   "cell_type": "code",
   "execution_count": 70,
   "id": "e01e0a46",
   "metadata": {},
   "outputs": [
    {
     "data": {
      "text/plain": [
       "True"
      ]
     },
     "execution_count": 70,
     "metadata": {},
     "output_type": "execute_result"
    }
   ],
   "source": [
    "check_even(42345454552)"
   ]
  },
  {
   "cell_type": "code",
   "execution_count": 71,
   "id": "d5a2935d",
   "metadata": {},
   "outputs": [
    {
     "data": {
      "text/plain": [
       "False"
      ]
     },
     "execution_count": 71,
     "metadata": {},
     "output_type": "execute_result"
    }
   ],
   "source": [
    "check_even(2343214351221)"
   ]
  },
  {
   "cell_type": "markdown",
   "id": "6fbdf6eb",
   "metadata": {},
   "source": [
    "**Filter odd numbers from the given list.**\n",
    "[1,2,3,4,5,6,7,8,9,10]"
   ]
  },
  {
   "cell_type": "code",
   "execution_count": 74,
   "id": "4679f465",
   "metadata": {},
   "outputs": [
    {
     "data": {
      "text/plain": [
       "[1, 3, 5, 7, 9]"
      ]
     },
     "execution_count": 74,
     "metadata": {},
     "output_type": "execute_result"
    }
   ],
   "source": [
    "l=[1,2,3,4,5,6,7,8,9,10]\n",
    "\n",
    "list(filter(lambda x:x%2!=0,l))"
   ]
  },
  {
   "cell_type": "markdown",
   "id": "5b3d5848",
   "metadata": {},
   "source": [
    "**Sort a list of integers into positive and negative integers lists.**\n",
    "[1,2,3,4,5,6,-1,-2,-3,-4,-5,0]"
   ]
  },
  {
   "cell_type": "code",
   "execution_count": 115,
   "id": "022f3d88",
   "metadata": {},
   "outputs": [],
   "source": [
    "l=[1,2,3,4,5,6,-1,-2,-3,-4,-5,0]\n",
    "\n",
    "positive_int=list(filter(lambda x:x>=0,l))\n",
    "negative_int=list(filter(lambda x:x<0,l))\n",
    "\n",
    "positive_int.sort()\n",
    "negative_int.sort()"
   ]
  },
  {
   "cell_type": "code",
   "execution_count": 116,
   "id": "d999528a",
   "metadata": {},
   "outputs": [
    {
     "data": {
      "text/plain": [
       "[0, 1, 2, 3, 4, 5, 6]"
      ]
     },
     "execution_count": 116,
     "metadata": {},
     "output_type": "execute_result"
    }
   ],
   "source": [
    "positive_int"
   ]
  },
  {
   "cell_type": "code",
   "execution_count": 117,
   "id": "b08903b4",
   "metadata": {},
   "outputs": [
    {
     "data": {
      "text/plain": [
       "[-5, -4, -3, -2, -1]"
      ]
     },
     "execution_count": 117,
     "metadata": {},
     "output_type": "execute_result"
    }
   ],
   "source": [
    "negative_int"
   ]
  },
  {
   "cell_type": "code",
   "execution_count": null,
   "id": "62902685",
   "metadata": {},
   "outputs": [],
   "source": []
  }
 ],
 "metadata": {
  "kernelspec": {
   "display_name": "Python 3 (ipykernel)",
   "language": "python",
   "name": "python3"
  },
  "language_info": {
   "codemirror_mode": {
    "name": "ipython",
    "version": 3
   },
   "file_extension": ".py",
   "mimetype": "text/x-python",
   "name": "python",
   "nbconvert_exporter": "python",
   "pygments_lexer": "ipython3",
   "version": "3.10.6"
  }
 },
 "nbformat": 4,
 "nbformat_minor": 5
}
