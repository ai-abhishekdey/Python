{
 "cells": [
  {
   "cell_type": "markdown",
   "id": "0ba1d01d",
   "metadata": {},
   "source": [
    "## Python Assignment : 5"
   ]
  },
  {
   "cell_type": "markdown",
   "id": "7549cf88",
   "metadata": {},
   "source": [
    "====================================\n",
    "\n",
    "**Author: Abhishek Dey**\n",
    "\n",
    "===================================="
   ]
  },
  {
   "cell_type": "markdown",
   "id": "e7fefb59",
   "metadata": {},
   "source": [
    "**1. Create a python program to sort the given list of tuples based on integer value using lambda function**\n"
   ]
  },
  {
   "cell_type": "code",
   "execution_count": 1,
   "id": "4cbc868d",
   "metadata": {},
   "outputs": [],
   "source": [
    "l=[('Sachin Tendulkar',34357),('Ricky Ponting',27483),('Jack Kallis',25534),('Virat Kohli',24936)]"
   ]
  },
  {
   "cell_type": "code",
   "execution_count": 2,
   "id": "a708adc8",
   "metadata": {},
   "outputs": [],
   "source": [
    "l.sort(key=lambda x:x[1])"
   ]
  },
  {
   "cell_type": "code",
   "execution_count": 3,
   "id": "99e3dcd7",
   "metadata": {},
   "outputs": [
    {
     "name": "stdout",
     "output_type": "stream",
     "text": [
      "[('Virat Kohli', 24936), ('Jack Kallis', 25534), ('Ricky Ponting', 27483), ('Sachin Tendulkar', 34357)]\n"
     ]
    }
   ],
   "source": [
    "print(l)"
   ]
  },
  {
   "cell_type": "markdown",
   "id": "fdd877a4",
   "metadata": {},
   "source": [
    "**2. Write a Python program to find the squares of all the numbers in the given list of integers using lambda and map fuctions**"
   ]
  },
  {
   "cell_type": "code",
   "execution_count": 4,
   "id": "b0d2d2c6",
   "metadata": {},
   "outputs": [],
   "source": [
    "l=[1,2,3,4,5,6,7,8,9,10]"
   ]
  },
  {
   "cell_type": "code",
   "execution_count": 5,
   "id": "41a5f982",
   "metadata": {},
   "outputs": [
    {
     "data": {
      "text/plain": [
       "[1, 4, 9, 16, 25, 36, 49, 64, 81, 100]"
      ]
     },
     "execution_count": 5,
     "metadata": {},
     "output_type": "execute_result"
    }
   ],
   "source": [
    "list(map(lambda x:x**2,l))"
   ]
  },
  {
   "cell_type": "markdown",
   "id": "8d58407b",
   "metadata": {},
   "source": [
    "**3. Write a python program to convert the given list of integers into a tuple of strings. Use map and lambda functions**"
   ]
  },
  {
   "cell_type": "code",
   "execution_count": 6,
   "id": "0d71ded7",
   "metadata": {},
   "outputs": [],
   "source": [
    "l=[1,2,3,4,5,6,7,8,9,10]"
   ]
  },
  {
   "cell_type": "code",
   "execution_count": 7,
   "id": "de6e3744",
   "metadata": {},
   "outputs": [
    {
     "data": {
      "text/plain": [
       "('1', '2', '3', '4', '5', '6', '7', '8', '9', '10')"
      ]
     },
     "execution_count": 7,
     "metadata": {},
     "output_type": "execute_result"
    }
   ],
   "source": [
    "tuple(map(lambda x:str(x),l))"
   ]
  },
  {
   "cell_type": "markdown",
   "id": "d5c19058",
   "metadata": {},
   "source": [
    "**4. Write a Python program using reduce function to compute the product of a list containing numbers from 1 to 25**"
   ]
  },
  {
   "cell_type": "code",
   "execution_count": 8,
   "id": "23487e35",
   "metadata": {},
   "outputs": [],
   "source": [
    "l=[i for i in range(1,26)]"
   ]
  },
  {
   "cell_type": "code",
   "execution_count": 9,
   "id": "60b1755d",
   "metadata": {},
   "outputs": [
    {
     "name": "stdout",
     "output_type": "stream",
     "text": [
      "[1, 2, 3, 4, 5, 6, 7, 8, 9, 10, 11, 12, 13, 14, 15, 16, 17, 18, 19, 20, 21, 22, 23, 24, 25]\n"
     ]
    }
   ],
   "source": [
    "print(l)"
   ]
  },
  {
   "cell_type": "code",
   "execution_count": 10,
   "id": "c1c7e5e9",
   "metadata": {},
   "outputs": [
    {
     "data": {
      "text/plain": [
       "15511210043330985984000000"
      ]
     },
     "execution_count": 10,
     "metadata": {},
     "output_type": "execute_result"
    }
   ],
   "source": [
    "from functools import reduce\n",
    "\n",
    "reduce(lambda a,b:a*b,l)"
   ]
  },
  {
   "cell_type": "markdown",
   "id": "8ee2f9d3",
   "metadata": {},
   "source": [
    "**5. Write a python program to filter the numbers in a given list that are divisible by 2 and 3 using the filter function**"
   ]
  },
  {
   "cell_type": "code",
   "execution_count": 11,
   "id": "2e7889fe",
   "metadata": {},
   "outputs": [],
   "source": [
    "l=[2,3,6,9,27,60,90,120,55,46]"
   ]
  },
  {
   "cell_type": "code",
   "execution_count": 12,
   "id": "dae0bfa0",
   "metadata": {},
   "outputs": [],
   "source": [
    "a=list(filter(lambda x:x%2==0,l))\n",
    "\n",
    "b=list(filter(lambda x:x%3==0,l))\n",
    "\n",
    "c=list(filter(lambda x:x%2==0 and x%3==0,l))\n",
    "\n",
    "d=list(filter(lambda x:x%2==0 or x%3==0,l))"
   ]
  },
  {
   "cell_type": "code",
   "execution_count": 13,
   "id": "b968acda",
   "metadata": {},
   "outputs": [
    {
     "name": "stdout",
     "output_type": "stream",
     "text": [
      "List of numbers only divisible by 2 :  [2, 6, 60, 90, 120, 46]\n",
      "List of numbers only divisible by 3 :  [3, 6, 9, 27, 60, 90, 120]\n",
      "List of numbers divisible by both 2 and 3 :  [6, 60, 90, 120]\n",
      "List of numbers divisible either by 2 or 3 :  [2, 3, 6, 9, 27, 60, 90, 120, 46]\n"
     ]
    }
   ],
   "source": [
    "print(\"List of numbers only divisible by 2 : \",a)\n",
    "print(\"List of numbers only divisible by 3 : \",b)\n",
    "print(\"List of numbers divisible by both 2 and 3 : \",c)\n",
    "print(\"List of numbers divisible either by 2 or 3 : \",d)"
   ]
  },
  {
   "cell_type": "markdown",
   "id": "a2b7ba7d",
   "metadata": {},
   "source": [
    "**6. Write a python program to find palindromes in the given strings using lambda and filter function**"
   ]
  },
  {
   "cell_type": "code",
   "execution_count": 14,
   "id": "e008268f",
   "metadata": {},
   "outputs": [],
   "source": [
    "l=['python','pip','aba','radar','level']"
   ]
  },
  {
   "cell_type": "code",
   "execution_count": 15,
   "id": "a14ff44a",
   "metadata": {},
   "outputs": [
    {
     "data": {
      "text/plain": [
       "['pip', 'aba', 'radar', 'level']"
      ]
     },
     "execution_count": 15,
     "metadata": {},
     "output_type": "execute_result"
    }
   ],
   "source": [
    "list(filter(lambda x:x==x[::-1],l))"
   ]
  },
  {
   "cell_type": "code",
   "execution_count": null,
   "id": "d209c9ec",
   "metadata": {},
   "outputs": [],
   "source": []
  }
 ],
 "metadata": {
  "kernelspec": {
   "display_name": "Python 3 (ipykernel)",
   "language": "python",
   "name": "python3"
  },
  "language_info": {
   "codemirror_mode": {
    "name": "ipython",
    "version": 3
   },
   "file_extension": ".py",
   "mimetype": "text/x-python",
   "name": "python",
   "nbconvert_exporter": "python",
   "pygments_lexer": "ipython3",
   "version": "3.10.6"
  }
 },
 "nbformat": 4,
 "nbformat_minor": 5
}
