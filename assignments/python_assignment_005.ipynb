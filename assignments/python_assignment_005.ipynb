{
 "cells": [
  {
   "cell_type": "markdown",
   "id": "84c17533",
   "metadata": {},
   "source": [
    "## Python Assignment : 5"
   ]
  },
  {
   "cell_type": "markdown",
   "id": "5d2043a6",
   "metadata": {},
   "source": [
    "====================================\n",
    "\n",
    "**Author: Abhishek Dey**\n",
    "\n",
    "===================================="
   ]
  },
  {
   "cell_type": "markdown",
   "id": "c2c7e9e2",
   "metadata": {},
   "source": [
    "**1. Create a python program to sort the given list of tuples based on integer value using lambda function**\n"
   ]
  },
  {
   "cell_type": "code",
   "execution_count": null,
   "id": "6f78c36e",
   "metadata": {},
   "outputs": [],
   "source": [
    "l=[('Sachin Tendulkar',34357),('Ricky Ponting',27483),('Jack Kallis',25534),('Virat Kohli',24936)]"
   ]
  },
  {
   "cell_type": "code",
   "execution_count": null,
   "id": "3411c143",
   "metadata": {},
   "outputs": [],
   "source": [
    "l.sort(key=lambda x:x[1])"
   ]
  },
  {
   "cell_type": "code",
   "execution_count": null,
   "id": "8e83d1e1",
   "metadata": {},
   "outputs": [],
   "source": [
    "print(l)"
   ]
  },
  {
   "cell_type": "markdown",
   "id": "8c34a00a",
   "metadata": {},
   "source": [
    "**2. Write a Python program to find the squares of all the numbers in the given list of integers using lambda and map fuctions**"
   ]
  },
  {
   "cell_type": "code",
   "execution_count": null,
   "id": "e17ba190",
   "metadata": {},
   "outputs": [],
   "source": [
    "l=[1,2,3,4,5,6,7,8,9,10]"
   ]
  },
  {
   "cell_type": "code",
   "execution_count": null,
   "id": "15ea2ca8",
   "metadata": {},
   "outputs": [],
   "source": [
    "list(map(lambda x:x**2,l))"
   ]
  },
  {
   "cell_type": "markdown",
   "id": "4e349804",
   "metadata": {},
   "source": [
    "**3. Write a python program to convert the given list of integers into a tuple of strings. Use map and lambda functions**"
   ]
  },
  {
   "cell_type": "code",
   "execution_count": null,
   "id": "cd90424d",
   "metadata": {},
   "outputs": [],
   "source": [
    "l=[1,2,3,4,5,6,7,8,9,10]"
   ]
  },
  {
   "cell_type": "code",
   "execution_count": null,
   "id": "c16df66f",
   "metadata": {},
   "outputs": [],
   "source": [
    "tuple(map(lambda x:str(x),l))"
   ]
  },
  {
   "cell_type": "markdown",
   "id": "1efefb3e",
   "metadata": {},
   "source": [
    "**4. Write a Python program using reduce function to compute the product of a list containing numbers from 1 to 25**"
   ]
  },
  {
   "cell_type": "code",
   "execution_count": null,
   "id": "9a7783fe",
   "metadata": {},
   "outputs": [],
   "source": [
    "l=[i for i in range(1,26)]"
   ]
  },
  {
   "cell_type": "code",
   "execution_count": null,
   "id": "383c8522",
   "metadata": {},
   "outputs": [],
   "source": [
    "print(l)"
   ]
  },
  {
   "cell_type": "code",
   "execution_count": null,
   "id": "d6cc041a",
   "metadata": {},
   "outputs": [],
   "source": [
    "from functools import reduce\n",
    "\n",
    "reduce(lambda a,b:a*b,l)"
   ]
  },
  {
   "cell_type": "markdown",
   "id": "d80cc146",
   "metadata": {},
   "source": [
    "**5. Write a python program to filter the numbers in a given list that are divisible by 2 and 3 using the filter function**"
   ]
  },
  {
   "cell_type": "code",
   "execution_count": null,
   "id": "8fb821e5",
   "metadata": {},
   "outputs": [],
   "source": [
    "l=[2,3,6,9,27,60,90,120,55,46]"
   ]
  },
  {
   "cell_type": "code",
   "execution_count": null,
   "id": "1c77da21",
   "metadata": {},
   "outputs": [],
   "source": [
    "a=list(filter(lambda x:x%2==0,l))\n",
    "\n",
    "b=list(filter(lambda x:x%3==0,l))\n",
    "\n",
    "c=list(filter(lambda x:x%2==0 and x%3==0,l))\n",
    "\n",
    "d=list(filter(lambda x:x%2==0 or x%3==0,l))"
   ]
  },
  {
   "cell_type": "code",
   "execution_count": null,
   "id": "f448763a",
   "metadata": {},
   "outputs": [],
   "source": [
    "print(\"List of numbers only divisible by 2 : \",a)\n",
    "print(\"List of numbers only divisible by 3 : \",b)\n",
    "print(\"List of numbers only divisible by both 2 and 3 : \",c)\n",
    "print(\"List of numbers only divisible either by 2 or 3 : \",d)"
   ]
  },
  {
   "cell_type": "markdown",
   "id": "a9923da4",
   "metadata": {},
   "source": [
    "**6. Write a python program to find palindromes in the given strings using lambda and filter function**"
   ]
  },
  {
   "cell_type": "code",
   "execution_count": null,
   "id": "8aa09662",
   "metadata": {},
   "outputs": [],
   "source": [
    "l=['python','pip','aba','radar','level']"
   ]
  },
  {
   "cell_type": "code",
   "execution_count": null,
   "id": "3982efe4",
   "metadata": {},
   "outputs": [],
   "source": [
    "list(filter(lambda x:x==x[::-1],l))"
   ]
  },
  {
   "cell_type": "code",
   "execution_count": null,
   "id": "96561082",
   "metadata": {},
   "outputs": [],
   "source": []
  }
 ],
 "metadata": {
  "kernelspec": {
   "display_name": "Python 3 (ipykernel)",
   "language": "python",
   "name": "python3"
  },
  "language_info": {
   "codemirror_mode": {
    "name": "ipython",
    "version": 3
   },
   "file_extension": ".py",
   "mimetype": "text/x-python",
   "name": "python",
   "nbconvert_exporter": "python",
   "pygments_lexer": "ipython3",
   "version": "3.10.6"
  }
 },
 "nbformat": 4,
 "nbformat_minor": 5
}
