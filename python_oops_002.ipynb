{
 "cells": [
  {
   "cell_type": "markdown",
   "id": "7aef9e1b",
   "metadata": {},
   "source": [
    "## Python OOPS : 002 "
   ]
  },
  {
   "cell_type": "markdown",
   "id": "eb205521",
   "metadata": {},
   "source": [
    "===================================\n",
    "\n",
    "**Author: Abhishek Dey**\n",
    "\n",
    "==================================="
   ]
  },
  {
   "cell_type": "markdown",
   "id": "4691ecf9",
   "metadata": {},
   "source": [
    "### Contents:\n",
    "\n",
    "* Polymorphism\n",
    "\n"
   ]
  },
  {
   "cell_type": "markdown",
   "id": "ce1103cb",
   "metadata": {},
   "source": [
    "## Four Pillars of OOPS:"
   ]
  },
  {
   "cell_type": "markdown",
   "id": "8b6998b0",
   "metadata": {},
   "source": [
    "* Polymorphism\n",
    "\n",
    "* Encapsulation\n",
    "\n",
    "* Inheritence\n",
    "\n",
    "* Abstraction"
   ]
  },
  {
   "cell_type": "markdown",
   "id": "fedb6dc8",
   "metadata": {},
   "source": [
    "## Polymorphism"
   ]
  },
  {
   "cell_type": "markdown",
   "id": "42444e33",
   "metadata": {},
   "source": [
    "* In Polymorphism, same function name in multiple class has multiple behaviors"
   ]
  },
  {
   "cell_type": "markdown",
   "id": "7dc3dab7",
   "metadata": {},
   "source": [
    "### Eample : 1"
   ]
  },
  {
   "cell_type": "code",
   "execution_count": 2,
   "id": "18ab8127",
   "metadata": {},
   "outputs": [],
   "source": [
    "class india:\n",
    "    \n",
    "    def captain(self):\n",
    "        print(\"Captain : Rohit Sharma\")\n",
    "        \n",
    "    def coach(self):\n",
    "        print(\"Coach : Rahul Dravid\")\n",
    "        \n",
    "    def board(self):\n",
    "        print(\"Board : BCCI\")\n",
    "        \n",
    "class pakistan:\n",
    "    \n",
    "    def captain(self):\n",
    "        print(\"Captain : Babar Azam\")\n",
    "        \n",
    "    def coach(self):\n",
    "        print(\"Coach : Mathew Hayden\")\n",
    "        \n",
    "    def board(self):\n",
    "        print(\"Board : PCB\")\n",
    "        \n",
    "        "
   ]
  },
  {
   "cell_type": "code",
   "execution_count": 6,
   "id": "0adc4390",
   "metadata": {},
   "outputs": [],
   "source": [
    "india_obj = india()\n",
    "pak_obj = pakistan()"
   ]
  },
  {
   "cell_type": "code",
   "execution_count": 4,
   "id": "1c993eb7",
   "metadata": {},
   "outputs": [
    {
     "name": "stdout",
     "output_type": "stream",
     "text": [
      "Captain : Rohit Sharma\n"
     ]
    }
   ],
   "source": [
    "india_obj.captain()"
   ]
  },
  {
   "cell_type": "code",
   "execution_count": 8,
   "id": "7dc3fc87",
   "metadata": {},
   "outputs": [
    {
     "name": "stdout",
     "output_type": "stream",
     "text": [
      "Captain : Babar Azam\n"
     ]
    }
   ],
   "source": [
    "pak_obj.captain()"
   ]
  },
  {
   "cell_type": "code",
   "execution_count": 9,
   "id": "7d3377ee",
   "metadata": {},
   "outputs": [
    {
     "name": "stdout",
     "output_type": "stream",
     "text": [
      "Board : BCCI\n"
     ]
    }
   ],
   "source": [
    "india_obj.board()"
   ]
  },
  {
   "cell_type": "code",
   "execution_count": 10,
   "id": "245c00eb",
   "metadata": {},
   "outputs": [
    {
     "name": "stdout",
     "output_type": "stream",
     "text": [
      "Board : PCB\n"
     ]
    }
   ],
   "source": [
    "pak_obj.board()"
   ]
  },
  {
   "cell_type": "markdown",
   "id": "423d3d02",
   "metadata": {},
   "source": [
    "### Note: Fuctions \"captain(), coach(), board()\" has multiple behavoirs in different classes"
   ]
  },
  {
   "cell_type": "markdown",
   "id": "baec4007",
   "metadata": {},
   "source": [
    "### Example: 2"
   ]
  },
  {
   "cell_type": "code",
   "execution_count": 11,
   "id": "68115927",
   "metadata": {},
   "outputs": [],
   "source": [
    "class home:\n",
    "    \n",
    "    def role(self):\n",
    "        print(\"Role: son\")\n",
    "        \n",
    "class office:\n",
    "    \n",
    "    def role(self):\n",
    "        print(\"Role: employee\")\n",
    "        \n",
    "class field:\n",
    "    \n",
    "    def role(self):\n",
    "        print(\"Role : player\")"
   ]
  },
  {
   "cell_type": "code",
   "execution_count": 12,
   "id": "a915d752",
   "metadata": {},
   "outputs": [],
   "source": [
    "home_obj = home()\n",
    "office_obj = office()\n",
    "field_obj = field()"
   ]
  },
  {
   "cell_type": "code",
   "execution_count": 13,
   "id": "501a25be",
   "metadata": {},
   "outputs": [
    {
     "name": "stdout",
     "output_type": "stream",
     "text": [
      "Role: son\n"
     ]
    }
   ],
   "source": [
    "home_obj.role()"
   ]
  },
  {
   "cell_type": "code",
   "execution_count": 14,
   "id": "02ec8ff2",
   "metadata": {},
   "outputs": [
    {
     "name": "stdout",
     "output_type": "stream",
     "text": [
      "Role: employee\n"
     ]
    }
   ],
   "source": [
    "office_obj.role()"
   ]
  },
  {
   "cell_type": "code",
   "execution_count": 15,
   "id": "31a3fb2e",
   "metadata": {},
   "outputs": [
    {
     "name": "stdout",
     "output_type": "stream",
     "text": [
      "Role : player\n"
     ]
    }
   ],
   "source": [
    "field_obj.role()"
   ]
  },
  {
   "cell_type": "markdown",
   "id": "86679330",
   "metadata": {},
   "source": [
    "### Note: Function \"role()\" has multiple behavoirs in different classes \"home,office,field\""
   ]
  },
  {
   "cell_type": "code",
   "execution_count": null,
   "id": "ceaf0e1b",
   "metadata": {},
   "outputs": [],
   "source": []
  }
 ],
 "metadata": {
  "kernelspec": {
   "display_name": "Python 3 (ipykernel)",
   "language": "python",
   "name": "python3"
  },
  "language_info": {
   "codemirror_mode": {
    "name": "ipython",
    "version": 3
   },
   "file_extension": ".py",
   "mimetype": "text/x-python",
   "name": "python",
   "nbconvert_exporter": "python",
   "pygments_lexer": "ipython3",
   "version": "3.10.6"
  }
 },
 "nbformat": 4,
 "nbformat_minor": 5
}
