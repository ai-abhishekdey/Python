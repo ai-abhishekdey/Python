{
 "cells": [
  {
   "cell_type": "markdown",
   "id": "16183cec",
   "metadata": {},
   "source": [
    "## File Handling in python\n",
    "\n",
    "=================================\n",
    "\n",
    "**Author: Abhishek Dey**\n",
    "\n",
    "================================="
   ]
  },
  {
   "cell_type": "markdown",
   "id": "4abca6c9",
   "metadata": {},
   "source": [
    "## Reading data from a text file"
   ]
  },
  {
   "cell_type": "markdown",
   "id": "45073ba6",
   "metadata": {},
   "source": [
    "### First open a file in read mode"
   ]
  },
  {
   "cell_type": "code",
   "execution_count": 5,
   "id": "66c8879b",
   "metadata": {},
   "outputs": [],
   "source": [
    "f1 = open(\"sample1.txt\",\"r\")"
   ]
  },
  {
   "cell_type": "markdown",
   "id": "cf57633a",
   "metadata": {},
   "source": [
    "### Reading the contents in the file"
   ]
  },
  {
   "cell_type": "code",
   "execution_count": 6,
   "id": "292abead",
   "metadata": {},
   "outputs": [],
   "source": [
    "contents = f1.read()"
   ]
  },
  {
   "cell_type": "markdown",
   "id": "addfa36a",
   "metadata": {},
   "source": [
    "### Displaying the contents read from the file"
   ]
  },
  {
   "cell_type": "code",
   "execution_count": 7,
   "id": "9c02a398",
   "metadata": {},
   "outputs": [
    {
     "name": "stdout",
     "output_type": "stream",
     "text": [
      "Python is an interpreted, object-oriented, high-level programming language with dynamic semantics. Its high-level built in data structures, combined with dynamic typing and dynamic binding, make it very attractive for Rapid Application Development, as well as for use as a scripting or glue language to connect existing components together. Python's simple, easy to learn syntax emphasizes readability and therefore reduces the cost of program maintenance. Python supports modules and packages, which encourages program modularity and code reuse. The Python interpreter and the extensive standard library are available in source or binary form without charge for all major platforms, and can be freely distributed.\n",
      "\n",
      "Often, programmers fall in love with Python because of the increased productivity it provides. Since there is no compilation step, the edit-test-debug cycle is incredibly fast. Debugging Python programs is easy: a bug or bad input will never cause a segmentation fault. Instead, when the interpreter discovers an error, it raises an exception. When the program doesn't catch the exception, the interpreter prints a stack trace. A source level debugger allows inspection of local and global variables, evaluation of arbitrary expressions, setting breakpoints, stepping through the code a line at a time, and so on. The debugger is written in Python itself, testifying to Python's introspective power. On the other hand, often the quickest way to debug a program is to add a few print statements to the source: the fast edit-test-debug cycle makes this simple approach very effective.\n",
      "\n"
     ]
    }
   ],
   "source": [
    "print(contents)"
   ]
  },
  {
   "cell_type": "markdown",
   "id": "e0118ff3",
   "metadata": {},
   "source": [
    "### Closing the file"
   ]
  },
  {
   "cell_type": "code",
   "execution_count": 8,
   "id": "8e47d8f5",
   "metadata": {},
   "outputs": [],
   "source": [
    "f1.close()"
   ]
  },
  {
   "cell_type": "markdown",
   "id": "47149ce8",
   "metadata": {},
   "source": [
    "### Adding some more content"
   ]
  },
  {
   "cell_type": "code",
   "execution_count": 9,
   "id": "ab3d4d6c",
   "metadata": {},
   "outputs": [],
   "source": [
    "additional_content = \"Thank you for reading ! Have a great day ahead\""
   ]
  },
  {
   "cell_type": "code",
   "execution_count": 15,
   "id": "c787f59b",
   "metadata": {},
   "outputs": [],
   "source": [
    "new_content = content  + \"\\n\" +  additional_content"
   ]
  },
  {
   "cell_type": "code",
   "execution_count": 16,
   "id": "aff0a5e7",
   "metadata": {},
   "outputs": [
    {
     "name": "stdout",
     "output_type": "stream",
     "text": [
      "Python is an interpreted, object-oriented, high-level programming language with dynamic semantics. Its high-level built in data structures, combined with dynamic typing and dynamic binding, make it very attractive for Rapid Application Development, as well as for use as a scripting or glue language to connect existing components together. Python's simple, easy to learn syntax emphasizes readability and therefore reduces the cost of program maintenance. Python supports modules and packages, which encourages program modularity and code reuse. The Python interpreter and the extensive standard library are available in source or binary form without charge for all major platforms, and can be freely distributed.\n",
      "\n",
      "Often, programmers fall in love with Python because of the increased productivity it provides. Since there is no compilation step, the edit-test-debug cycle is incredibly fast. Debugging Python programs is easy: a bug or bad input will never cause a segmentation fault. Instead, when the interpreter discovers an error, it raises an exception. When the program doesn't catch the exception, the interpreter prints a stack trace. A source level debugger allows inspection of local and global variables, evaluation of arbitrary expressions, setting breakpoints, stepping through the code a line at a time, and so on. The debugger is written in Python itself, testifying to Python's introspective power. On the other hand, often the quickest way to debug a program is to add a few print statements to the source: the fast edit-test-debug cycle makes this simple approach very effective.\n",
      "\n",
      "Thank you for reading ! Have a great day ahead\n"
     ]
    }
   ],
   "source": [
    "print(new_content)"
   ]
  },
  {
   "cell_type": "markdown",
   "id": "b9737cf0",
   "metadata": {},
   "source": [
    "## Write the new content in a text file"
   ]
  },
  {
   "cell_type": "markdown",
   "id": "8f53d157",
   "metadata": {},
   "source": [
    "### First open a new file in write mode"
   ]
  },
  {
   "cell_type": "code",
   "execution_count": 18,
   "id": "7a30b878",
   "metadata": {},
   "outputs": [],
   "source": [
    "f2=open(\"sample2.txt\",\"w\")"
   ]
  },
  {
   "cell_type": "markdown",
   "id": "412d112f",
   "metadata": {},
   "source": [
    "### Write the new content"
   ]
  },
  {
   "cell_type": "code",
   "execution_count": 19,
   "id": "1039f25e",
   "metadata": {},
   "outputs": [
    {
     "data": {
      "text/plain": [
       "1646"
      ]
     },
     "execution_count": 19,
     "metadata": {},
     "output_type": "execute_result"
    }
   ],
   "source": [
    "f2.write(new_content)"
   ]
  },
  {
   "cell_type": "markdown",
   "id": "97860732",
   "metadata": {},
   "source": [
    "### Close the file after writing"
   ]
  },
  {
   "cell_type": "code",
   "execution_count": 20,
   "id": "29f3af5e",
   "metadata": {},
   "outputs": [],
   "source": [
    "f2.close()"
   ]
  },
  {
   "cell_type": "code",
   "execution_count": null,
   "id": "374fc974",
   "metadata": {},
   "outputs": [],
   "source": []
  }
 ],
 "metadata": {
  "kernelspec": {
   "display_name": "Python 3 (ipykernel)",
   "language": "python",
   "name": "python3"
  },
  "language_info": {
   "codemirror_mode": {
    "name": "ipython",
    "version": 3
   },
   "file_extension": ".py",
   "mimetype": "text/x-python",
   "name": "python",
   "nbconvert_exporter": "python",
   "pygments_lexer": "ipython3",
   "version": "3.10.6"
  }
 },
 "nbformat": 4,
 "nbformat_minor": 5
}
