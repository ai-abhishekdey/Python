{
 "cells": [
  {
   "cell_type": "markdown",
   "id": "cd4f2d4a",
   "metadata": {},
   "source": [
    "## Python Basics: 001\n",
    "\n",
    "===============================\n",
    "\n",
    "**Author: Abhishek Dey**\n",
    "\n",
    "==============================="
   ]
  },
  {
   "cell_type": "markdown",
   "id": "5943c14a",
   "metadata": {},
   "source": [
    "## Contents:"
   ]
  },
  {
   "cell_type": "markdown",
   "id": "06c125c8",
   "metadata": {},
   "source": [
    "* Python comments\n",
    "\n",
    "* variables\n",
    "\n",
    "* type()\n",
    "\n",
    "* print()\n",
    "\n",
    "* type casting\n",
    "\n",
    "* indexing \n",
    "\n",
    "* slicing\n",
    "\n",
    "* count()\n",
    "\n",
    "* find()"
   ]
  },
  {
   "cell_type": "markdown",
   "id": "85a206a2",
   "metadata": {},
   "source": [
    "## Python : Comments\n"
   ]
  },
  {
   "cell_type": "code",
   "execution_count": 1,
   "id": "3ed1a538",
   "metadata": {},
   "outputs": [
    {
     "name": "stdout",
     "output_type": "stream",
     "text": [
      "hello world\n"
     ]
    }
   ],
   "source": [
    "# Single line comment is written using hash symbol\n",
    "\n",
    "'''\n",
    "\n",
    "Multi line comment\n",
    "is written \n",
    "between tripple quotes\n",
    "\n",
    "'''\n",
    "\n",
    "print(\"hello world\")\n"
   ]
  },
  {
   "cell_type": "markdown",
   "id": "d47f30d1",
   "metadata": {},
   "source": [
    "## Python: Variables"
   ]
  },
  {
   "cell_type": "code",
   "execution_count": 2,
   "id": "3ac2f059",
   "metadata": {},
   "outputs": [],
   "source": [
    "## Declare three integer variables a,b and c \n",
    "\n",
    "a=10\n",
    "b=20\n",
    "c=30\n",
    "\n",
    "## Declare three floating point variables x,y and z \n",
    "\n",
    "x=15.5\n",
    "y=17.6\n",
    "z=38.8\n",
    "\n",
    "## Declare two string variables p and q \n",
    "\n",
    "p=\"Hello\"\n",
    "q=\"World\"\n",
    "\n",
    "## Declare two boolean variables m and n \n",
    "\n",
    "m=True\n",
    "n=False\n",
    "\n",
    "## Declare two complex number variables v and r\n",
    "\n",
    "v=15+7j\n",
    "r=10-2j"
   ]
  },
  {
   "cell_type": "markdown",
   "id": "506fcf99",
   "metadata": {},
   "source": [
    "## Python : type of data "
   ]
  },
  {
   "cell_type": "code",
   "execution_count": 3,
   "id": "3c5717f9",
   "metadata": {},
   "outputs": [
    {
     "data": {
      "text/plain": [
       "int"
      ]
     },
     "execution_count": 3,
     "metadata": {},
     "output_type": "execute_result"
    }
   ],
   "source": [
    "type(a)"
   ]
  },
  {
   "cell_type": "code",
   "execution_count": 4,
   "id": "ecd167b7",
   "metadata": {},
   "outputs": [
    {
     "data": {
      "text/plain": [
       "float"
      ]
     },
     "execution_count": 4,
     "metadata": {},
     "output_type": "execute_result"
    }
   ],
   "source": [
    "type(x)"
   ]
  },
  {
   "cell_type": "code",
   "execution_count": 5,
   "id": "d6f993e6",
   "metadata": {},
   "outputs": [
    {
     "data": {
      "text/plain": [
       "str"
      ]
     },
     "execution_count": 5,
     "metadata": {},
     "output_type": "execute_result"
    }
   ],
   "source": [
    "type(p)"
   ]
  },
  {
   "cell_type": "code",
   "execution_count": 6,
   "id": "46cfdb82",
   "metadata": {},
   "outputs": [
    {
     "data": {
      "text/plain": [
       "bool"
      ]
     },
     "execution_count": 6,
     "metadata": {},
     "output_type": "execute_result"
    }
   ],
   "source": [
    "type(m)"
   ]
  },
  {
   "cell_type": "code",
   "execution_count": 7,
   "id": "86f82c79",
   "metadata": {},
   "outputs": [
    {
     "data": {
      "text/plain": [
       "complex"
      ]
     },
     "execution_count": 7,
     "metadata": {},
     "output_type": "execute_result"
    }
   ],
   "source": [
    "type(v)"
   ]
  },
  {
   "cell_type": "markdown",
   "id": "b709209b",
   "metadata": {},
   "source": [
    "## To check the real and imaginary components of complex variables 'v' and 'r'"
   ]
  },
  {
   "cell_type": "code",
   "execution_count": 8,
   "id": "d9a51769",
   "metadata": {},
   "outputs": [
    {
     "data": {
      "text/plain": [
       "15.0"
      ]
     },
     "execution_count": 8,
     "metadata": {},
     "output_type": "execute_result"
    }
   ],
   "source": [
    "v.real"
   ]
  },
  {
   "cell_type": "code",
   "execution_count": 9,
   "id": "6fc3f099",
   "metadata": {},
   "outputs": [
    {
     "data": {
      "text/plain": [
       "7.0"
      ]
     },
     "execution_count": 9,
     "metadata": {},
     "output_type": "execute_result"
    }
   ],
   "source": [
    "v.imag"
   ]
  },
  {
   "cell_type": "code",
   "execution_count": 10,
   "id": "6599cfdb",
   "metadata": {},
   "outputs": [
    {
     "data": {
      "text/plain": [
       "10.0"
      ]
     },
     "execution_count": 10,
     "metadata": {},
     "output_type": "execute_result"
    }
   ],
   "source": [
    "r.real"
   ]
  },
  {
   "cell_type": "code",
   "execution_count": 11,
   "id": "6278020a",
   "metadata": {},
   "outputs": [
    {
     "data": {
      "text/plain": [
       "-2.0"
      ]
     },
     "execution_count": 11,
     "metadata": {},
     "output_type": "execute_result"
    }
   ],
   "source": [
    "r.imag"
   ]
  },
  {
   "cell_type": "markdown",
   "id": "31fd3645",
   "metadata": {},
   "source": [
    "## Python : Print statement"
   ]
  },
  {
   "cell_type": "code",
   "execution_count": 12,
   "id": "a3b7e5d8",
   "metadata": {},
   "outputs": [
    {
     "name": "stdout",
     "output_type": "stream",
     "text": [
      "Hello world\n"
     ]
    }
   ],
   "source": [
    "print(\"Hello world\")"
   ]
  },
  {
   "cell_type": "code",
   "execution_count": 13,
   "id": "01631633",
   "metadata": {},
   "outputs": [
    {
     "name": "stdout",
     "output_type": "stream",
     "text": [
      "10\n"
     ]
    }
   ],
   "source": [
    "print(a)"
   ]
  },
  {
   "cell_type": "code",
   "execution_count": 14,
   "id": "3a7f9887",
   "metadata": {},
   "outputs": [
    {
     "name": "stdout",
     "output_type": "stream",
     "text": [
      "15.5\n"
     ]
    }
   ],
   "source": [
    "print(x)"
   ]
  },
  {
   "cell_type": "code",
   "execution_count": 15,
   "id": "e81eddda",
   "metadata": {},
   "outputs": [
    {
     "name": "stdout",
     "output_type": "stream",
     "text": [
      "True\n"
     ]
    }
   ],
   "source": [
    "print(m)"
   ]
  },
  {
   "cell_type": "code",
   "execution_count": 16,
   "id": "8e024554",
   "metadata": {},
   "outputs": [
    {
     "name": "stdout",
     "output_type": "stream",
     "text": [
      "(15+7j)\n"
     ]
    }
   ],
   "source": [
    "print(v)"
   ]
  },
  {
   "cell_type": "code",
   "execution_count": 17,
   "id": "0ee52b53",
   "metadata": {},
   "outputs": [
    {
     "name": "stdout",
     "output_type": "stream",
     "text": [
      "sum of a and b : 30\n"
     ]
    }
   ],
   "source": [
    "print(\"sum of a and b :\", a+b)"
   ]
  },
  {
   "cell_type": "code",
   "execution_count": 18,
   "id": "7317ccf7",
   "metadata": {},
   "outputs": [
    {
     "name": "stdout",
     "output_type": "stream",
     "text": [
      "sum of 10 and 20 is : 30\n"
     ]
    }
   ],
   "source": [
    "print(\"sum of {} and {} is : {}\".format(a,b,a+b))"
   ]
  },
  {
   "cell_type": "code",
   "execution_count": 19,
   "id": "c212d8cc",
   "metadata": {},
   "outputs": [
    {
     "name": "stdout",
     "output_type": "stream",
     "text": [
      "sum of 10 and 20 is : 30\n"
     ]
    }
   ],
   "source": [
    "print(\"sum of \" + str(a) + \" and \" + str(b) + \" is : \" + str(a+b))"
   ]
  },
  {
   "cell_type": "markdown",
   "id": "0b8e3757",
   "metadata": {},
   "source": [
    "## Python : Type casting"
   ]
  },
  {
   "cell_type": "markdown",
   "id": "d3113090",
   "metadata": {},
   "source": [
    "Converstion of one data type to another"
   ]
  },
  {
   "cell_type": "markdown",
   "id": "fdfedb9c",
   "metadata": {},
   "source": [
    "### Integer to floating point"
   ]
  },
  {
   "cell_type": "code",
   "execution_count": 20,
   "id": "46f35d76",
   "metadata": {},
   "outputs": [],
   "source": [
    "a=10\n",
    "\n",
    "b=float(a)"
   ]
  },
  {
   "cell_type": "code",
   "execution_count": 21,
   "id": "25c008ed",
   "metadata": {},
   "outputs": [
    {
     "data": {
      "text/plain": [
       "(int, float)"
      ]
     },
     "execution_count": 21,
     "metadata": {},
     "output_type": "execute_result"
    }
   ],
   "source": [
    "type(a), type(b)"
   ]
  },
  {
   "cell_type": "code",
   "execution_count": 22,
   "id": "d19a4fbf",
   "metadata": {},
   "outputs": [
    {
     "data": {
      "text/plain": [
       "(10, 10.0)"
      ]
     },
     "execution_count": 22,
     "metadata": {},
     "output_type": "execute_result"
    }
   ],
   "source": [
    "a, b"
   ]
  },
  {
   "cell_type": "markdown",
   "id": "90ed0701",
   "metadata": {},
   "source": [
    "### floating point to integer"
   ]
  },
  {
   "cell_type": "code",
   "execution_count": 23,
   "id": "6d4a3132",
   "metadata": {},
   "outputs": [],
   "source": [
    "x=15.5\n",
    "\n",
    "y=int(x)"
   ]
  },
  {
   "cell_type": "code",
   "execution_count": 24,
   "id": "5f96344c",
   "metadata": {},
   "outputs": [
    {
     "data": {
      "text/plain": [
       "(float, int)"
      ]
     },
     "execution_count": 24,
     "metadata": {},
     "output_type": "execute_result"
    }
   ],
   "source": [
    "type(x), type(y)"
   ]
  },
  {
   "cell_type": "code",
   "execution_count": 25,
   "id": "110be69a",
   "metadata": {},
   "outputs": [
    {
     "data": {
      "text/plain": [
       "(15.5, 15)"
      ]
     },
     "execution_count": 25,
     "metadata": {},
     "output_type": "execute_result"
    }
   ],
   "source": [
    "x, y"
   ]
  },
  {
   "cell_type": "markdown",
   "id": "378d47f6",
   "metadata": {},
   "source": [
    "### Integer / Floating point to string"
   ]
  },
  {
   "cell_type": "code",
   "execution_count": 26,
   "id": "57a229ce",
   "metadata": {},
   "outputs": [],
   "source": [
    "a=10\n",
    "b=20.5\n",
    "\n",
    "c=str(a)\n",
    "d=str(b)"
   ]
  },
  {
   "cell_type": "code",
   "execution_count": 27,
   "id": "75ef235a",
   "metadata": {},
   "outputs": [
    {
     "data": {
      "text/plain": [
       "(int, float, str, str)"
      ]
     },
     "execution_count": 27,
     "metadata": {},
     "output_type": "execute_result"
    }
   ],
   "source": [
    "type(a), type(b), type(c), type(d)"
   ]
  },
  {
   "cell_type": "code",
   "execution_count": 28,
   "id": "79dc8295",
   "metadata": {},
   "outputs": [
    {
     "data": {
      "text/plain": [
       "(10, 20.5, '10', '20.5')"
      ]
     },
     "execution_count": 28,
     "metadata": {},
     "output_type": "execute_result"
    }
   ],
   "source": [
    "a,b,c,d"
   ]
  },
  {
   "cell_type": "markdown",
   "id": "075e27df",
   "metadata": {},
   "source": [
    "## Python : indexing"
   ]
  },
  {
   "cell_type": "markdown",
   "id": "2c2e307a",
   "metadata": {},
   "source": [
    "\n",
    "Forward indexing  : starts from [0] ------------>\n",
    "\n",
    "[0]  [1] [2] [3] [4]\n",
    "\n",
    "h     e     l     l    0\n",
    "\n",
    "[-5][-4][-3][-2][-1]\n",
    "\n",
    "Backward indexing : starts from [-1] <----------"
   ]
  },
  {
   "cell_type": "code",
   "execution_count": 29,
   "id": "9f91ca65",
   "metadata": {},
   "outputs": [],
   "source": [
    "s=\"hello\""
   ]
  },
  {
   "cell_type": "code",
   "execution_count": 30,
   "id": "1f1e408c",
   "metadata": {},
   "outputs": [
    {
     "data": {
      "text/plain": [
       "('h', 'o')"
      ]
     },
     "execution_count": 30,
     "metadata": {},
     "output_type": "execute_result"
    }
   ],
   "source": [
    "s[0], s[-1]"
   ]
  },
  {
   "cell_type": "code",
   "execution_count": 31,
   "id": "f1e9eeac",
   "metadata": {},
   "outputs": [
    {
     "data": {
      "text/plain": [
       "('e', 'l')"
      ]
     },
     "execution_count": 31,
     "metadata": {},
     "output_type": "execute_result"
    }
   ],
   "source": [
    "s[1], s[-2]"
   ]
  },
  {
   "cell_type": "code",
   "execution_count": 32,
   "id": "2614ca4a",
   "metadata": {},
   "outputs": [
    {
     "data": {
      "text/plain": [
       "('l', 'l')"
      ]
     },
     "execution_count": 32,
     "metadata": {},
     "output_type": "execute_result"
    }
   ],
   "source": [
    "s[2], s[-3]"
   ]
  },
  {
   "cell_type": "code",
   "execution_count": 33,
   "id": "21302af9",
   "metadata": {},
   "outputs": [
    {
     "data": {
      "text/plain": [
       "('l', 'e')"
      ]
     },
     "execution_count": 33,
     "metadata": {},
     "output_type": "execute_result"
    }
   ],
   "source": [
    "s[3], s[-4]"
   ]
  },
  {
   "cell_type": "code",
   "execution_count": 34,
   "id": "d37adbb3",
   "metadata": {},
   "outputs": [
    {
     "data": {
      "text/plain": [
       "('o', 'h')"
      ]
     },
     "execution_count": 34,
     "metadata": {},
     "output_type": "execute_result"
    }
   ],
   "source": [
    "s[4], s[-5]"
   ]
  },
  {
   "cell_type": "markdown",
   "id": "87cd9550",
   "metadata": {},
   "source": [
    "## Python : Slicing"
   ]
  },
  {
   "cell_type": "markdown",
   "id": "33a34199",
   "metadata": {},
   "source": [
    "syntax: string[lower_bound:upper_bound:jump]"
   ]
  },
  {
   "cell_type": "code",
   "execution_count": 39,
   "id": "3192d105",
   "metadata": {},
   "outputs": [],
   "source": [
    "s=\"hello world\""
   ]
  },
  {
   "cell_type": "code",
   "execution_count": 40,
   "id": "39e034e4",
   "metadata": {},
   "outputs": [
    {
     "data": {
      "text/plain": [
       "'hello world'"
      ]
     },
     "execution_count": 40,
     "metadata": {},
     "output_type": "execute_result"
    }
   ],
   "source": [
    "s[::]"
   ]
  },
  {
   "cell_type": "code",
   "execution_count": 41,
   "id": "cd74bc84",
   "metadata": {},
   "outputs": [
    {
     "data": {
      "text/plain": [
       "'hello world'"
      ]
     },
     "execution_count": 41,
     "metadata": {},
     "output_type": "execute_result"
    }
   ],
   "source": [
    "s[::1]"
   ]
  },
  {
   "cell_type": "code",
   "execution_count": 42,
   "id": "a2672971",
   "metadata": {},
   "outputs": [
    {
     "data": {
      "text/plain": [
       "'hello world'"
      ]
     },
     "execution_count": 42,
     "metadata": {},
     "output_type": "execute_result"
    }
   ],
   "source": [
    "s[0::1]"
   ]
  },
  {
   "cell_type": "markdown",
   "id": "f075849a",
   "metadata": {},
   "source": [
    "### Display \"hello\" from the string s=\"hello world\""
   ]
  },
  {
   "cell_type": "code",
   "execution_count": 44,
   "id": "e5fe15ce",
   "metadata": {},
   "outputs": [
    {
     "data": {
      "text/plain": [
       "'hello'"
      ]
     },
     "execution_count": 44,
     "metadata": {},
     "output_type": "execute_result"
    }
   ],
   "source": [
    "s[:5]"
   ]
  },
  {
   "cell_type": "code",
   "execution_count": 45,
   "id": "2b0f72cc",
   "metadata": {},
   "outputs": [
    {
     "data": {
      "text/plain": [
       "'hello'"
      ]
     },
     "execution_count": 45,
     "metadata": {},
     "output_type": "execute_result"
    }
   ],
   "source": [
    "s[0:5]"
   ]
  },
  {
   "cell_type": "code",
   "execution_count": 46,
   "id": "476f9afd",
   "metadata": {},
   "outputs": [
    {
     "data": {
      "text/plain": [
       "'hello'"
      ]
     },
     "execution_count": 46,
     "metadata": {},
     "output_type": "execute_result"
    }
   ],
   "source": [
    "s[0:5:1]"
   ]
  },
  {
   "cell_type": "markdown",
   "id": "1388c77c",
   "metadata": {},
   "source": [
    "### Display \"world\" from the string s=\"hello world\""
   ]
  },
  {
   "cell_type": "code",
   "execution_count": 47,
   "id": "5715ab1e",
   "metadata": {},
   "outputs": [
    {
     "data": {
      "text/plain": [
       "'world'"
      ]
     },
     "execution_count": 47,
     "metadata": {},
     "output_type": "execute_result"
    }
   ],
   "source": [
    "s[6:11]"
   ]
  },
  {
   "cell_type": "code",
   "execution_count": 48,
   "id": "0fd88d46",
   "metadata": {},
   "outputs": [
    {
     "data": {
      "text/plain": [
       "'world'"
      ]
     },
     "execution_count": 48,
     "metadata": {},
     "output_type": "execute_result"
    }
   ],
   "source": [
    "s[6:11:1]"
   ]
  },
  {
   "cell_type": "code",
   "execution_count": 54,
   "id": "bef5f9b6",
   "metadata": {},
   "outputs": [
    {
     "data": {
      "text/plain": [
       "'world'"
      ]
     },
     "execution_count": 54,
     "metadata": {},
     "output_type": "execute_result"
    }
   ],
   "source": [
    "s[-5::]"
   ]
  },
  {
   "cell_type": "code",
   "execution_count": 55,
   "id": "35bcbd69",
   "metadata": {},
   "outputs": [
    {
     "data": {
      "text/plain": [
       "'world'"
      ]
     },
     "execution_count": 55,
     "metadata": {},
     "output_type": "execute_result"
    }
   ],
   "source": [
    "s[-5::1]"
   ]
  },
  {
   "cell_type": "markdown",
   "id": "4e2d9558",
   "metadata": {},
   "source": [
    "### Display \"hello world\" in reverse order from the string s=\"hello world\""
   ]
  },
  {
   "cell_type": "code",
   "execution_count": 56,
   "id": "0ce49abc",
   "metadata": {},
   "outputs": [
    {
     "data": {
      "text/plain": [
       "'dlrow olleh'"
      ]
     },
     "execution_count": 56,
     "metadata": {},
     "output_type": "execute_result"
    }
   ],
   "source": [
    "s[::-1]"
   ]
  },
  {
   "cell_type": "code",
   "execution_count": 57,
   "id": "6de799d1",
   "metadata": {},
   "outputs": [
    {
     "data": {
      "text/plain": [
       "'dlrow olleh'"
      ]
     },
     "execution_count": 57,
     "metadata": {},
     "output_type": "execute_result"
    }
   ],
   "source": [
    "s[-1::-1]"
   ]
  },
  {
   "cell_type": "markdown",
   "id": "b3c85c37",
   "metadata": {},
   "source": [
    "### Display alternate letters from the string s=\"hello world\""
   ]
  },
  {
   "cell_type": "code",
   "execution_count": 58,
   "id": "e5776549",
   "metadata": {},
   "outputs": [
    {
     "data": {
      "text/plain": [
       "'hlowrd'"
      ]
     },
     "execution_count": 58,
     "metadata": {},
     "output_type": "execute_result"
    }
   ],
   "source": [
    "s[0::2]"
   ]
  },
  {
   "cell_type": "code",
   "execution_count": 59,
   "id": "851913fc",
   "metadata": {},
   "outputs": [
    {
     "data": {
      "text/plain": [
       "'hlowrd'"
      ]
     },
     "execution_count": 59,
     "metadata": {},
     "output_type": "execute_result"
    }
   ],
   "source": [
    "s[::2]"
   ]
  },
  {
   "cell_type": "markdown",
   "id": "7b07dfc9",
   "metadata": {},
   "source": [
    "### Display alternate letters from the string s=\"hello world\" in reverse direction"
   ]
  },
  {
   "cell_type": "code",
   "execution_count": 60,
   "id": "da72eea4",
   "metadata": {},
   "outputs": [
    {
     "data": {
      "text/plain": [
       "'drwolh'"
      ]
     },
     "execution_count": 60,
     "metadata": {},
     "output_type": "execute_result"
    }
   ],
   "source": [
    "s[::-2]"
   ]
  },
  {
   "cell_type": "code",
   "execution_count": 61,
   "id": "4e0ba82d",
   "metadata": {},
   "outputs": [
    {
     "data": {
      "text/plain": [
       "'drwolh'"
      ]
     },
     "execution_count": 61,
     "metadata": {},
     "output_type": "execute_result"
    }
   ],
   "source": [
    "s[-1::-2]"
   ]
  },
  {
   "cell_type": "markdown",
   "id": "d1165e7d",
   "metadata": {},
   "source": [
    "## Python : len function"
   ]
  },
  {
   "cell_type": "markdown",
   "id": "868e6d0a",
   "metadata": {},
   "source": [
    "len: returns length of the string or number of charaters in the string\n"
   ]
  },
  {
   "cell_type": "code",
   "execution_count": 62,
   "id": "1ce68878",
   "metadata": {},
   "outputs": [],
   "source": [
    "s=\"hello world\""
   ]
  },
  {
   "cell_type": "code",
   "execution_count": 63,
   "id": "be9220e2",
   "metadata": {},
   "outputs": [
    {
     "data": {
      "text/plain": [
       "11"
      ]
     },
     "execution_count": 63,
     "metadata": {},
     "output_type": "execute_result"
    }
   ],
   "source": [
    "len(s)"
   ]
  },
  {
   "cell_type": "markdown",
   "id": "72a862dc",
   "metadata": {},
   "source": [
    "## Python: Count function"
   ]
  },
  {
   "cell_type": "markdown",
   "id": "a39e36a4",
   "metadata": {},
   "source": [
    "count: returns the number of occurances of the substring"
   ]
  },
  {
   "cell_type": "code",
   "execution_count": 68,
   "id": "6bf3e34a",
   "metadata": {},
   "outputs": [],
   "source": [
    "s=\"hello world\""
   ]
  },
  {
   "cell_type": "code",
   "execution_count": 69,
   "id": "d970b411",
   "metadata": {},
   "outputs": [
    {
     "data": {
      "text/plain": [
       "3"
      ]
     },
     "execution_count": 69,
     "metadata": {},
     "output_type": "execute_result"
    }
   ],
   "source": [
    "s.count('l')"
   ]
  },
  {
   "cell_type": "code",
   "execution_count": 71,
   "id": "e70698fb",
   "metadata": {},
   "outputs": [
    {
     "data": {
      "text/plain": [
       "1"
      ]
     },
     "execution_count": 71,
     "metadata": {},
     "output_type": "execute_result"
    }
   ],
   "source": [
    "s.count('ll')"
   ]
  },
  {
   "cell_type": "code",
   "execution_count": 79,
   "id": "ea929f95",
   "metadata": {},
   "outputs": [
    {
     "data": {
      "text/plain": [
       "1"
      ]
     },
     "execution_count": 79,
     "metadata": {},
     "output_type": "execute_result"
    }
   ],
   "source": [
    "s.count(' ')"
   ]
  },
  {
   "cell_type": "code",
   "execution_count": 77,
   "id": "57187d97",
   "metadata": {},
   "outputs": [
    {
     "data": {
      "text/plain": [
       "0"
      ]
     },
     "execution_count": 77,
     "metadata": {},
     "output_type": "execute_result"
    }
   ],
   "source": [
    "s.count('z')"
   ]
  },
  {
   "cell_type": "markdown",
   "id": "de1e2ea7",
   "metadata": {},
   "source": [
    "## Python : find function"
   ]
  },
  {
   "cell_type": "markdown",
   "id": "3d0ed9fe",
   "metadata": {},
   "source": [
    "find : returns the lowest index / first occurance of the sub string"
   ]
  },
  {
   "cell_type": "code",
   "execution_count": 80,
   "id": "554e8fcf",
   "metadata": {},
   "outputs": [],
   "source": [
    "s=\"hello world\""
   ]
  },
  {
   "cell_type": "code",
   "execution_count": 81,
   "id": "9d973631",
   "metadata": {},
   "outputs": [
    {
     "data": {
      "text/plain": [
       "2"
      ]
     },
     "execution_count": 81,
     "metadata": {},
     "output_type": "execute_result"
    }
   ],
   "source": [
    "s.find('l')"
   ]
  },
  {
   "cell_type": "code",
   "execution_count": 82,
   "id": "3ada9f87",
   "metadata": {},
   "outputs": [
    {
     "data": {
      "text/plain": [
       "4"
      ]
     },
     "execution_count": 82,
     "metadata": {},
     "output_type": "execute_result"
    }
   ],
   "source": [
    "s.find('o')"
   ]
  },
  {
   "cell_type": "code",
   "execution_count": 83,
   "id": "f160fac1",
   "metadata": {},
   "outputs": [
    {
     "data": {
      "text/plain": [
       "-1"
      ]
     },
     "execution_count": 83,
     "metadata": {},
     "output_type": "execute_result"
    }
   ],
   "source": [
    "s.find('z')"
   ]
  },
  {
   "cell_type": "code",
   "execution_count": null,
   "id": "badd7ee2",
   "metadata": {},
   "outputs": [],
   "source": []
  }
 ],
 "metadata": {
  "kernelspec": {
   "display_name": "Python 3 (ipykernel)",
   "language": "python",
   "name": "python3"
  },
  "language_info": {
   "codemirror_mode": {
    "name": "ipython",
    "version": 3
   },
   "file_extension": ".py",
   "mimetype": "text/x-python",
   "name": "python",
   "nbconvert_exporter": "python",
   "pygments_lexer": "ipython3",
   "version": "3.10.6"
  }
 },
 "nbformat": 4,
 "nbformat_minor": 5
}
